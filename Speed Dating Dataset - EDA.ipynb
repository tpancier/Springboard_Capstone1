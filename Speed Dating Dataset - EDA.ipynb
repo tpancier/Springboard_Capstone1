{
 "cells": [
  {
   "cell_type": "markdown",
   "metadata": {},
   "source": [
    "# 3) EDA"
   ]
  },
  {
   "cell_type": "markdown",
   "metadata": {},
   "source": [
    "**Stats for categorical data**"
   ]
  },
  {
   "cell_type": "code",
   "execution_count": 1,
   "metadata": {},
   "outputs": [
    {
     "data": {
      "text/plain": [
       "(8378, 70)"
      ]
     },
     "execution_count": 1,
     "metadata": {},
     "output_type": "execute_result"
    }
   ],
   "source": [
    "import pandas as pd\n",
    "import matplotlib.pyplot as plt\n",
    "import seaborn as sns\n",
    "\n",
    "dating_data_clean = pd.read_csv('dating_data_clean.csv')\n",
    "dating_data_clean.shape"
   ]
  },
  {
   "cell_type": "code",
   "execution_count": 2,
   "metadata": {},
   "outputs": [
    {
     "data": {
      "text/plain": [
       "(8130, 70)"
      ]
     },
     "execution_count": 2,
     "metadata": {},
     "output_type": "execute_result"
    }
   ],
   "source": [
    "# Drop rows with zero in like:\n",
    "\n",
    "dating_data_clean['like'] != 0\n",
    "dating_data_clean = dating_data_clean[dating_data_clean['like'] != 0]\n",
    "dating_data_clean.shape"
   ]
  },
  {
   "cell_type": "code",
   "execution_count": 3,
   "metadata": {},
   "outputs": [
    {
     "data": {
      "text/plain": [
       "['iid',\n",
       " 'id',\n",
       " 'gender',\n",
       " 'idg',\n",
       " 'wave',\n",
       " 'partner',\n",
       " 'pid',\n",
       " 'match',\n",
       " 'dec_o',\n",
       " 'field_cd',\n",
       " 'goal',\n",
       " 'date',\n",
       " 'go_out',\n",
       " 'career_c',\n",
       " 'dec',\n",
       " 'met',\n",
       " 'date_3']"
      ]
     },
     "execution_count": 3,
     "metadata": {},
     "output_type": "execute_result"
    }
   ],
   "source": [
    "data_columns = pd.read_csv(\"data_columns.csv\")\n",
    "\n",
    "cat_col = list(data_columns[(data_columns['Variable_type'] == 'Categorical')  & (data_columns['Drop_column'] != 'x')]['Column'])\n",
    "cat_col"
   ]
  },
  {
   "cell_type": "code",
   "execution_count": 4,
   "metadata": {},
   "outputs": [
    {
     "data": {
      "text/plain": [
       "['iid',\n",
       " 'gender',\n",
       " 'idg',\n",
       " 'partner',\n",
       " 'pid',\n",
       " 'match',\n",
       " 'dec_o',\n",
       " 'field_cd',\n",
       " 'goal',\n",
       " 'date',\n",
       " 'go_out',\n",
       " 'career_c',\n",
       " 'dec',\n",
       " 'met']"
      ]
     },
     "execution_count": 4,
     "metadata": {},
     "output_type": "execute_result"
    }
   ],
   "source": [
    "for column in cat_col:\n",
    "    if column not in dating_data_clean:\n",
    "        cat_col.remove(column)\n",
    "\n",
    "cat_col"
   ]
  },
  {
   "cell_type": "code",
   "execution_count": 5,
   "metadata": {},
   "outputs": [
    {
     "data": {
      "text/plain": [
       "['pf_o_att',\n",
       " 'pf_o_sin',\n",
       " 'pf_o_int',\n",
       " 'pf_o_fun',\n",
       " 'pf_o_amb',\n",
       " 'pf_o_sha',\n",
       " 'attr_o',\n",
       " 'sinc_o',\n",
       " 'intel_o',\n",
       " 'fun_o',\n",
       " 'amb_o',\n",
       " 'shar_o',\n",
       " 'like_o',\n",
       " 'prob_o',\n",
       " 'met_o',\n",
       " 'age',\n",
       " 'sports',\n",
       " 'tvsports',\n",
       " 'exercise',\n",
       " 'dining',\n",
       " 'museums',\n",
       " 'art',\n",
       " 'hiking',\n",
       " 'gaming',\n",
       " 'clubbing',\n",
       " 'reading',\n",
       " 'tv',\n",
       " 'theater',\n",
       " 'movies',\n",
       " 'concerts',\n",
       " 'music',\n",
       " 'shopping',\n",
       " 'yoga',\n",
       " 'exphappy',\n",
       " 'expnum',\n",
       " 'attr1_1',\n",
       " 'sinc1_1',\n",
       " 'intel1_1',\n",
       " 'fun1_1',\n",
       " 'amb1_1',\n",
       " 'shar1_1',\n",
       " 'attr',\n",
       " 'sinc',\n",
       " 'intel',\n",
       " 'fun',\n",
       " 'amb',\n",
       " 'shar',\n",
       " 'like',\n",
       " 'prob',\n",
       " 'match_es',\n",
       " 'attr3_s',\n",
       " 'sinc3_s',\n",
       " 'intel3_s',\n",
       " 'fun3_s',\n",
       " 'amb3_s',\n",
       " 'dist_signup']"
      ]
     },
     "execution_count": 5,
     "metadata": {},
     "output_type": "execute_result"
    }
   ],
   "source": [
    "cat_num = []\n",
    "for item in list(dating_data_clean.columns):\n",
    "    if item not in cat_col:\n",
    "        cat_num.append(item)\n",
    "\n",
    "cat_num"
   ]
  },
  {
   "cell_type": "markdown",
   "metadata": {},
   "source": [
    "**Stats for categorical data**"
   ]
  },
  {
   "cell_type": "code",
   "execution_count": 6,
   "metadata": {},
   "outputs": [
    {
     "data": {
      "text/html": [
       "<div>\n",
       "<style>\n",
       "    .dataframe thead tr:only-child th {\n",
       "        text-align: right;\n",
       "    }\n",
       "\n",
       "    .dataframe thead th {\n",
       "        text-align: left;\n",
       "    }\n",
       "\n",
       "    .dataframe tbody tr th {\n",
       "        vertical-align: top;\n",
       "    }\n",
       "</style>\n",
       "<table border=\"1\" class=\"dataframe\">\n",
       "  <thead>\n",
       "    <tr style=\"text-align: right;\">\n",
       "      <th></th>\n",
       "      <th>iid</th>\n",
       "      <th>gender</th>\n",
       "      <th>idg</th>\n",
       "      <th>partner</th>\n",
       "      <th>pid</th>\n",
       "      <th>match</th>\n",
       "      <th>dec_o</th>\n",
       "      <th>field_cd</th>\n",
       "      <th>goal</th>\n",
       "      <th>date</th>\n",
       "      <th>go_out</th>\n",
       "      <th>career_c</th>\n",
       "      <th>dec</th>\n",
       "      <th>met</th>\n",
       "    </tr>\n",
       "  </thead>\n",
       "  <tbody>\n",
       "    <tr>\n",
       "      <th>count</th>\n",
       "      <td>8130.000000</td>\n",
       "      <td>8130.000000</td>\n",
       "      <td>8130.000000</td>\n",
       "      <td>8130.000000</td>\n",
       "      <td>8130.000000</td>\n",
       "      <td>8130.000000</td>\n",
       "      <td>8130.000000</td>\n",
       "      <td>8057.000000</td>\n",
       "      <td>8061.000000</td>\n",
       "      <td>8043.000000</td>\n",
       "      <td>8061.000000</td>\n",
       "      <td>8002.000000</td>\n",
       "      <td>8130.000000</td>\n",
       "      <td>7957.000000</td>\n",
       "    </tr>\n",
       "    <tr>\n",
       "      <th>mean</th>\n",
       "      <td>281.257073</td>\n",
       "      <td>0.502829</td>\n",
       "      <td>17.285486</td>\n",
       "      <td>8.938991</td>\n",
       "      <td>281.174047</td>\n",
       "      <td>0.169250</td>\n",
       "      <td>0.426691</td>\n",
       "      <td>7.655703</td>\n",
       "      <td>2.121449</td>\n",
       "      <td>5.003854</td>\n",
       "      <td>2.157673</td>\n",
       "      <td>5.258185</td>\n",
       "      <td>0.430627</td>\n",
       "      <td>0.949604</td>\n",
       "    </tr>\n",
       "    <tr>\n",
       "      <th>std</th>\n",
       "      <td>158.173427</td>\n",
       "      <td>0.500023</td>\n",
       "      <td>10.931250</td>\n",
       "      <td>5.478413</td>\n",
       "      <td>158.148539</td>\n",
       "      <td>0.374995</td>\n",
       "      <td>0.494627</td>\n",
       "      <td>3.744856</td>\n",
       "      <td>1.407799</td>\n",
       "      <td>1.445214</td>\n",
       "      <td>1.107643</td>\n",
       "      <td>3.305784</td>\n",
       "      <td>0.495194</td>\n",
       "      <td>0.989944</td>\n",
       "    </tr>\n",
       "    <tr>\n",
       "      <th>min</th>\n",
       "      <td>1.000000</td>\n",
       "      <td>0.000000</td>\n",
       "      <td>1.000000</td>\n",
       "      <td>1.000000</td>\n",
       "      <td>1.000000</td>\n",
       "      <td>0.000000</td>\n",
       "      <td>0.000000</td>\n",
       "      <td>1.000000</td>\n",
       "      <td>1.000000</td>\n",
       "      <td>1.000000</td>\n",
       "      <td>1.000000</td>\n",
       "      <td>1.000000</td>\n",
       "      <td>0.000000</td>\n",
       "      <td>0.000000</td>\n",
       "    </tr>\n",
       "    <tr>\n",
       "      <th>25%</th>\n",
       "      <td>152.000000</td>\n",
       "      <td>0.000000</td>\n",
       "      <td>8.000000</td>\n",
       "      <td>4.000000</td>\n",
       "      <td>152.000000</td>\n",
       "      <td>0.000000</td>\n",
       "      <td>0.000000</td>\n",
       "      <td>5.000000</td>\n",
       "      <td>1.000000</td>\n",
       "      <td>4.000000</td>\n",
       "      <td>1.000000</td>\n",
       "      <td>2.000000</td>\n",
       "      <td>0.000000</td>\n",
       "      <td>0.000000</td>\n",
       "    </tr>\n",
       "    <tr>\n",
       "      <th>50%</th>\n",
       "      <td>278.000000</td>\n",
       "      <td>1.000000</td>\n",
       "      <td>16.000000</td>\n",
       "      <td>8.000000</td>\n",
       "      <td>278.000000</td>\n",
       "      <td>0.000000</td>\n",
       "      <td>0.000000</td>\n",
       "      <td>8.000000</td>\n",
       "      <td>2.000000</td>\n",
       "      <td>5.000000</td>\n",
       "      <td>2.000000</td>\n",
       "      <td>6.000000</td>\n",
       "      <td>0.000000</td>\n",
       "      <td>0.000000</td>\n",
       "    </tr>\n",
       "    <tr>\n",
       "      <th>75%</th>\n",
       "      <td>406.000000</td>\n",
       "      <td>1.000000</td>\n",
       "      <td>26.000000</td>\n",
       "      <td>13.000000</td>\n",
       "      <td>406.000000</td>\n",
       "      <td>0.000000</td>\n",
       "      <td>1.000000</td>\n",
       "      <td>10.000000</td>\n",
       "      <td>2.000000</td>\n",
       "      <td>6.000000</td>\n",
       "      <td>3.000000</td>\n",
       "      <td>7.000000</td>\n",
       "      <td>1.000000</td>\n",
       "      <td>2.000000</td>\n",
       "    </tr>\n",
       "    <tr>\n",
       "      <th>max</th>\n",
       "      <td>552.000000</td>\n",
       "      <td>1.000000</td>\n",
       "      <td>44.000000</td>\n",
       "      <td>22.000000</td>\n",
       "      <td>552.000000</td>\n",
       "      <td>1.000000</td>\n",
       "      <td>1.000000</td>\n",
       "      <td>18.000000</td>\n",
       "      <td>6.000000</td>\n",
       "      <td>7.000000</td>\n",
       "      <td>7.000000</td>\n",
       "      <td>17.000000</td>\n",
       "      <td>1.000000</td>\n",
       "      <td>8.000000</td>\n",
       "    </tr>\n",
       "  </tbody>\n",
       "</table>\n",
       "</div>"
      ],
      "text/plain": [
       "               iid       gender          idg      partner          pid  \\\n",
       "count  8130.000000  8130.000000  8130.000000  8130.000000  8130.000000   \n",
       "mean    281.257073     0.502829    17.285486     8.938991   281.174047   \n",
       "std     158.173427     0.500023    10.931250     5.478413   158.148539   \n",
       "min       1.000000     0.000000     1.000000     1.000000     1.000000   \n",
       "25%     152.000000     0.000000     8.000000     4.000000   152.000000   \n",
       "50%     278.000000     1.000000    16.000000     8.000000   278.000000   \n",
       "75%     406.000000     1.000000    26.000000    13.000000   406.000000   \n",
       "max     552.000000     1.000000    44.000000    22.000000   552.000000   \n",
       "\n",
       "             match        dec_o     field_cd         goal         date  \\\n",
       "count  8130.000000  8130.000000  8057.000000  8061.000000  8043.000000   \n",
       "mean      0.169250     0.426691     7.655703     2.121449     5.003854   \n",
       "std       0.374995     0.494627     3.744856     1.407799     1.445214   \n",
       "min       0.000000     0.000000     1.000000     1.000000     1.000000   \n",
       "25%       0.000000     0.000000     5.000000     1.000000     4.000000   \n",
       "50%       0.000000     0.000000     8.000000     2.000000     5.000000   \n",
       "75%       0.000000     1.000000    10.000000     2.000000     6.000000   \n",
       "max       1.000000     1.000000    18.000000     6.000000     7.000000   \n",
       "\n",
       "            go_out     career_c          dec          met  \n",
       "count  8061.000000  8002.000000  8130.000000  7957.000000  \n",
       "mean      2.157673     5.258185     0.430627     0.949604  \n",
       "std       1.107643     3.305784     0.495194     0.989944  \n",
       "min       1.000000     1.000000     0.000000     0.000000  \n",
       "25%       1.000000     2.000000     0.000000     0.000000  \n",
       "50%       2.000000     6.000000     0.000000     0.000000  \n",
       "75%       3.000000     7.000000     1.000000     2.000000  \n",
       "max       7.000000    17.000000     1.000000     8.000000  "
      ]
     },
     "execution_count": 6,
     "metadata": {},
     "output_type": "execute_result"
    }
   ],
   "source": [
    "dating_data_clean[cat_col].describe()"
   ]
  },
  {
   "cell_type": "markdown",
   "metadata": {},
   "source": [
    "**Stats for numerical data**"
   ]
  },
  {
   "cell_type": "code",
   "execution_count": 7,
   "metadata": {},
   "outputs": [
    {
     "data": {
      "text/html": [
       "<div>\n",
       "<style>\n",
       "    .dataframe thead tr:only-child th {\n",
       "        text-align: right;\n",
       "    }\n",
       "\n",
       "    .dataframe thead th {\n",
       "        text-align: left;\n",
       "    }\n",
       "\n",
       "    .dataframe tbody tr th {\n",
       "        vertical-align: top;\n",
       "    }\n",
       "</style>\n",
       "<table border=\"1\" class=\"dataframe\">\n",
       "  <thead>\n",
       "    <tr style=\"text-align: right;\">\n",
       "      <th></th>\n",
       "      <th>pf_o_att</th>\n",
       "      <th>pf_o_sin</th>\n",
       "      <th>pf_o_int</th>\n",
       "      <th>pf_o_fun</th>\n",
       "      <th>pf_o_amb</th>\n",
       "      <th>pf_o_sha</th>\n",
       "      <th>attr_o</th>\n",
       "      <th>sinc_o</th>\n",
       "      <th>intel_o</th>\n",
       "      <th>fun_o</th>\n",
       "      <th>amb_o</th>\n",
       "      <th>shar_o</th>\n",
       "      <th>like_o</th>\n",
       "      <th>prob_o</th>\n",
       "      <th>met_o</th>\n",
       "      <th>age</th>\n",
       "      <th>sports</th>\n",
       "      <th>tvsports</th>\n",
       "      <th>exercise</th>\n",
       "      <th>dining</th>\n",
       "    </tr>\n",
       "  </thead>\n",
       "  <tbody>\n",
       "    <tr>\n",
       "      <th>count</th>\n",
       "      <td>8130.000000</td>\n",
       "      <td>8130.000000</td>\n",
       "      <td>8130.000000</td>\n",
       "      <td>8130.000000</td>\n",
       "      <td>8130.000000</td>\n",
       "      <td>8130.000000</td>\n",
       "      <td>8130.000000</td>\n",
       "      <td>8130.000000</td>\n",
       "      <td>8130.000000</td>\n",
       "      <td>8130.000000</td>\n",
       "      <td>8130.000000</td>\n",
       "      <td>8130.000000</td>\n",
       "      <td>8130.000000</td>\n",
       "      <td>8130.000000</td>\n",
       "      <td>8130.000000</td>\n",
       "      <td>8048.000000</td>\n",
       "      <td>8061.000000</td>\n",
       "      <td>8061.000000</td>\n",
       "      <td>8061.000000</td>\n",
       "      <td>8061.000000</td>\n",
       "    </tr>\n",
       "    <tr>\n",
       "      <th>mean</th>\n",
       "      <td>0.222107</td>\n",
       "      <td>0.172365</td>\n",
       "      <td>0.200896</td>\n",
       "      <td>0.172457</td>\n",
       "      <td>0.105650</td>\n",
       "      <td>0.116563</td>\n",
       "      <td>0.163884</td>\n",
       "      <td>0.187610</td>\n",
       "      <td>0.192557</td>\n",
       "      <td>0.161870</td>\n",
       "      <td>0.163532</td>\n",
       "      <td>0.121938</td>\n",
       "      <td>6.055375</td>\n",
       "      <td>5.096740</td>\n",
       "      <td>1.900000</td>\n",
       "      <td>26.349776</td>\n",
       "      <td>6.442005</td>\n",
       "      <td>4.593475</td>\n",
       "      <td>6.252822</td>\n",
       "      <td>7.781045</td>\n",
       "    </tr>\n",
       "    <tr>\n",
       "      <th>std</th>\n",
       "      <td>0.126758</td>\n",
       "      <td>0.072189</td>\n",
       "      <td>0.070595</td>\n",
       "      <td>0.063222</td>\n",
       "      <td>0.060819</td>\n",
       "      <td>0.064700</td>\n",
       "      <td>0.060827</td>\n",
       "      <td>0.053763</td>\n",
       "      <td>0.050290</td>\n",
       "      <td>0.047725</td>\n",
       "      <td>0.059980</td>\n",
       "      <td>0.059964</td>\n",
       "      <td>1.963109</td>\n",
       "      <td>2.241979</td>\n",
       "      <td>0.416137</td>\n",
       "      <td>3.568158</td>\n",
       "      <td>2.610205</td>\n",
       "      <td>2.799167</td>\n",
       "      <td>2.414666</td>\n",
       "      <td>1.756538</td>\n",
       "    </tr>\n",
       "    <tr>\n",
       "      <th>min</th>\n",
       "      <td>0.000000</td>\n",
       "      <td>0.000000</td>\n",
       "      <td>0.000000</td>\n",
       "      <td>0.000000</td>\n",
       "      <td>0.000000</td>\n",
       "      <td>0.000000</td>\n",
       "      <td>0.000000</td>\n",
       "      <td>0.000000</td>\n",
       "      <td>0.000000</td>\n",
       "      <td>0.000000</td>\n",
       "      <td>0.000000</td>\n",
       "      <td>0.000000</td>\n",
       "      <td>0.000000</td>\n",
       "      <td>0.000000</td>\n",
       "      <td>0.000000</td>\n",
       "      <td>18.000000</td>\n",
       "      <td>1.000000</td>\n",
       "      <td>1.000000</td>\n",
       "      <td>1.000000</td>\n",
       "      <td>1.000000</td>\n",
       "    </tr>\n",
       "    <tr>\n",
       "      <th>25%</th>\n",
       "      <td>0.150000</td>\n",
       "      <td>0.150000</td>\n",
       "      <td>0.173100</td>\n",
       "      <td>0.150000</td>\n",
       "      <td>0.050000</td>\n",
       "      <td>0.080000</td>\n",
       "      <td>0.137931</td>\n",
       "      <td>0.166667</td>\n",
       "      <td>0.170213</td>\n",
       "      <td>0.146341</td>\n",
       "      <td>0.148936</td>\n",
       "      <td>0.095238</td>\n",
       "      <td>5.000000</td>\n",
       "      <td>4.000000</td>\n",
       "      <td>2.000000</td>\n",
       "      <td>24.000000</td>\n",
       "      <td>5.000000</td>\n",
       "      <td>2.000000</td>\n",
       "      <td>5.000000</td>\n",
       "      <td>7.000000</td>\n",
       "    </tr>\n",
       "    <tr>\n",
       "      <th>50%</th>\n",
       "      <td>0.200000</td>\n",
       "      <td>0.180000</td>\n",
       "      <td>0.200000</td>\n",
       "      <td>0.180000</td>\n",
       "      <td>0.100000</td>\n",
       "      <td>0.102600</td>\n",
       "      <td>0.162791</td>\n",
       "      <td>0.181818</td>\n",
       "      <td>0.187500</td>\n",
       "      <td>0.166667</td>\n",
       "      <td>0.166667</td>\n",
       "      <td>0.136364</td>\n",
       "      <td>6.000000</td>\n",
       "      <td>5.000000</td>\n",
       "      <td>2.000000</td>\n",
       "      <td>26.000000</td>\n",
       "      <td>7.000000</td>\n",
       "      <td>4.000000</td>\n",
       "      <td>7.000000</td>\n",
       "      <td>8.000000</td>\n",
       "    </tr>\n",
       "    <tr>\n",
       "      <th>75%</th>\n",
       "      <td>0.250000</td>\n",
       "      <td>0.200000</td>\n",
       "      <td>0.230800</td>\n",
       "      <td>0.200000</td>\n",
       "      <td>0.150000</td>\n",
       "      <td>0.156869</td>\n",
       "      <td>0.185185</td>\n",
       "      <td>0.206897</td>\n",
       "      <td>0.210526</td>\n",
       "      <td>0.184211</td>\n",
       "      <td>0.190476</td>\n",
       "      <td>0.162791</td>\n",
       "      <td>7.000000</td>\n",
       "      <td>7.000000</td>\n",
       "      <td>2.000000</td>\n",
       "      <td>28.000000</td>\n",
       "      <td>9.000000</td>\n",
       "      <td>7.000000</td>\n",
       "      <td>8.000000</td>\n",
       "      <td>9.000000</td>\n",
       "    </tr>\n",
       "    <tr>\n",
       "      <th>max</th>\n",
       "      <td>1.000000</td>\n",
       "      <td>0.600000</td>\n",
       "      <td>0.500000</td>\n",
       "      <td>0.500000</td>\n",
       "      <td>0.358108</td>\n",
       "      <td>0.300000</td>\n",
       "      <td>1.000000</td>\n",
       "      <td>0.909091</td>\n",
       "      <td>0.692308</td>\n",
       "      <td>0.562500</td>\n",
       "      <td>0.583333</td>\n",
       "      <td>0.470588</td>\n",
       "      <td>10.000000</td>\n",
       "      <td>10.000000</td>\n",
       "      <td>8.000000</td>\n",
       "      <td>55.000000</td>\n",
       "      <td>10.000000</td>\n",
       "      <td>10.000000</td>\n",
       "      <td>10.000000</td>\n",
       "      <td>10.000000</td>\n",
       "    </tr>\n",
       "  </tbody>\n",
       "</table>\n",
       "</div>"
      ],
      "text/plain": [
       "          pf_o_att     pf_o_sin     pf_o_int     pf_o_fun     pf_o_amb  \\\n",
       "count  8130.000000  8130.000000  8130.000000  8130.000000  8130.000000   \n",
       "mean      0.222107     0.172365     0.200896     0.172457     0.105650   \n",
       "std       0.126758     0.072189     0.070595     0.063222     0.060819   \n",
       "min       0.000000     0.000000     0.000000     0.000000     0.000000   \n",
       "25%       0.150000     0.150000     0.173100     0.150000     0.050000   \n",
       "50%       0.200000     0.180000     0.200000     0.180000     0.100000   \n",
       "75%       0.250000     0.200000     0.230800     0.200000     0.150000   \n",
       "max       1.000000     0.600000     0.500000     0.500000     0.358108   \n",
       "\n",
       "          pf_o_sha       attr_o       sinc_o      intel_o        fun_o  \\\n",
       "count  8130.000000  8130.000000  8130.000000  8130.000000  8130.000000   \n",
       "mean      0.116563     0.163884     0.187610     0.192557     0.161870   \n",
       "std       0.064700     0.060827     0.053763     0.050290     0.047725   \n",
       "min       0.000000     0.000000     0.000000     0.000000     0.000000   \n",
       "25%       0.080000     0.137931     0.166667     0.170213     0.146341   \n",
       "50%       0.102600     0.162791     0.181818     0.187500     0.166667   \n",
       "75%       0.156869     0.185185     0.206897     0.210526     0.184211   \n",
       "max       0.300000     1.000000     0.909091     0.692308     0.562500   \n",
       "\n",
       "             amb_o       shar_o       like_o       prob_o        met_o  \\\n",
       "count  8130.000000  8130.000000  8130.000000  8130.000000  8130.000000   \n",
       "mean      0.163532     0.121938     6.055375     5.096740     1.900000   \n",
       "std       0.059980     0.059964     1.963109     2.241979     0.416137   \n",
       "min       0.000000     0.000000     0.000000     0.000000     0.000000   \n",
       "25%       0.148936     0.095238     5.000000     4.000000     2.000000   \n",
       "50%       0.166667     0.136364     6.000000     5.000000     2.000000   \n",
       "75%       0.190476     0.162791     7.000000     7.000000     2.000000   \n",
       "max       0.583333     0.470588    10.000000    10.000000     8.000000   \n",
       "\n",
       "               age       sports     tvsports     exercise       dining  \n",
       "count  8048.000000  8061.000000  8061.000000  8061.000000  8061.000000  \n",
       "mean     26.349776     6.442005     4.593475     6.252822     7.781045  \n",
       "std       3.568158     2.610205     2.799167     2.414666     1.756538  \n",
       "min      18.000000     1.000000     1.000000     1.000000     1.000000  \n",
       "25%      24.000000     5.000000     2.000000     5.000000     7.000000  \n",
       "50%      26.000000     7.000000     4.000000     7.000000     8.000000  \n",
       "75%      28.000000     9.000000     7.000000     8.000000     9.000000  \n",
       "max      55.000000    10.000000    10.000000    10.000000    10.000000  "
      ]
     },
     "execution_count": 7,
     "metadata": {},
     "output_type": "execute_result"
    }
   ],
   "source": [
    "dating_data_clean[cat_num[0:20]].describe()"
   ]
  },
  {
   "cell_type": "code",
   "execution_count": 8,
   "metadata": {},
   "outputs": [
    {
     "data": {
      "text/html": [
       "<div>\n",
       "<style>\n",
       "    .dataframe thead tr:only-child th {\n",
       "        text-align: right;\n",
       "    }\n",
       "\n",
       "    .dataframe thead th {\n",
       "        text-align: left;\n",
       "    }\n",
       "\n",
       "    .dataframe tbody tr th {\n",
       "        vertical-align: top;\n",
       "    }\n",
       "</style>\n",
       "<table border=\"1\" class=\"dataframe\">\n",
       "  <thead>\n",
       "    <tr style=\"text-align: right;\">\n",
       "      <th></th>\n",
       "      <th>museums</th>\n",
       "      <th>art</th>\n",
       "      <th>hiking</th>\n",
       "      <th>gaming</th>\n",
       "      <th>clubbing</th>\n",
       "      <th>reading</th>\n",
       "      <th>tv</th>\n",
       "      <th>theater</th>\n",
       "      <th>movies</th>\n",
       "      <th>concerts</th>\n",
       "      <th>music</th>\n",
       "      <th>shopping</th>\n",
       "      <th>yoga</th>\n",
       "      <th>exphappy</th>\n",
       "      <th>expnum</th>\n",
       "      <th>attr1_1</th>\n",
       "      <th>sinc1_1</th>\n",
       "      <th>intel1_1</th>\n",
       "      <th>fun1_1</th>\n",
       "      <th>amb1_1</th>\n",
       "    </tr>\n",
       "  </thead>\n",
       "  <tbody>\n",
       "    <tr>\n",
       "      <th>count</th>\n",
       "      <td>8061.000000</td>\n",
       "      <td>8061.000000</td>\n",
       "      <td>8061.000000</td>\n",
       "      <td>8061.000000</td>\n",
       "      <td>8061.000000</td>\n",
       "      <td>8061.000000</td>\n",
       "      <td>8061.000000</td>\n",
       "      <td>8061.000000</td>\n",
       "      <td>8061.000000</td>\n",
       "      <td>8061.000000</td>\n",
       "      <td>8061.000000</td>\n",
       "      <td>8061.000000</td>\n",
       "      <td>8061.000000</td>\n",
       "      <td>8043.000000</td>\n",
       "      <td>1779.000000</td>\n",
       "      <td>8130.000000</td>\n",
       "      <td>8130.000000</td>\n",
       "      <td>8130.000000</td>\n",
       "      <td>8130.000000</td>\n",
       "      <td>8130.000000</td>\n",
       "    </tr>\n",
       "    <tr>\n",
       "      <th>mean</th>\n",
       "      <td>6.986850</td>\n",
       "      <td>6.715668</td>\n",
       "      <td>5.748666</td>\n",
       "      <td>3.881776</td>\n",
       "      <td>5.744449</td>\n",
       "      <td>7.683166</td>\n",
       "      <td>5.305669</td>\n",
       "      <td>6.784146</td>\n",
       "      <td>7.930406</td>\n",
       "      <td>6.826076</td>\n",
       "      <td>7.848034</td>\n",
       "      <td>5.639995</td>\n",
       "      <td>4.345243</td>\n",
       "      <td>5.530150</td>\n",
       "      <td>5.596965</td>\n",
       "      <td>0.223132</td>\n",
       "      <td>0.172429</td>\n",
       "      <td>0.201211</td>\n",
       "      <td>0.172521</td>\n",
       "      <td>0.105686</td>\n",
       "    </tr>\n",
       "    <tr>\n",
       "      <th>std</th>\n",
       "      <td>2.054608</td>\n",
       "      <td>2.266771</td>\n",
       "      <td>2.574903</td>\n",
       "      <td>2.612917</td>\n",
       "      <td>2.502445</td>\n",
       "      <td>1.998474</td>\n",
       "      <td>2.532587</td>\n",
       "      <td>2.232192</td>\n",
       "      <td>1.693586</td>\n",
       "      <td>2.161362</td>\n",
       "      <td>1.787079</td>\n",
       "      <td>2.609661</td>\n",
       "      <td>2.721530</td>\n",
       "      <td>1.733609</td>\n",
       "      <td>4.776326</td>\n",
       "      <td>0.127239</td>\n",
       "      <td>0.072053</td>\n",
       "      <td>0.070227</td>\n",
       "      <td>0.062918</td>\n",
       "      <td>0.060669</td>\n",
       "    </tr>\n",
       "    <tr>\n",
       "      <th>min</th>\n",
       "      <td>0.000000</td>\n",
       "      <td>0.000000</td>\n",
       "      <td>0.000000</td>\n",
       "      <td>0.000000</td>\n",
       "      <td>0.000000</td>\n",
       "      <td>1.000000</td>\n",
       "      <td>1.000000</td>\n",
       "      <td>0.000000</td>\n",
       "      <td>0.000000</td>\n",
       "      <td>0.000000</td>\n",
       "      <td>1.000000</td>\n",
       "      <td>1.000000</td>\n",
       "      <td>0.000000</td>\n",
       "      <td>1.000000</td>\n",
       "      <td>0.000000</td>\n",
       "      <td>0.000000</td>\n",
       "      <td>0.000000</td>\n",
       "      <td>0.000000</td>\n",
       "      <td>0.000000</td>\n",
       "      <td>0.000000</td>\n",
       "    </tr>\n",
       "    <tr>\n",
       "      <th>25%</th>\n",
       "      <td>6.000000</td>\n",
       "      <td>5.000000</td>\n",
       "      <td>4.000000</td>\n",
       "      <td>2.000000</td>\n",
       "      <td>4.000000</td>\n",
       "      <td>7.000000</td>\n",
       "      <td>3.000000</td>\n",
       "      <td>5.000000</td>\n",
       "      <td>7.000000</td>\n",
       "      <td>5.000000</td>\n",
       "      <td>7.000000</td>\n",
       "      <td>4.000000</td>\n",
       "      <td>2.000000</td>\n",
       "      <td>5.000000</td>\n",
       "      <td>2.000000</td>\n",
       "      <td>0.150000</td>\n",
       "      <td>0.147803</td>\n",
       "      <td>0.173100</td>\n",
       "      <td>0.150000</td>\n",
       "      <td>0.050000</td>\n",
       "    </tr>\n",
       "    <tr>\n",
       "      <th>50%</th>\n",
       "      <td>7.000000</td>\n",
       "      <td>7.000000</td>\n",
       "      <td>6.000000</td>\n",
       "      <td>3.000000</td>\n",
       "      <td>6.000000</td>\n",
       "      <td>8.000000</td>\n",
       "      <td>6.000000</td>\n",
       "      <td>7.000000</td>\n",
       "      <td>8.000000</td>\n",
       "      <td>7.000000</td>\n",
       "      <td>8.000000</td>\n",
       "      <td>6.000000</td>\n",
       "      <td>4.000000</td>\n",
       "      <td>6.000000</td>\n",
       "      <td>4.000000</td>\n",
       "      <td>0.200000</td>\n",
       "      <td>0.180000</td>\n",
       "      <td>0.200000</td>\n",
       "      <td>0.180000</td>\n",
       "      <td>0.100000</td>\n",
       "    </tr>\n",
       "    <tr>\n",
       "      <th>75%</th>\n",
       "      <td>8.000000</td>\n",
       "      <td>8.000000</td>\n",
       "      <td>8.000000</td>\n",
       "      <td>6.000000</td>\n",
       "      <td>8.000000</td>\n",
       "      <td>9.000000</td>\n",
       "      <td>7.000000</td>\n",
       "      <td>9.000000</td>\n",
       "      <td>9.000000</td>\n",
       "      <td>8.000000</td>\n",
       "      <td>9.000000</td>\n",
       "      <td>8.000000</td>\n",
       "      <td>7.000000</td>\n",
       "      <td>7.000000</td>\n",
       "      <td>8.000000</td>\n",
       "      <td>0.250000</td>\n",
       "      <td>0.200000</td>\n",
       "      <td>0.230800</td>\n",
       "      <td>0.200000</td>\n",
       "      <td>0.150000</td>\n",
       "    </tr>\n",
       "    <tr>\n",
       "      <th>max</th>\n",
       "      <td>10.000000</td>\n",
       "      <td>10.000000</td>\n",
       "      <td>10.000000</td>\n",
       "      <td>14.000000</td>\n",
       "      <td>10.000000</td>\n",
       "      <td>13.000000</td>\n",
       "      <td>10.000000</td>\n",
       "      <td>10.000000</td>\n",
       "      <td>10.000000</td>\n",
       "      <td>10.000000</td>\n",
       "      <td>10.000000</td>\n",
       "      <td>10.000000</td>\n",
       "      <td>10.000000</td>\n",
       "      <td>10.000000</td>\n",
       "      <td>20.000000</td>\n",
       "      <td>1.000000</td>\n",
       "      <td>0.600000</td>\n",
       "      <td>0.500000</td>\n",
       "      <td>0.500000</td>\n",
       "      <td>0.358108</td>\n",
       "    </tr>\n",
       "  </tbody>\n",
       "</table>\n",
       "</div>"
      ],
      "text/plain": [
       "           museums          art       hiking       gaming     clubbing  \\\n",
       "count  8061.000000  8061.000000  8061.000000  8061.000000  8061.000000   \n",
       "mean      6.986850     6.715668     5.748666     3.881776     5.744449   \n",
       "std       2.054608     2.266771     2.574903     2.612917     2.502445   \n",
       "min       0.000000     0.000000     0.000000     0.000000     0.000000   \n",
       "25%       6.000000     5.000000     4.000000     2.000000     4.000000   \n",
       "50%       7.000000     7.000000     6.000000     3.000000     6.000000   \n",
       "75%       8.000000     8.000000     8.000000     6.000000     8.000000   \n",
       "max      10.000000    10.000000    10.000000    14.000000    10.000000   \n",
       "\n",
       "           reading           tv      theater       movies     concerts  \\\n",
       "count  8061.000000  8061.000000  8061.000000  8061.000000  8061.000000   \n",
       "mean      7.683166     5.305669     6.784146     7.930406     6.826076   \n",
       "std       1.998474     2.532587     2.232192     1.693586     2.161362   \n",
       "min       1.000000     1.000000     0.000000     0.000000     0.000000   \n",
       "25%       7.000000     3.000000     5.000000     7.000000     5.000000   \n",
       "50%       8.000000     6.000000     7.000000     8.000000     7.000000   \n",
       "75%       9.000000     7.000000     9.000000     9.000000     8.000000   \n",
       "max      13.000000    10.000000    10.000000    10.000000    10.000000   \n",
       "\n",
       "             music     shopping         yoga     exphappy       expnum  \\\n",
       "count  8061.000000  8061.000000  8061.000000  8043.000000  1779.000000   \n",
       "mean      7.848034     5.639995     4.345243     5.530150     5.596965   \n",
       "std       1.787079     2.609661     2.721530     1.733609     4.776326   \n",
       "min       1.000000     1.000000     0.000000     1.000000     0.000000   \n",
       "25%       7.000000     4.000000     2.000000     5.000000     2.000000   \n",
       "50%       8.000000     6.000000     4.000000     6.000000     4.000000   \n",
       "75%       9.000000     8.000000     7.000000     7.000000     8.000000   \n",
       "max      10.000000    10.000000    10.000000    10.000000    20.000000   \n",
       "\n",
       "           attr1_1      sinc1_1     intel1_1       fun1_1       amb1_1  \n",
       "count  8130.000000  8130.000000  8130.000000  8130.000000  8130.000000  \n",
       "mean      0.223132     0.172429     0.201211     0.172521     0.105686  \n",
       "std       0.127239     0.072053     0.070227     0.062918     0.060669  \n",
       "min       0.000000     0.000000     0.000000     0.000000     0.000000  \n",
       "25%       0.150000     0.147803     0.173100     0.150000     0.050000  \n",
       "50%       0.200000     0.180000     0.200000     0.180000     0.100000  \n",
       "75%       0.250000     0.200000     0.230800     0.200000     0.150000  \n",
       "max       1.000000     0.600000     0.500000     0.500000     0.358108  "
      ]
     },
     "execution_count": 8,
     "metadata": {},
     "output_type": "execute_result"
    }
   ],
   "source": [
    "dating_data_clean[cat_num[20:40]].describe()"
   ]
  },
  {
   "cell_type": "code",
   "execution_count": 9,
   "metadata": {},
   "outputs": [
    {
     "data": {
      "text/html": [
       "<div>\n",
       "<style>\n",
       "    .dataframe thead tr:only-child th {\n",
       "        text-align: right;\n",
       "    }\n",
       "\n",
       "    .dataframe thead th {\n",
       "        text-align: left;\n",
       "    }\n",
       "\n",
       "    .dataframe tbody tr th {\n",
       "        vertical-align: top;\n",
       "    }\n",
       "</style>\n",
       "<table border=\"1\" class=\"dataframe\">\n",
       "  <thead>\n",
       "    <tr style=\"text-align: right;\">\n",
       "      <th></th>\n",
       "      <th>shar1_1</th>\n",
       "      <th>attr</th>\n",
       "      <th>sinc</th>\n",
       "      <th>intel</th>\n",
       "      <th>fun</th>\n",
       "      <th>amb</th>\n",
       "      <th>shar</th>\n",
       "      <th>like</th>\n",
       "      <th>prob</th>\n",
       "      <th>match_es</th>\n",
       "      <th>attr3_s</th>\n",
       "      <th>sinc3_s</th>\n",
       "      <th>intel3_s</th>\n",
       "      <th>fun3_s</th>\n",
       "      <th>amb3_s</th>\n",
       "      <th>dist_signup</th>\n",
       "    </tr>\n",
       "  </thead>\n",
       "  <tbody>\n",
       "    <tr>\n",
       "      <th>count</th>\n",
       "      <td>8130.000000</td>\n",
       "      <td>8130.000000</td>\n",
       "      <td>8130.000000</td>\n",
       "      <td>8130.000000</td>\n",
       "      <td>8130.000000</td>\n",
       "      <td>8130.000000</td>\n",
       "      <td>8130.000000</td>\n",
       "      <td>8130.000000</td>\n",
       "      <td>8046.000000</td>\n",
       "      <td>7008.000000</td>\n",
       "      <td>8130.000000</td>\n",
       "      <td>8130.000000</td>\n",
       "      <td>8130.000000</td>\n",
       "      <td>8130.000000</td>\n",
       "      <td>8130.000000</td>\n",
       "      <td>8130.000000</td>\n",
       "    </tr>\n",
       "    <tr>\n",
       "      <th>mean</th>\n",
       "      <td>0.116534</td>\n",
       "      <td>0.164646</td>\n",
       "      <td>0.189221</td>\n",
       "      <td>0.193930</td>\n",
       "      <td>0.163367</td>\n",
       "      <td>0.164860</td>\n",
       "      <td>0.123238</td>\n",
       "      <td>6.140123</td>\n",
       "      <td>5.213087</td>\n",
       "      <td>3.214369</td>\n",
       "      <td>0.089584</td>\n",
       "      <td>0.100779</td>\n",
       "      <td>0.103337</td>\n",
       "      <td>0.095175</td>\n",
       "      <td>0.094149</td>\n",
       "      <td>0.039219</td>\n",
       "    </tr>\n",
       "    <tr>\n",
       "      <th>std</th>\n",
       "      <td>0.064703</td>\n",
       "      <td>0.057566</td>\n",
       "      <td>0.050973</td>\n",
       "      <td>0.046494</td>\n",
       "      <td>0.044752</td>\n",
       "      <td>0.057789</td>\n",
       "      <td>0.058725</td>\n",
       "      <td>1.832103</td>\n",
       "      <td>2.124670</td>\n",
       "      <td>2.442436</td>\n",
       "      <td>0.094769</td>\n",
       "      <td>0.106773</td>\n",
       "      <td>0.108511</td>\n",
       "      <td>0.100783</td>\n",
       "      <td>0.101063</td>\n",
       "      <td>0.052264</td>\n",
       "    </tr>\n",
       "    <tr>\n",
       "      <th>min</th>\n",
       "      <td>0.000000</td>\n",
       "      <td>0.000000</td>\n",
       "      <td>0.000000</td>\n",
       "      <td>0.000000</td>\n",
       "      <td>0.000000</td>\n",
       "      <td>0.000000</td>\n",
       "      <td>0.000000</td>\n",
       "      <td>1.000000</td>\n",
       "      <td>0.000000</td>\n",
       "      <td>0.000000</td>\n",
       "      <td>0.000000</td>\n",
       "      <td>0.000000</td>\n",
       "      <td>0.000000</td>\n",
       "      <td>0.000000</td>\n",
       "      <td>0.000000</td>\n",
       "      <td>0.000000</td>\n",
       "    </tr>\n",
       "    <tr>\n",
       "      <th>25%</th>\n",
       "      <td>0.080000</td>\n",
       "      <td>0.138889</td>\n",
       "      <td>0.166667</td>\n",
       "      <td>0.170732</td>\n",
       "      <td>0.147059</td>\n",
       "      <td>0.148936</td>\n",
       "      <td>0.097561</td>\n",
       "      <td>5.000000</td>\n",
       "      <td>4.000000</td>\n",
       "      <td>2.000000</td>\n",
       "      <td>0.000000</td>\n",
       "      <td>0.000000</td>\n",
       "      <td>0.000000</td>\n",
       "      <td>0.000000</td>\n",
       "      <td>0.000000</td>\n",
       "      <td>0.010000</td>\n",
       "    </tr>\n",
       "    <tr>\n",
       "      <th>50%</th>\n",
       "      <td>0.102600</td>\n",
       "      <td>0.162791</td>\n",
       "      <td>0.181818</td>\n",
       "      <td>0.187500</td>\n",
       "      <td>0.166667</td>\n",
       "      <td>0.166667</td>\n",
       "      <td>0.137931</td>\n",
       "      <td>6.000000</td>\n",
       "      <td>5.000000</td>\n",
       "      <td>3.000000</td>\n",
       "      <td>0.000000</td>\n",
       "      <td>0.000000</td>\n",
       "      <td>0.000000</td>\n",
       "      <td>0.000000</td>\n",
       "      <td>0.000000</td>\n",
       "      <td>0.022500</td>\n",
       "    </tr>\n",
       "    <tr>\n",
       "      <th>75%</th>\n",
       "      <td>0.156869</td>\n",
       "      <td>0.185185</td>\n",
       "      <td>0.206897</td>\n",
       "      <td>0.210526</td>\n",
       "      <td>0.184211</td>\n",
       "      <td>0.190476</td>\n",
       "      <td>0.162791</td>\n",
       "      <td>7.000000</td>\n",
       "      <td>7.000000</td>\n",
       "      <td>4.000000</td>\n",
       "      <td>0.186047</td>\n",
       "      <td>0.210526</td>\n",
       "      <td>0.208333</td>\n",
       "      <td>0.200000</td>\n",
       "      <td>0.200000</td>\n",
       "      <td>0.047500</td>\n",
       "    </tr>\n",
       "    <tr>\n",
       "      <th>max</th>\n",
       "      <td>0.300000</td>\n",
       "      <td>1.000000</td>\n",
       "      <td>0.909091</td>\n",
       "      <td>0.692308</td>\n",
       "      <td>0.562500</td>\n",
       "      <td>0.500000</td>\n",
       "      <td>0.470588</td>\n",
       "      <td>10.000000</td>\n",
       "      <td>10.000000</td>\n",
       "      <td>18.000000</td>\n",
       "      <td>0.281250</td>\n",
       "      <td>0.307692</td>\n",
       "      <td>0.333333</td>\n",
       "      <td>0.290323</td>\n",
       "      <td>0.333333</td>\n",
       "      <td>0.504132</td>\n",
       "    </tr>\n",
       "  </tbody>\n",
       "</table>\n",
       "</div>"
      ],
      "text/plain": [
       "           shar1_1         attr         sinc        intel          fun  \\\n",
       "count  8130.000000  8130.000000  8130.000000  8130.000000  8130.000000   \n",
       "mean      0.116534     0.164646     0.189221     0.193930     0.163367   \n",
       "std       0.064703     0.057566     0.050973     0.046494     0.044752   \n",
       "min       0.000000     0.000000     0.000000     0.000000     0.000000   \n",
       "25%       0.080000     0.138889     0.166667     0.170732     0.147059   \n",
       "50%       0.102600     0.162791     0.181818     0.187500     0.166667   \n",
       "75%       0.156869     0.185185     0.206897     0.210526     0.184211   \n",
       "max       0.300000     1.000000     0.909091     0.692308     0.562500   \n",
       "\n",
       "               amb         shar         like         prob     match_es  \\\n",
       "count  8130.000000  8130.000000  8130.000000  8046.000000  7008.000000   \n",
       "mean      0.164860     0.123238     6.140123     5.213087     3.214369   \n",
       "std       0.057789     0.058725     1.832103     2.124670     2.442436   \n",
       "min       0.000000     0.000000     1.000000     0.000000     0.000000   \n",
       "25%       0.148936     0.097561     5.000000     4.000000     2.000000   \n",
       "50%       0.166667     0.137931     6.000000     5.000000     3.000000   \n",
       "75%       0.190476     0.162791     7.000000     7.000000     4.000000   \n",
       "max       0.500000     0.470588    10.000000    10.000000    18.000000   \n",
       "\n",
       "           attr3_s      sinc3_s     intel3_s       fun3_s       amb3_s  \\\n",
       "count  8130.000000  8130.000000  8130.000000  8130.000000  8130.000000   \n",
       "mean      0.089584     0.100779     0.103337     0.095175     0.094149   \n",
       "std       0.094769     0.106773     0.108511     0.100783     0.101063   \n",
       "min       0.000000     0.000000     0.000000     0.000000     0.000000   \n",
       "25%       0.000000     0.000000     0.000000     0.000000     0.000000   \n",
       "50%       0.000000     0.000000     0.000000     0.000000     0.000000   \n",
       "75%       0.186047     0.210526     0.208333     0.200000     0.200000   \n",
       "max       0.281250     0.307692     0.333333     0.290323     0.333333   \n",
       "\n",
       "       dist_signup  \n",
       "count  8130.000000  \n",
       "mean      0.039219  \n",
       "std       0.052264  \n",
       "min       0.000000  \n",
       "25%       0.010000  \n",
       "50%       0.022500  \n",
       "75%       0.047500  \n",
       "max       0.504132  "
      ]
     },
     "execution_count": 9,
     "metadata": {},
     "output_type": "execute_result"
    }
   ],
   "source": [
    "dating_data_clean[cat_num[40:]].describe()"
   ]
  },
  {
   "cell_type": "code",
   "execution_count": 10,
   "metadata": {},
   "outputs": [
    {
     "data": {
      "text/html": [
       "<div>\n",
       "<style>\n",
       "    .dataframe thead tr:only-child th {\n",
       "        text-align: right;\n",
       "    }\n",
       "\n",
       "    .dataframe thead th {\n",
       "        text-align: left;\n",
       "    }\n",
       "\n",
       "    .dataframe tbody tr th {\n",
       "        vertical-align: top;\n",
       "    }\n",
       "</style>\n",
       "<table border=\"1\" class=\"dataframe\">\n",
       "  <thead>\n",
       "    <tr style=\"text-align: right;\">\n",
       "      <th></th>\n",
       "      <th>attr</th>\n",
       "      <th>sinc</th>\n",
       "      <th>intel</th>\n",
       "      <th>fun</th>\n",
       "      <th>amb</th>\n",
       "    </tr>\n",
       "  </thead>\n",
       "  <tbody>\n",
       "    <tr>\n",
       "      <th>count</th>\n",
       "      <td>4042.000000</td>\n",
       "      <td>4042.000000</td>\n",
       "      <td>4042.000000</td>\n",
       "      <td>4042.000000</td>\n",
       "      <td>4042.000000</td>\n",
       "    </tr>\n",
       "    <tr>\n",
       "      <th>mean</th>\n",
       "      <td>0.158134</td>\n",
       "      <td>0.189935</td>\n",
       "      <td>0.198478</td>\n",
       "      <td>0.161111</td>\n",
       "      <td>0.170878</td>\n",
       "    </tr>\n",
       "    <tr>\n",
       "      <th>std</th>\n",
       "      <td>0.053920</td>\n",
       "      <td>0.054617</td>\n",
       "      <td>0.048718</td>\n",
       "      <td>0.046401</td>\n",
       "      <td>0.061353</td>\n",
       "    </tr>\n",
       "    <tr>\n",
       "      <th>min</th>\n",
       "      <td>0.000000</td>\n",
       "      <td>0.000000</td>\n",
       "      <td>0.000000</td>\n",
       "      <td>0.000000</td>\n",
       "      <td>0.000000</td>\n",
       "    </tr>\n",
       "    <tr>\n",
       "      <th>25%</th>\n",
       "      <td>0.133333</td>\n",
       "      <td>0.166667</td>\n",
       "      <td>0.173913</td>\n",
       "      <td>0.142857</td>\n",
       "      <td>0.153846</td>\n",
       "    </tr>\n",
       "    <tr>\n",
       "      <th>50%</th>\n",
       "      <td>0.157895</td>\n",
       "      <td>0.181818</td>\n",
       "      <td>0.190476</td>\n",
       "      <td>0.166667</td>\n",
       "      <td>0.173913</td>\n",
       "    </tr>\n",
       "    <tr>\n",
       "      <th>75%</th>\n",
       "      <td>0.179487</td>\n",
       "      <td>0.208333</td>\n",
       "      <td>0.216216</td>\n",
       "      <td>0.183673</td>\n",
       "      <td>0.200000</td>\n",
       "    </tr>\n",
       "    <tr>\n",
       "      <th>max</th>\n",
       "      <td>1.000000</td>\n",
       "      <td>0.909091</td>\n",
       "      <td>0.692308</td>\n",
       "      <td>0.421053</td>\n",
       "      <td>0.500000</td>\n",
       "    </tr>\n",
       "  </tbody>\n",
       "</table>\n",
       "</div>"
      ],
      "text/plain": [
       "              attr         sinc        intel          fun          amb\n",
       "count  4042.000000  4042.000000  4042.000000  4042.000000  4042.000000\n",
       "mean      0.158134     0.189935     0.198478     0.161111     0.170878\n",
       "std       0.053920     0.054617     0.048718     0.046401     0.061353\n",
       "min       0.000000     0.000000     0.000000     0.000000     0.000000\n",
       "25%       0.133333     0.166667     0.173913     0.142857     0.153846\n",
       "50%       0.157895     0.181818     0.190476     0.166667     0.173913\n",
       "75%       0.179487     0.208333     0.216216     0.183673     0.200000\n",
       "max       1.000000     0.909091     0.692308     0.421053     0.500000"
      ]
     },
     "execution_count": 10,
     "metadata": {},
     "output_type": "execute_result"
    }
   ],
   "source": [
    "# Getting summary statistics for ratings the night of event for women:\n",
    "\n",
    "test_gender_w = dating_data_clean.gender == 0 \n",
    "\n",
    "women_summary = dating_data_clean.loc[test_gender_w,'attr':'amb'].describe()\n",
    "women_summary\n",
    "\n"
   ]
  },
  {
   "cell_type": "code",
   "execution_count": 11,
   "metadata": {},
   "outputs": [
    {
     "data": {
      "text/html": [
       "<div>\n",
       "<style>\n",
       "    .dataframe thead tr:only-child th {\n",
       "        text-align: right;\n",
       "    }\n",
       "\n",
       "    .dataframe thead th {\n",
       "        text-align: left;\n",
       "    }\n",
       "\n",
       "    .dataframe tbody tr th {\n",
       "        vertical-align: top;\n",
       "    }\n",
       "</style>\n",
       "<table border=\"1\" class=\"dataframe\">\n",
       "  <thead>\n",
       "    <tr style=\"text-align: right;\">\n",
       "      <th></th>\n",
       "      <th>attr</th>\n",
       "      <th>sinc</th>\n",
       "      <th>intel</th>\n",
       "      <th>fun</th>\n",
       "      <th>amb</th>\n",
       "    </tr>\n",
       "  </thead>\n",
       "  <tbody>\n",
       "    <tr>\n",
       "      <th>count</th>\n",
       "      <td>4088.000000</td>\n",
       "      <td>4088.000000</td>\n",
       "      <td>4088.000000</td>\n",
       "      <td>4088.000000</td>\n",
       "      <td>4088.000000</td>\n",
       "    </tr>\n",
       "    <tr>\n",
       "      <th>mean</th>\n",
       "      <td>0.171085</td>\n",
       "      <td>0.188514</td>\n",
       "      <td>0.189433</td>\n",
       "      <td>0.165598</td>\n",
       "      <td>0.158910</td>\n",
       "    </tr>\n",
       "    <tr>\n",
       "      <th>std</th>\n",
       "      <td>0.060274</td>\n",
       "      <td>0.047091</td>\n",
       "      <td>0.043728</td>\n",
       "      <td>0.042950</td>\n",
       "      <td>0.053378</td>\n",
       "    </tr>\n",
       "    <tr>\n",
       "      <th>min</th>\n",
       "      <td>0.000000</td>\n",
       "      <td>0.000000</td>\n",
       "      <td>0.000000</td>\n",
       "      <td>0.000000</td>\n",
       "      <td>0.000000</td>\n",
       "    </tr>\n",
       "    <tr>\n",
       "      <th>25%</th>\n",
       "      <td>0.145833</td>\n",
       "      <td>0.166667</td>\n",
       "      <td>0.166667</td>\n",
       "      <td>0.150000</td>\n",
       "      <td>0.145833</td>\n",
       "    </tr>\n",
       "    <tr>\n",
       "      <th>50%</th>\n",
       "      <td>0.166667</td>\n",
       "      <td>0.182746</td>\n",
       "      <td>0.184211</td>\n",
       "      <td>0.166667</td>\n",
       "      <td>0.166667</td>\n",
       "    </tr>\n",
       "    <tr>\n",
       "      <th>75%</th>\n",
       "      <td>0.190476</td>\n",
       "      <td>0.205882</td>\n",
       "      <td>0.205882</td>\n",
       "      <td>0.184211</td>\n",
       "      <td>0.183673</td>\n",
       "    </tr>\n",
       "    <tr>\n",
       "      <th>max</th>\n",
       "      <td>1.000000</td>\n",
       "      <td>0.666667</td>\n",
       "      <td>0.538462</td>\n",
       "      <td>0.562500</td>\n",
       "      <td>0.500000</td>\n",
       "    </tr>\n",
       "  </tbody>\n",
       "</table>\n",
       "</div>"
      ],
      "text/plain": [
       "              attr         sinc        intel          fun          amb\n",
       "count  4088.000000  4088.000000  4088.000000  4088.000000  4088.000000\n",
       "mean      0.171085     0.188514     0.189433     0.165598     0.158910\n",
       "std       0.060274     0.047091     0.043728     0.042950     0.053378\n",
       "min       0.000000     0.000000     0.000000     0.000000     0.000000\n",
       "25%       0.145833     0.166667     0.166667     0.150000     0.145833\n",
       "50%       0.166667     0.182746     0.184211     0.166667     0.166667\n",
       "75%       0.190476     0.205882     0.205882     0.184211     0.183673\n",
       "max       1.000000     0.666667     0.538462     0.562500     0.500000"
      ]
     },
     "execution_count": 11,
     "metadata": {},
     "output_type": "execute_result"
    }
   ],
   "source": [
    "# Getting summary statistics for men:\n",
    "\n",
    "test_gender_m = dating_data_clean.gender == 1 \n",
    "\n",
    "men_summary = dating_data_clean.loc[test_gender_m,'attr':'amb'].describe()\n",
    "men_summary"
   ]
  },
  {
   "cell_type": "markdown",
   "metadata": {},
   "source": [
    "## Correlations"
   ]
  },
  {
   "cell_type": "markdown",
   "metadata": {},
   "source": [
    "**Correlation between ratings the night of event and like**"
   ]
  },
  {
   "cell_type": "code",
   "execution_count": 12,
   "metadata": {},
   "outputs": [
    {
     "data": {
      "text/plain": [
       "0.13199455077135941"
      ]
     },
     "execution_count": 12,
     "metadata": {},
     "output_type": "execute_result"
    }
   ],
   "source": [
    "# Find correlation between ratings at event and like scale:\n",
    "import numpy as np\n",
    "\n",
    "def pearson_r(x, y):\n",
    "    \"\"\"Compute Pearson correlation coefficient between two arrays.\"\"\"\n",
    "    # Compute correlation matrix: corr_mat\n",
    "    corr_mat = np.corrcoef(x, y)\n",
    "\n",
    "    # Return entry [0,1]\n",
    "    return corr_mat[0,1]\n",
    "\n",
    "r_attr_o = pearson_r(dating_data_clean['attr'], dating_data_clean['like'])\n",
    "r_attr_o"
   ]
  },
  {
   "cell_type": "code",
   "execution_count": 13,
   "metadata": {},
   "outputs": [
    {
     "data": {
      "text/plain": [
       "-0.15900089771685944"
      ]
     },
     "execution_count": 13,
     "metadata": {},
     "output_type": "execute_result"
    }
   ],
   "source": [
    "r_sinc_o = pearson_r(dating_data_clean['sinc'], dating_data_clean['like'])\n",
    "r_sinc_o"
   ]
  },
  {
   "cell_type": "code",
   "execution_count": 14,
   "metadata": {},
   "outputs": [
    {
     "data": {
      "text/plain": [
       "-0.25980705518559277"
      ]
     },
     "execution_count": 14,
     "metadata": {},
     "output_type": "execute_result"
    }
   ],
   "source": [
    "r_intel_o = pearson_r(dating_data_clean['intel'], dating_data_clean['like'])\n",
    "r_intel_o"
   ]
  },
  {
   "cell_type": "code",
   "execution_count": 15,
   "metadata": {},
   "outputs": [
    {
     "data": {
      "text/plain": [
       "0.19749322239492309"
      ]
     },
     "execution_count": 15,
     "metadata": {},
     "output_type": "execute_result"
    }
   ],
   "source": [
    "r_fun_o = pearson_r(dating_data_clean['fun'], dating_data_clean['like'])\n",
    "r_fun_o"
   ]
  },
  {
   "cell_type": "code",
   "execution_count": 16,
   "metadata": {},
   "outputs": [
    {
     "data": {
      "text/plain": [
       "-0.17363050203555314"
      ]
     },
     "execution_count": 16,
     "metadata": {},
     "output_type": "execute_result"
    }
   ],
   "source": [
    "r_amb_o = pearson_r(dating_data_clean['amb'], dating_data_clean['like'])\n",
    "r_amb_o"
   ]
  },
  {
   "cell_type": "code",
   "execution_count": 17,
   "metadata": {},
   "outputs": [
    {
     "data": {
      "text/plain": [
       "0.23220970500103857"
      ]
     },
     "execution_count": 17,
     "metadata": {},
     "output_type": "execute_result"
    }
   ],
   "source": [
    "r_shar_o = pearson_r(dating_data_clean['shar'], dating_data_clean['like'])\n",
    "r_shar_o"
   ]
  },
  {
   "cell_type": "code",
   "execution_count": 18,
   "metadata": {},
   "outputs": [
    {
     "data": {
      "text/plain": [
       "8.0851409354066472"
      ]
     },
     "execution_count": 18,
     "metadata": {},
     "output_type": "execute_result"
    }
   ],
   "source": [
    "from numpy import cov\n",
    "\n",
    "def calc_slope(x, y):\n",
    "    return cov(x, y)[0, 1] / x.var()\n",
    "\n",
    "def calc_intercept(x, y, slope):\n",
    "    return y.mean() - (slope * x.mean())\n",
    "\n",
    "fun_slope = calc_slope(dating_data_clean['fun'], dating_data_clean['like'])\n",
    "fun_intercept = calc_intercept(dating_data_clean['fun'], dating_data_clean['like'], fun_slope)\n",
    "fun_slope"
   ]
  },
  {
   "cell_type": "code",
   "execution_count": 19,
   "metadata": {},
   "outputs": [
    {
     "data": {
      "text/plain": [
       "4.8192745176158622"
      ]
     },
     "execution_count": 19,
     "metadata": {},
     "output_type": "execute_result"
    }
   ],
   "source": [
    "fun_intercept"
   ]
  },
  {
   "cell_type": "code",
   "execution_count": 20,
   "metadata": {},
   "outputs": [
    {
     "data": {
      "text/plain": [
       "8.053330891778522"
      ]
     },
     "execution_count": 20,
     "metadata": {},
     "output_type": "execute_result"
    }
   ],
   "source": [
    "# Linear regression for fun:\n",
    "\n",
    "x = 0.4\n",
    "y = fun_slope * x + fun_intercept\n",
    "y"
   ]
  },
  {
   "cell_type": "code",
   "execution_count": 21,
   "metadata": {},
   "outputs": [
    {
     "data": {
      "image/png": "[encoded data removed]",
      "text/plain": [
       "<matplotlib.figure.Figure at 0x10ec99fd0>"
      ]
     },
     "metadata": {},
     "output_type": "display_data"
    }
   ],
   "source": [
    "# grouping ratings by like:\n",
    "\n",
    "by_like = dating_data_clean.groupby('like')\n",
    "\n",
    "# Aggregate each attribute column of by_like by median\n",
    "count_by_like_attr = by_like['attr'].median()\n",
    "count_by_like_sinc = by_like['sinc'].median()\n",
    "count_by_like_fun = by_like['fun'].median()\n",
    "count_by_like_intel = by_like['intel'].median()\n",
    "count_by_like_amb = by_like['amb'].median()\n",
    "count_by_like_shar = by_like['shar'].median()\n",
    "\n",
    "fig = plt.figure(figsize=(20,15))\n",
    "ax1 = fig.add_subplot(2,3,1)\n",
    "ax2 = fig.add_subplot(2,3,2)\n",
    "ax3 = fig.add_subplot(2,3,3)\n",
    "ax4 = fig.add_subplot(2,3,4)\n",
    "ax5 = fig.add_subplot(2,3,5)\n",
    "ax6 = fig.add_subplot(2,3,6)\n",
    "\n",
    "# plots with like on x axis and attributes on y axis:\n",
    "\n",
    "ax1.plot(count_by_like_attr, linestyle='None', marker='o')\n",
    "ax1.set_title('Attractive vs like')\n",
    "ax1.set_ylabel('Attribute: Attractive')\n",
    "ax1.set_xlabel('Like')\n",
    "\n",
    "ax2.plot(count_by_like_sinc, linestyle='None', marker='o')\n",
    "ax2.set_title('Sincere vs like')\n",
    "ax2.set_ylabel('Attribute: Sincere')\n",
    "ax2.set_xlabel('Like')\n",
    "\n",
    "ax3.plot(count_by_like_fun, linestyle='None', marker='o')\n",
    "ax3.set_title('Fun vs like')\n",
    "ax3.set_ylabel('Attribute: Fun')\n",
    "ax3.set_xlabel('Like')\n",
    "\n",
    "ax4.plot(count_by_like_intel, linestyle='None', marker='o')\n",
    "ax4.set_title('Intelligent vs like')\n",
    "ax4.set_ylabel('Attribute: Intelligent')\n",
    "ax4.set_xlabel('Like')\n",
    "\n",
    "ax5.plot(count_by_like_amb, linestyle='None', marker='o')\n",
    "ax5.set_title('Ambitious vs like')\n",
    "ax5.set_ylabel('Attribute: Ambitious')\n",
    "ax5.set_xlabel('Like')\n",
    "\n",
    "ax6.plot(count_by_like_shar, linestyle='None', marker='o')\n",
    "ax6.set_title('Shared insterests vs like')\n",
    "ax6.set_ylabel('Attribute: Shared insterests')\n",
    "ax6.set_xlabel('Like')\n",
    "\n",
    "plt.show()\n"
   ]
  },
  {
   "cell_type": "code",
   "execution_count": 22,
   "metadata": {},
   "outputs": [
    {
     "data": {
      "image/png": "[encoded data removed]",
      "text/plain": [
       "<matplotlib.figure.Figure at 0x10fd1a128>"
      ]
     },
     "metadata": {},
     "output_type": "display_data"
    }
   ],
   "source": [
    "# Combining scatter plots for all the data (blue), for the median (orange) and pearson correlation (r):\n",
    "\n",
    "from scipy.stats.stats import pearsonr\n",
    "\n",
    "r_attr, p_value = pearsonr(count_by_like_attr.index, count_by_like_attr)\n",
    "r_sinc, p_value = pearsonr(count_by_like_sinc.index, count_by_like_sinc)\n",
    "r_fun, p_value = pearsonr(count_by_like_fun.index, count_by_like_fun)\n",
    "r_intel, p_value = pearsonr(count_by_like_intel.index, count_by_like_intel)\n",
    "r_amb, p_value = pearsonr(count_by_like_amb.index, count_by_like_amb)\n",
    "r_shar, p_value = pearsonr(count_by_like_shar.index, count_by_like_shar)\n",
    "\n",
    "fig = plt.figure(figsize=(20,15))\n",
    "ax1 = fig.add_subplot(2,3,1)\n",
    "ax2 = fig.add_subplot(2,3,2)\n",
    "ax3 = fig.add_subplot(2,3,3)\n",
    "ax4 = fig.add_subplot(2,3,4)\n",
    "ax5 = fig.add_subplot(2,3,5)\n",
    "ax6 = fig.add_subplot(2,3,6)\n",
    "\n",
    "ax1.scatter(dating_data_clean['attr'], dating_data_clean['like'], alpha=.10)\n",
    "ax1.scatter(x=count_by_like_attr, y=count_by_like_attr.index, linestyle='None', marker='o')\n",
    "ax1.set_title('Attractive vs like')\n",
    "ax1.set_xlabel('Attribute: Attractive')\n",
    "ax1.set_ylabel('Like')\n",
    "ax1.annotate('r=' + str(r_attr),xy=(0.7,10),xytext=(0.7, 10))\n",
    "\n",
    "ax2.scatter(dating_data_clean['sinc'], dating_data_clean['like'], alpha=.10)\n",
    "ax2.scatter(x=count_by_like_sinc, y=count_by_like_sinc.index, linestyle='None', marker='o')\n",
    "ax2.set_title('Sincere vs like')\n",
    "ax2.set_xlabel('Attribute: Sincere')\n",
    "ax2.set_ylabel('Like')\n",
    "ax2.annotate('r=' + str(r_sinc),xy=(0.65,10),xytext=(0.65, 10))\n",
    "\n",
    "\n",
    "ax3.scatter(dating_data_clean['fun'], dating_data_clean['like'], alpha=.10)\n",
    "ax3.scatter(x=count_by_like_fun, y=count_by_like_fun.index, linestyle='None', marker='o')\n",
    "ax3.set_title('Fun vs like')\n",
    "ax3.set_xlabel('Attribute: Fun')\n",
    "ax3.set_ylabel('Like')\n",
    "ax3.annotate('r=' + str(r_fun),xy=(0.4,10),xytext=(0.4, 10))\n",
    "\n",
    "ax4.scatter(dating_data_clean['intel'], dating_data_clean['like'], alpha=.10)\n",
    "ax4.scatter(x=count_by_like_intel, y=count_by_like_intel.index, linestyle='None', marker='o')\n",
    "ax4.set_title('Intelligent vs like')\n",
    "ax4.set_xlabel('Attribute: Intelligent')\n",
    "ax4.set_ylabel('Like')\n",
    "ax4.annotate('r=' + str(r_intel),xy=(0.45,10),xytext=(0.45, 10))\n",
    "\n",
    "ax5.scatter(dating_data_clean['amb'], dating_data_clean['like'], alpha=.10)\n",
    "ax5.scatter(x=count_by_like_amb, y=count_by_like_amb.index, linestyle='None', marker='o')\n",
    "ax5.set_title('Ambitious vs like')\n",
    "ax5.set_xlabel('Attribute: Ambitious')\n",
    "ax5.set_ylabel('Like')\n",
    "ax5.annotate('r=' + str(r_amb),xy=(0.35,10),xytext=(0.35, 10))\n",
    "\n",
    "ax6.scatter(dating_data_clean['shar'], dating_data_clean['like'], alpha=.10)\n",
    "ax6.scatter(x=count_by_like_shar, y=count_by_like_shar.index, linestyle='None', marker='o')\n",
    "ax6.set_title('Shared insterests vs like')\n",
    "ax6.set_xlabel('Attribute: Shared insterests')\n",
    "ax6.set_ylabel('Like')\n",
    "ax6.annotate('r=' + str(r_shar),xy=(0.33,10),xytext=(0.33, 10))\n",
    "\n",
    "plt.show()\n",
    "\n",
    "\n"
   ]
  },
  {
   "cell_type": "markdown",
   "metadata": {},
   "source": [
    "**Correlation between ratings the night of event and like when decision for a 2nd date = yes**"
   ]
  },
  {
   "cell_type": "code",
   "execution_count": 23,
   "metadata": {},
   "outputs": [
    {
     "data": {
      "image/png": "[encoded data removed]",
      "text/plain": [
       "<matplotlib.figure.Figure at 0x10ec99e48>"
      ]
     },
     "metadata": {},
     "output_type": "display_data"
    }
   ],
   "source": [
    "dec_check = dating_data_clean['dec'] == 1\n",
    "dec_data_event = dating_data_clean.loc[dec_check,('attr', 'sinc', 'intel','fun','amb', 'shar', 'like')]\n",
    "\n",
    "by_like = dec_data_event.groupby('like')\n",
    "\n",
    "# Aggregate each attribute column of by_like by median\n",
    "count_by_like_attr = by_like['attr'].median()\n",
    "count_by_like_sinc = by_like['sinc'].median()\n",
    "count_by_like_fun = by_like['fun'].median()\n",
    "count_by_like_intel = by_like['intel'].median()\n",
    "count_by_like_amb = by_like['amb'].median()\n",
    "count_by_like_shar = by_like['shar'].median()\n",
    "\n",
    "r_attr, p_value = pearsonr(count_by_like_attr.index, count_by_like_attr)\n",
    "r_sinc, p_value = pearsonr(count_by_like_sinc.index, count_by_like_sinc)\n",
    "r_fun, p_value = pearsonr(count_by_like_fun.index, count_by_like_fun)\n",
    "r_intel, p_value = pearsonr(count_by_like_intel.index, count_by_like_intel)\n",
    "r_amb, p_value = pearsonr(count_by_like_amb.index, count_by_like_amb)\n",
    "r_shar, p_value = pearsonr(count_by_like_shar.index, count_by_like_shar)\n",
    "\n",
    "fig = plt.figure(figsize=(20,15))\n",
    "ax1 = fig.add_subplot(2,3,1)\n",
    "ax2 = fig.add_subplot(2,3,2)\n",
    "ax3 = fig.add_subplot(2,3,3)\n",
    "ax4 = fig.add_subplot(2,3,4)\n",
    "ax5 = fig.add_subplot(2,3,5)\n",
    "ax6 = fig.add_subplot(2,3,6)\n",
    "\n",
    "ax1.scatter(dec_data_event['attr'], dec_data_event['like'], alpha=.10)\n",
    "ax1.scatter(x=count_by_like_attr, y=count_by_like_attr.index, linestyle='None', marker='o')\n",
    "ax1.set_title('Attractive vs like')\n",
    "ax1.set_xlabel('Attribute: Attractive')\n",
    "ax1.set_ylabel('Like')\n",
    "ax1.annotate('r=' + str(r_attr),xy=(0.7,10),xytext=(0.7, 10))\n",
    "\n",
    "ax2.scatter(dec_data_event['sinc'], dec_data_event['like'], alpha=.10)\n",
    "ax2.scatter(x=count_by_like_sinc, y=count_by_like_sinc.index, linestyle='None', marker='o')\n",
    "ax2.set_title('Sincere vs like')\n",
    "ax2.set_xlabel('Attribute: Sincere')\n",
    "ax2.set_ylabel('Like')\n",
    "ax2.annotate('r=' + str(r_sinc),xy=(0.4,10),xytext=(0.4, 10))\n",
    "\n",
    "\n",
    "ax3.scatter(dec_data_event['fun'], dec_data_event['like'], alpha=.10)\n",
    "ax3.scatter(x=count_by_like_fun, y=count_by_like_fun.index, linestyle='None', marker='o')\n",
    "ax3.set_title('Fun vs like')\n",
    "ax3.set_xlabel('Attribute: Fun')\n",
    "ax3.set_ylabel('Like')\n",
    "ax3.annotate('r=' + str(r_fun),xy=(0.38,10),xytext=(0.38, 10))\n",
    "\n",
    "ax4.scatter(dec_data_event['intel'], dec_data_event['like'], alpha=.10)\n",
    "ax4.scatter(x=count_by_like_intel, y=count_by_like_intel.index, linestyle='None', marker='o')\n",
    "ax4.set_title('Intelligent vs like')\n",
    "ax4.set_xlabel('Attribute: Intelligent')\n",
    "ax4.set_ylabel('Like')\n",
    "ax4.annotate('r=' + str(r_intel),xy=(0.35,10),xytext=(0.35, 10))\n",
    "\n",
    "ax5.scatter(dec_data_event['amb'], dec_data_event['like'], alpha=.10)\n",
    "ax5.scatter(x=count_by_like_amb, y=count_by_like_amb.index, linestyle='None', marker='o')\n",
    "ax5.set_title('Ambitious vs like')\n",
    "ax5.set_xlabel('Attribute: Ambitious')\n",
    "ax5.set_ylabel('Like')\n",
    "ax5.annotate('r=' + str(r_amb),xy=(0.35,10),xytext=(0.35, 10))\n",
    "\n",
    "ax6.scatter(dec_data_event['shar'], dec_data_event['like'], alpha=.10)\n",
    "ax6.scatter(x=count_by_like_shar, y=count_by_like_shar.index, linestyle='None', marker='o')\n",
    "ax6.set_title('Shared insterests vs like')\n",
    "ax6.set_xlabel('Attribute: Shared insterests')\n",
    "ax6.set_ylabel('Like')\n",
    "ax6.annotate('r=' + str(r_shar),xy=(0.30,10),xytext=(0.30, 10))\n",
    "\n",
    "plt.show()"
   ]
  },
  {
   "cell_type": "markdown",
   "metadata": {},
   "source": [
    "**Insights:**\n",
    "\n",
    "- Attributes where ratings median has higher positive correlation with like: shared interests (r = 0.887), attractive (r = 0.554)\n",
    "- Attributes where ratings median has negative correlation with like: intelligent (r = -0.923), sincere (r = -0.759), ambitious (r = -0.607)\n",
    "- Attribute fun had a stronger positive correlation when analyzing both participants that said yes and no (r = 0.505). For participants that said yes to a 2nd date, attribute fun has a weak positive correlation (r = 0.098). \n",
    "- Shared interests and attractive likely play a major role in a decision for a second date.\n",
    "- Fun highly influences if a person likes another one in the first date, but it doesn't seem to impact like for participants that decided for 2nd date.\n"
   ]
  },
  {
   "cell_type": "markdown",
   "metadata": {},
   "source": [
    "**Histogram of 'like' for participants that decided for a 2nd date**"
   ]
  },
  {
   "cell_type": "code",
   "execution_count": 24,
   "metadata": {},
   "outputs": [
    {
     "data": {
      "image/png": "[encoded data removed]",
      "text/plain": [
       "<matplotlib.figure.Figure at 0x10ec83b70>"
      ]
     },
     "metadata": {},
     "output_type": "display_data"
    }
   ],
   "source": [
    "dec_check = dating_data_clean['dec'] == 1\n",
    "dec_data_yes = dating_data_clean.loc[dec_check,('dec', 'like')]\n",
    "plt.hist(dec_data_yes['like'],normed=True, bins=10)\n",
    "\n",
    "plt.show()"
   ]
  },
  {
   "cell_type": "code",
   "execution_count": 25,
   "metadata": {},
   "outputs": [
    {
     "data": {
      "text/plain": [
       "dec     1.000000\n",
       "like    7.222079\n",
       "dtype: float64"
      ]
     },
     "execution_count": 25,
     "metadata": {},
     "output_type": "execute_result"
    }
   ],
   "source": [
    "dec_data_yes.mean()"
   ]
  },
  {
   "cell_type": "markdown",
   "metadata": {},
   "source": [
    "**Histogram of 'like' for participants that didn't opt for a 2nd date**"
   ]
  },
  {
   "cell_type": "code",
   "execution_count": 26,
   "metadata": {},
   "outputs": [
    {
     "data": {
      "image/png": "[encoded data removed]",
      "text/plain": [
       "<matplotlib.figure.Figure at 0x1a1a32c2b0>"
      ]
     },
     "metadata": {},
     "output_type": "display_data"
    }
   ],
   "source": [
    "dec_check = dating_data_clean['dec'] == 0\n",
    "dec_data_no = dating_data_clean.loc[dec_check,('dec', 'like')]\n",
    "plt.hist(dec_data_no['like'],normed=True, bins=10)\n",
    "\n",
    "plt.show()"
   ]
  },
  {
   "cell_type": "code",
   "execution_count": 27,
   "metadata": {},
   "outputs": [
    {
     "data": {
      "text/plain": [
       "dec     0.000000\n",
       "like    5.321819\n",
       "dtype: float64"
      ]
     },
     "execution_count": 27,
     "metadata": {},
     "output_type": "execute_result"
    }
   ],
   "source": [
    "dec_data_no.mean()"
   ]
  },
  {
   "cell_type": "markdown",
   "metadata": {},
   "source": [
    "Mean of 'like' feature is higher between participants that decided for a 2nd date (7.22) vs. participants that didn't decide for a 2nd date (5.32)"
   ]
  },
  {
   "cell_type": "markdown",
   "metadata": {},
   "source": [
    "**Correlation between ratings the night of event and like when decision for a 2nd date = no**"
   ]
  },
  {
   "cell_type": "code",
   "execution_count": 28,
   "metadata": {},
   "outputs": [
    {
     "data": {
      "image/png": "[encoded data removed]",
      "text/plain": [
       "<matplotlib.figure.Figure at 0x110c42358>"
      ]
     },
     "metadata": {},
     "output_type": "display_data"
    }
   ],
   "source": [
    "dec_check = dating_data_clean['dec'] == 0\n",
    "dec_data_event = dating_data_clean.loc[dec_check,('attr', 'sinc', 'intel','fun','amb', 'shar', 'like')]\n",
    "\n",
    "by_like = dec_data_event.groupby('like')\n",
    "\n",
    "# Aggregate each attribute column of by_like by median\n",
    "count_by_like_attr = by_like['attr'].median()\n",
    "count_by_like_sinc = by_like['sinc'].median()\n",
    "count_by_like_fun = by_like['fun'].median()\n",
    "count_by_like_intel = by_like['intel'].median()\n",
    "count_by_like_amb = by_like['amb'].median()\n",
    "count_by_like_shar = by_like['shar'].median()\n",
    "\n",
    "r_attr, p_value = pearsonr(count_by_like_attr.index, count_by_like_attr)\n",
    "r_sinc, p_value = pearsonr(count_by_like_sinc.index, count_by_like_sinc)\n",
    "r_fun, p_value = pearsonr(count_by_like_fun.index, count_by_like_fun)\n",
    "r_intel, p_value = pearsonr(count_by_like_intel.index, count_by_like_intel)\n",
    "r_amb, p_value = pearsonr(count_by_like_amb.index, count_by_like_amb)\n",
    "r_shar, p_value = pearsonr(count_by_like_shar.index, count_by_like_shar)\n",
    "\n",
    "fig = plt.figure(figsize=(20,15))\n",
    "ax1 = fig.add_subplot(2,3,1)\n",
    "ax2 = fig.add_subplot(2,3,2)\n",
    "ax3 = fig.add_subplot(2,3,3)\n",
    "ax4 = fig.add_subplot(2,3,4)\n",
    "ax5 = fig.add_subplot(2,3,5)\n",
    "ax6 = fig.add_subplot(2,3,6)\n",
    "\n",
    "ax1.scatter(dec_data_event['attr'], dec_data_event['like'], alpha=.10)\n",
    "ax1.scatter(x=count_by_like_attr, y=count_by_like_attr.index, linestyle='None', marker='o')\n",
    "ax1.set_title('Attractive vs like')\n",
    "ax1.set_xlabel('Attribute: Attractive')\n",
    "ax1.set_ylabel('Like')\n",
    "ax1.annotate('r=' + str(r_attr),xy=(0.7,10),xytext=(0.7, 10))\n",
    "\n",
    "ax2.scatter(dec_data_event['sinc'], dec_data_event['like'], alpha=.10)\n",
    "ax2.scatter(x=count_by_like_sinc, y=count_by_like_sinc.index, linestyle='None', marker='o')\n",
    "ax2.set_title('Sincere vs like')\n",
    "ax2.set_xlabel('Attribute: Sincere')\n",
    "ax2.set_ylabel('Like')\n",
    "ax2.annotate('r=' + str(r_sinc),xy=(0.6,10),xytext=(0.6, 10))\n",
    "\n",
    "\n",
    "ax3.scatter(dec_data_event['fun'], dec_data_event['like'], alpha=.10)\n",
    "ax3.scatter(x=count_by_like_fun, y=count_by_like_fun.index, linestyle='None', marker='o')\n",
    "ax3.set_title('Fun vs like')\n",
    "ax3.set_xlabel('Attribute: Fun')\n",
    "ax3.set_ylabel('Like')\n",
    "ax3.annotate('r=' + str(r_fun),xy=(0.28,10),xytext=(0.28, 10))\n",
    "\n",
    "ax4.scatter(dec_data_event['intel'], dec_data_event['like'], alpha=.10)\n",
    "ax4.scatter(x=count_by_like_intel, y=count_by_like_intel.index, linestyle='None', marker='o')\n",
    "ax4.set_title('Intelligent vs like')\n",
    "ax4.set_xlabel('Attribute: Intelligent')\n",
    "ax4.set_ylabel('Like')\n",
    "ax4.annotate('r=' + str(r_intel),xy=(0.35,10),xytext=(0.35, 10))\n",
    "\n",
    "ax5.scatter(dec_data_event['amb'], dec_data_event['like'], alpha=.10)\n",
    "ax5.scatter(x=count_by_like_amb, y=count_by_like_amb.index, linestyle='None', marker='o')\n",
    "ax5.set_title('Ambitious vs like')\n",
    "ax5.set_xlabel('Attribute: Ambitious')\n",
    "ax5.set_ylabel('Like')\n",
    "ax5.annotate('r=' + str(r_amb),xy=(0.35,10),xytext=(0.35, 10))\n",
    "\n",
    "ax6.scatter(dec_data_event['shar'], dec_data_event['like'], alpha=.10)\n",
    "ax6.scatter(x=count_by_like_shar, y=count_by_like_shar.index, linestyle='None', marker='o')\n",
    "ax6.set_title('Shared insterests vs like')\n",
    "ax6.set_xlabel('Attribute: Shared insterests')\n",
    "ax6.set_ylabel('Like')\n",
    "ax6.annotate('r=' + str(r_shar),xy=(0.33,10),xytext=(0.33, 10))\n",
    "\n",
    "plt.show()"
   ]
  },
  {
   "cell_type": "markdown",
   "metadata": {},
   "source": [
    "**Correlation between ratings the night of event and like by gender**"
   ]
  },
  {
   "cell_type": "code",
   "execution_count": 29,
   "metadata": {},
   "outputs": [
    {
     "data": {
      "text/plain": [
       "(0.12277171397425433, 0.12762000460408879)"
      ]
     },
     "execution_count": 29,
     "metadata": {},
     "output_type": "execute_result"
    }
   ],
   "source": [
    "r_attr_o_g = (pearson_r(dating_data_clean.loc[test_gender_w,'attr'], dating_data_clean.loc[test_gender_w, 'like']),pearson_r(dating_data_clean.loc[test_gender_m,'attr'], dating_data_clean.loc[test_gender_m, 'like'])) \n",
    "\n",
    "# correlation: women, men\n",
    "r_attr_o_g\n"
   ]
  },
  {
   "cell_type": "code",
   "execution_count": 30,
   "metadata": {},
   "outputs": [
    {
     "data": {
      "text/plain": [
       "(-0.15996433860962966, -0.15674072657169558)"
      ]
     },
     "execution_count": 30,
     "metadata": {},
     "output_type": "execute_result"
    }
   ],
   "source": [
    "r_sinc_o_g = (pearson_r(dating_data_clean.loc[test_gender_w,'sinc'], dating_data_clean.loc[test_gender_w, 'like']),pearson_r(dating_data_clean.loc[test_gender_m,'sinc'], dating_data_clean.loc[test_gender_m, 'like'])) \n",
    "\n",
    "# correlation: women, men\n",
    "r_sinc_o_g"
   ]
  },
  {
   "cell_type": "code",
   "execution_count": 31,
   "metadata": {},
   "outputs": [
    {
     "data": {
      "text/plain": [
       "(-0.27774911757473325, -0.22685349181209147)"
      ]
     },
     "execution_count": 31,
     "metadata": {},
     "output_type": "execute_result"
    }
   ],
   "source": [
    "r_intel_o_g = (pearson_r(dating_data_clean.loc[test_gender_w,'intel'], dating_data_clean.loc[test_gender_w, 'like']),pearson_r(dating_data_clean.loc[test_gender_m,'intel'], dating_data_clean.loc[test_gender_m, 'like'])) \n",
    "\n",
    "# correlation: women, men\n",
    "r_intel_o_g"
   ]
  },
  {
   "cell_type": "code",
   "execution_count": 32,
   "metadata": {},
   "outputs": [
    {
     "data": {
      "text/plain": [
       "(0.23550206437156218, 0.14736696135878802)"
      ]
     },
     "execution_count": 32,
     "metadata": {},
     "output_type": "execute_result"
    }
   ],
   "source": [
    "r_fun_o_g = (pearson_r(dating_data_clean.loc[test_gender_w,'fun'], dating_data_clean.loc[test_gender_w, 'like']),pearson_r(dating_data_clean.loc[test_gender_m,'fun'], dating_data_clean.loc[test_gender_m, 'like'])) \n",
    "\n",
    "# correlation: women, men\n",
    "r_fun_o_g"
   ]
  },
  {
   "cell_type": "code",
   "execution_count": 33,
   "metadata": {},
   "outputs": [
    {
     "data": {
      "text/plain": [
       "(-0.17642715531539033, -0.15619277032222414)"
      ]
     },
     "execution_count": 33,
     "metadata": {},
     "output_type": "execute_result"
    }
   ],
   "source": [
    "r_amb_o_g = (pearson_r(dating_data_clean.loc[test_gender_w,'amb'], dating_data_clean.loc[test_gender_w, 'like']),pearson_r(dating_data_clean.loc[test_gender_m,'amb'], dating_data_clean.loc[test_gender_m, 'like'])) \n",
    "\n",
    "# correlation: women, men\n",
    "r_amb_o_g"
   ]
  },
  {
   "cell_type": "code",
   "execution_count": 34,
   "metadata": {},
   "outputs": [
    {
     "data": {
      "text/plain": [
       "(0.25880189269474041, 0.19818241188124233)"
      ]
     },
     "execution_count": 34,
     "metadata": {},
     "output_type": "execute_result"
    }
   ],
   "source": [
    "r_shar_o_g = (pearson_r(dating_data_clean.loc[test_gender_w,'shar'], dating_data_clean.loc[test_gender_w, 'like']),pearson_r(dating_data_clean.loc[test_gender_m,'shar'], dating_data_clean.loc[test_gender_m, 'like'])) \n",
    "\n",
    "# correlation: women, men\n",
    "r_shar_o_g"
   ]
  },
  {
   "cell_type": "markdown",
   "metadata": {},
   "source": [
    "Findings: \n",
    "- not a big difference based on gender"
   ]
  },
  {
   "cell_type": "markdown",
   "metadata": {},
   "source": [
    "**Correlation between ratings defined as important for participants at sign up and ratings given to partner when decision to see partner again = yes**"
   ]
  },
  {
   "cell_type": "code",
   "execution_count": 35,
   "metadata": {},
   "outputs": [
    {
     "data": {
      "text/html": [
       "<div>\n",
       "<style>\n",
       "    .dataframe thead tr:only-child th {\n",
       "        text-align: right;\n",
       "    }\n",
       "\n",
       "    .dataframe thead th {\n",
       "        text-align: left;\n",
       "    }\n",
       "\n",
       "    .dataframe tbody tr th {\n",
       "        vertical-align: top;\n",
       "    }\n",
       "</style>\n",
       "<table border=\"1\" class=\"dataframe\">\n",
       "  <thead>\n",
       "    <tr style=\"text-align: right;\">\n",
       "      <th></th>\n",
       "      <th>attr</th>\n",
       "      <th>sinc</th>\n",
       "      <th>intel</th>\n",
       "      <th>fun</th>\n",
       "      <th>amb</th>\n",
       "      <th>shar</th>\n",
       "    </tr>\n",
       "  </thead>\n",
       "  <tbody>\n",
       "    <tr>\n",
       "      <th>count</th>\n",
       "      <td>3501.000000</td>\n",
       "      <td>3501.000000</td>\n",
       "      <td>3501.000000</td>\n",
       "      <td>3501.000000</td>\n",
       "      <td>3501.000000</td>\n",
       "      <td>3501.000000</td>\n",
       "    </tr>\n",
       "    <tr>\n",
       "      <th>mean</th>\n",
       "      <td>0.175837</td>\n",
       "      <td>0.179777</td>\n",
       "      <td>0.183482</td>\n",
       "      <td>0.170709</td>\n",
       "      <td>0.155295</td>\n",
       "      <td>0.134328</td>\n",
       "    </tr>\n",
       "    <tr>\n",
       "      <th>std</th>\n",
       "      <td>0.048919</td>\n",
       "      <td>0.039845</td>\n",
       "      <td>0.037531</td>\n",
       "      <td>0.039198</td>\n",
       "      <td>0.050874</td>\n",
       "      <td>0.055564</td>\n",
       "    </tr>\n",
       "    <tr>\n",
       "      <th>min</th>\n",
       "      <td>0.000000</td>\n",
       "      <td>0.000000</td>\n",
       "      <td>0.000000</td>\n",
       "      <td>0.000000</td>\n",
       "      <td>0.000000</td>\n",
       "      <td>0.000000</td>\n",
       "    </tr>\n",
       "    <tr>\n",
       "      <th>25%</th>\n",
       "      <td>0.155556</td>\n",
       "      <td>0.163265</td>\n",
       "      <td>0.166667</td>\n",
       "      <td>0.157895</td>\n",
       "      <td>0.146341</td>\n",
       "      <td>0.120000</td>\n",
       "    </tr>\n",
       "    <tr>\n",
       "      <th>50%</th>\n",
       "      <td>0.170213</td>\n",
       "      <td>0.175000</td>\n",
       "      <td>0.179487</td>\n",
       "      <td>0.170213</td>\n",
       "      <td>0.166667</td>\n",
       "      <td>0.148936</td>\n",
       "    </tr>\n",
       "    <tr>\n",
       "      <th>75%</th>\n",
       "      <td>0.190476</td>\n",
       "      <td>0.195122</td>\n",
       "      <td>0.195122</td>\n",
       "      <td>0.186047</td>\n",
       "      <td>0.179487</td>\n",
       "      <td>0.166667</td>\n",
       "    </tr>\n",
       "    <tr>\n",
       "      <th>max</th>\n",
       "      <td>1.000000</td>\n",
       "      <td>0.583333</td>\n",
       "      <td>0.500000</td>\n",
       "      <td>0.562500</td>\n",
       "      <td>0.500000</td>\n",
       "      <td>0.416667</td>\n",
       "    </tr>\n",
       "  </tbody>\n",
       "</table>\n",
       "</div>"
      ],
      "text/plain": [
       "              attr         sinc        intel          fun          amb  \\\n",
       "count  3501.000000  3501.000000  3501.000000  3501.000000  3501.000000   \n",
       "mean      0.175837     0.179777     0.183482     0.170709     0.155295   \n",
       "std       0.048919     0.039845     0.037531     0.039198     0.050874   \n",
       "min       0.000000     0.000000     0.000000     0.000000     0.000000   \n",
       "25%       0.155556     0.163265     0.166667     0.157895     0.146341   \n",
       "50%       0.170213     0.175000     0.179487     0.170213     0.166667   \n",
       "75%       0.190476     0.195122     0.195122     0.186047     0.179487   \n",
       "max       1.000000     0.583333     0.500000     0.562500     0.500000   \n",
       "\n",
       "              shar  \n",
       "count  3501.000000  \n",
       "mean      0.134328  \n",
       "std       0.055564  \n",
       "min       0.000000  \n",
       "25%       0.120000  \n",
       "50%       0.148936  \n",
       "75%       0.166667  \n",
       "max       0.416667  "
      ]
     },
     "execution_count": 35,
     "metadata": {},
     "output_type": "execute_result"
    }
   ],
   "source": [
    "dec_check = dating_data_clean['dec'] == 1\n",
    "dec_data_event = dating_data_clean.loc[dec_check,'attr':'shar']\n",
    "dec_data_event.describe()"
   ]
  },
  {
   "cell_type": "code",
   "execution_count": 36,
   "metadata": {},
   "outputs": [
    {
     "data": {
      "text/plain": [
       "<function matplotlib.pyplot.show>"
      ]
     },
     "execution_count": 36,
     "metadata": {},
     "output_type": "execute_result"
    }
   ],
   "source": [
    "plt.subplot(2, 3, 1)\n",
    "plt.hist(dec_data_event['attr'], normed=True, bins=100)\n",
    "\n",
    "plt.subplot(2, 3, 2)\n",
    "plt.hist(dec_data_event['sinc'], normed=True, bins=100)\n",
    "\n",
    "plt.subplot(2, 3, 3)\n",
    "plt.hist(dec_data_event['intel'], normed=True, bins=100)\n",
    "\n",
    "plt.subplot(2, 3, 4)\n",
    "plt.hist(dec_data_event['fun'], normed=True, bins=100)\n",
    "\n",
    "plt.subplot(2, 3, 5)\n",
    "plt.hist(dec_data_event['amb'], normed=True, bins=100)\n",
    "\n",
    "plt.subplot(2, 3, 6)\n",
    "plt.hist(dec_data_event['shar'], normed=True, bins=100)\n",
    "\n",
    "\n",
    "plt.show"
   ]
  },
  {
   "cell_type": "code",
   "execution_count": 37,
   "metadata": {},
   "outputs": [
    {
     "data": {
      "text/html": [
       "<div>\n",
       "<style>\n",
       "    .dataframe thead tr:only-child th {\n",
       "        text-align: right;\n",
       "    }\n",
       "\n",
       "    .dataframe thead th {\n",
       "        text-align: left;\n",
       "    }\n",
       "\n",
       "    .dataframe tbody tr th {\n",
       "        vertical-align: top;\n",
       "    }\n",
       "</style>\n",
       "<table border=\"1\" class=\"dataframe\">\n",
       "  <thead>\n",
       "    <tr style=\"text-align: right;\">\n",
       "      <th></th>\n",
       "      <th>attr1_1</th>\n",
       "      <th>sinc1_1</th>\n",
       "      <th>intel1_1</th>\n",
       "      <th>fun1_1</th>\n",
       "      <th>amb1_1</th>\n",
       "      <th>shar1_1</th>\n",
       "    </tr>\n",
       "  </thead>\n",
       "  <tbody>\n",
       "    <tr>\n",
       "      <th>count</th>\n",
       "      <td>3501.000000</td>\n",
       "      <td>3501.000000</td>\n",
       "      <td>3501.000000</td>\n",
       "      <td>3501.000000</td>\n",
       "      <td>3501.000000</td>\n",
       "      <td>3501.000000</td>\n",
       "    </tr>\n",
       "    <tr>\n",
       "      <th>mean</th>\n",
       "      <td>0.220708</td>\n",
       "      <td>0.175060</td>\n",
       "      <td>0.200642</td>\n",
       "      <td>0.172801</td>\n",
       "      <td>0.104025</td>\n",
       "      <td>0.120196</td>\n",
       "    </tr>\n",
       "    <tr>\n",
       "      <th>std</th>\n",
       "      <td>0.127457</td>\n",
       "      <td>0.071467</td>\n",
       "      <td>0.069375</td>\n",
       "      <td>0.063975</td>\n",
       "      <td>0.060419</td>\n",
       "      <td>0.067829</td>\n",
       "    </tr>\n",
       "    <tr>\n",
       "      <th>min</th>\n",
       "      <td>0.000000</td>\n",
       "      <td>0.000000</td>\n",
       "      <td>0.000000</td>\n",
       "      <td>0.000000</td>\n",
       "      <td>0.000000</td>\n",
       "      <td>0.000000</td>\n",
       "    </tr>\n",
       "    <tr>\n",
       "      <th>25%</th>\n",
       "      <td>0.150000</td>\n",
       "      <td>0.150000</td>\n",
       "      <td>0.177782</td>\n",
       "      <td>0.147071</td>\n",
       "      <td>0.050000</td>\n",
       "      <td>0.080000</td>\n",
       "    </tr>\n",
       "    <tr>\n",
       "      <th>50%</th>\n",
       "      <td>0.200000</td>\n",
       "      <td>0.189219</td>\n",
       "      <td>0.200000</td>\n",
       "      <td>0.179518</td>\n",
       "      <td>0.100000</td>\n",
       "      <td>0.111111</td>\n",
       "    </tr>\n",
       "    <tr>\n",
       "      <th>75%</th>\n",
       "      <td>0.250000</td>\n",
       "      <td>0.200000</td>\n",
       "      <td>0.238100</td>\n",
       "      <td>0.200000</td>\n",
       "      <td>0.150000</td>\n",
       "      <td>0.169800</td>\n",
       "    </tr>\n",
       "    <tr>\n",
       "      <th>max</th>\n",
       "      <td>1.000000</td>\n",
       "      <td>0.600000</td>\n",
       "      <td>0.500000</td>\n",
       "      <td>0.500000</td>\n",
       "      <td>0.358108</td>\n",
       "      <td>0.300000</td>\n",
       "    </tr>\n",
       "  </tbody>\n",
       "</table>\n",
       "</div>"
      ],
      "text/plain": [
       "           attr1_1      sinc1_1     intel1_1       fun1_1       amb1_1  \\\n",
       "count  3501.000000  3501.000000  3501.000000  3501.000000  3501.000000   \n",
       "mean      0.220708     0.175060     0.200642     0.172801     0.104025   \n",
       "std       0.127457     0.071467     0.069375     0.063975     0.060419   \n",
       "min       0.000000     0.000000     0.000000     0.000000     0.000000   \n",
       "25%       0.150000     0.150000     0.177782     0.147071     0.050000   \n",
       "50%       0.200000     0.189219     0.200000     0.179518     0.100000   \n",
       "75%       0.250000     0.200000     0.238100     0.200000     0.150000   \n",
       "max       1.000000     0.600000     0.500000     0.500000     0.358108   \n",
       "\n",
       "           shar1_1  \n",
       "count  3501.000000  \n",
       "mean      0.120196  \n",
       "std       0.067829  \n",
       "min       0.000000  \n",
       "25%       0.080000  \n",
       "50%       0.111111  \n",
       "75%       0.169800  \n",
       "max       0.300000  "
      ]
     },
     "execution_count": 37,
     "metadata": {},
     "output_type": "execute_result"
    }
   ],
   "source": [
    "dec_data_signup = dating_data_clean.loc[dec_check,'attr1_1':'shar1_1']\n",
    "dec_data_signup.describe()"
   ]
  },
  {
   "cell_type": "code",
   "execution_count": 38,
   "metadata": {},
   "outputs": [
    {
     "data": {
      "text/plain": [
       "0.086546249763918573"
      ]
     },
     "execution_count": 38,
     "metadata": {},
     "output_type": "execute_result"
    }
   ],
   "source": [
    "from scipy.stats.stats import pearsonr\n",
    "\n",
    "r, p_value = pearsonr(dec_data_signup[\"attr1_1\"], dec_data_event[\"attr\"])\n",
    "r"
   ]
  },
  {
   "cell_type": "code",
   "execution_count": 39,
   "metadata": {},
   "outputs": [
    {
     "data": {
      "text/plain": [
       "0.020917505254446113"
      ]
     },
     "execution_count": 39,
     "metadata": {},
     "output_type": "execute_result"
    }
   ],
   "source": [
    "r, p_value = pearsonr(dec_data_signup[\"sinc1_1\"], dec_data_event[\"sinc\"])\n",
    "r"
   ]
  },
  {
   "cell_type": "code",
   "execution_count": 40,
   "metadata": {},
   "outputs": [
    {
     "data": {
      "text/plain": [
       "-0.0030664664717438223"
      ]
     },
     "execution_count": 40,
     "metadata": {},
     "output_type": "execute_result"
    }
   ],
   "source": [
    "r, p_value = pearsonr(dec_data_signup[\"intel1_1\"], dec_data_event[\"intel\"])\n",
    "r"
   ]
  },
  {
   "cell_type": "code",
   "execution_count": 41,
   "metadata": {},
   "outputs": [
    {
     "data": {
      "text/plain": [
       "0.049377289530955416"
      ]
     },
     "execution_count": 41,
     "metadata": {},
     "output_type": "execute_result"
    }
   ],
   "source": [
    "r, p_value = pearsonr(dec_data_signup[\"fun1_1\"], dec_data_event[\"fun\"])\n",
    "r"
   ]
  },
  {
   "cell_type": "code",
   "execution_count": 42,
   "metadata": {},
   "outputs": [
    {
     "data": {
      "text/plain": [
       "0.097102323614510239"
      ]
     },
     "execution_count": 42,
     "metadata": {},
     "output_type": "execute_result"
    }
   ],
   "source": [
    "r, p_value = pearsonr(dec_data_signup[\"amb1_1\"], dec_data_event[\"amb\"])\n",
    "r"
   ]
  },
  {
   "cell_type": "code",
   "execution_count": 43,
   "metadata": {},
   "outputs": [
    {
     "data": {
      "text/plain": [
       "-0.012589961511008526"
      ]
     },
     "execution_count": 43,
     "metadata": {},
     "output_type": "execute_result"
    }
   ],
   "source": [
    "r, p_value = pearsonr(dec_data_signup[\"shar1_1\"], dec_data_event[\"shar\"])\n",
    "r"
   ]
  },
  {
   "cell_type": "markdown",
   "metadata": {},
   "source": [
    "Weak correlation between attributes that were ranked based on importance at sign up and attributes ranking the night of even for participants that said yes to a second date."
   ]
  },
  {
   "cell_type": "markdown",
   "metadata": {},
   "source": [
    "**Correlation between ratings defined as important for participants at sign up and ratings given to partner when decision to see partner again = no**"
   ]
  },
  {
   "cell_type": "code",
   "execution_count": 44,
   "metadata": {},
   "outputs": [
    {
     "data": {
      "text/html": [
       "<div>\n",
       "<style>\n",
       "    .dataframe thead tr:only-child th {\n",
       "        text-align: right;\n",
       "    }\n",
       "\n",
       "    .dataframe thead th {\n",
       "        text-align: left;\n",
       "    }\n",
       "\n",
       "    .dataframe tbody tr th {\n",
       "        vertical-align: top;\n",
       "    }\n",
       "</style>\n",
       "<table border=\"1\" class=\"dataframe\">\n",
       "  <thead>\n",
       "    <tr style=\"text-align: right;\">\n",
       "      <th></th>\n",
       "      <th>attr</th>\n",
       "      <th>sinc</th>\n",
       "      <th>intel</th>\n",
       "      <th>fun</th>\n",
       "      <th>amb</th>\n",
       "      <th>shar</th>\n",
       "    </tr>\n",
       "  </thead>\n",
       "  <tbody>\n",
       "    <tr>\n",
       "      <th>count</th>\n",
       "      <td>4629.000000</td>\n",
       "      <td>4629.000000</td>\n",
       "      <td>4629.000000</td>\n",
       "      <td>4629.000000</td>\n",
       "      <td>4629.000000</td>\n",
       "      <td>4629.000000</td>\n",
       "    </tr>\n",
       "    <tr>\n",
       "      <th>mean</th>\n",
       "      <td>0.156182</td>\n",
       "      <td>0.196363</td>\n",
       "      <td>0.201832</td>\n",
       "      <td>0.157815</td>\n",
       "      <td>0.172094</td>\n",
       "      <td>0.114851</td>\n",
       "    </tr>\n",
       "    <tr>\n",
       "      <th>std</th>\n",
       "      <td>0.062003</td>\n",
       "      <td>0.056962</td>\n",
       "      <td>0.050860</td>\n",
       "      <td>0.047794</td>\n",
       "      <td>0.061538</td>\n",
       "      <td>0.059659</td>\n",
       "    </tr>\n",
       "    <tr>\n",
       "      <th>min</th>\n",
       "      <td>0.000000</td>\n",
       "      <td>0.000000</td>\n",
       "      <td>0.000000</td>\n",
       "      <td>0.000000</td>\n",
       "      <td>0.000000</td>\n",
       "      <td>0.000000</td>\n",
       "    </tr>\n",
       "    <tr>\n",
       "      <th>25%</th>\n",
       "      <td>0.127660</td>\n",
       "      <td>0.166667</td>\n",
       "      <td>0.176471</td>\n",
       "      <td>0.138889</td>\n",
       "      <td>0.152174</td>\n",
       "      <td>0.081081</td>\n",
       "    </tr>\n",
       "    <tr>\n",
       "      <th>50%</th>\n",
       "      <td>0.153846</td>\n",
       "      <td>0.191489</td>\n",
       "      <td>0.195122</td>\n",
       "      <td>0.162162</td>\n",
       "      <td>0.175000</td>\n",
       "      <td>0.127660</td>\n",
       "    </tr>\n",
       "    <tr>\n",
       "      <th>75%</th>\n",
       "      <td>0.178571</td>\n",
       "      <td>0.216216</td>\n",
       "      <td>0.222222</td>\n",
       "      <td>0.181818</td>\n",
       "      <td>0.200000</td>\n",
       "      <td>0.155556</td>\n",
       "    </tr>\n",
       "    <tr>\n",
       "      <th>max</th>\n",
       "      <td>1.000000</td>\n",
       "      <td>0.909091</td>\n",
       "      <td>0.692308</td>\n",
       "      <td>0.421053</td>\n",
       "      <td>0.500000</td>\n",
       "      <td>0.470588</td>\n",
       "    </tr>\n",
       "  </tbody>\n",
       "</table>\n",
       "</div>"
      ],
      "text/plain": [
       "              attr         sinc        intel          fun          amb  \\\n",
       "count  4629.000000  4629.000000  4629.000000  4629.000000  4629.000000   \n",
       "mean      0.156182     0.196363     0.201832     0.157815     0.172094   \n",
       "std       0.062003     0.056962     0.050860     0.047794     0.061538   \n",
       "min       0.000000     0.000000     0.000000     0.000000     0.000000   \n",
       "25%       0.127660     0.166667     0.176471     0.138889     0.152174   \n",
       "50%       0.153846     0.191489     0.195122     0.162162     0.175000   \n",
       "75%       0.178571     0.216216     0.222222     0.181818     0.200000   \n",
       "max       1.000000     0.909091     0.692308     0.421053     0.500000   \n",
       "\n",
       "              shar  \n",
       "count  4629.000000  \n",
       "mean      0.114851  \n",
       "std       0.059659  \n",
       "min       0.000000  \n",
       "25%       0.081081  \n",
       "50%       0.127660  \n",
       "75%       0.155556  \n",
       "max       0.470588  "
      ]
     },
     "execution_count": 44,
     "metadata": {},
     "output_type": "execute_result"
    }
   ],
   "source": [
    "dec_check_no = dating_data_clean['dec'] == 0\n",
    "dec_data_event = dating_data_clean.loc[dec_check_no,'attr':'shar']\n",
    "dec_data_event.describe()"
   ]
  },
  {
   "cell_type": "code",
   "execution_count": 45,
   "metadata": {},
   "outputs": [
    {
     "data": {
      "text/html": [
       "<div>\n",
       "<style>\n",
       "    .dataframe thead tr:only-child th {\n",
       "        text-align: right;\n",
       "    }\n",
       "\n",
       "    .dataframe thead th {\n",
       "        text-align: left;\n",
       "    }\n",
       "\n",
       "    .dataframe tbody tr th {\n",
       "        vertical-align: top;\n",
       "    }\n",
       "</style>\n",
       "<table border=\"1\" class=\"dataframe\">\n",
       "  <thead>\n",
       "    <tr style=\"text-align: right;\">\n",
       "      <th></th>\n",
       "      <th>attr1_1</th>\n",
       "      <th>sinc1_1</th>\n",
       "      <th>intel1_1</th>\n",
       "      <th>fun1_1</th>\n",
       "      <th>amb1_1</th>\n",
       "      <th>shar1_1</th>\n",
       "    </tr>\n",
       "  </thead>\n",
       "  <tbody>\n",
       "    <tr>\n",
       "      <th>count</th>\n",
       "      <td>4629.000000</td>\n",
       "      <td>4629.000000</td>\n",
       "      <td>4629.000000</td>\n",
       "      <td>4629.000000</td>\n",
       "      <td>4629.000000</td>\n",
       "      <td>4629.000000</td>\n",
       "    </tr>\n",
       "    <tr>\n",
       "      <th>mean</th>\n",
       "      <td>0.224966</td>\n",
       "      <td>0.170440</td>\n",
       "      <td>0.201641</td>\n",
       "      <td>0.172309</td>\n",
       "      <td>0.106942</td>\n",
       "      <td>0.113765</td>\n",
       "    </tr>\n",
       "    <tr>\n",
       "      <th>std</th>\n",
       "      <td>0.127057</td>\n",
       "      <td>0.072438</td>\n",
       "      <td>0.070870</td>\n",
       "      <td>0.062112</td>\n",
       "      <td>0.060834</td>\n",
       "      <td>0.062099</td>\n",
       "    </tr>\n",
       "    <tr>\n",
       "      <th>min</th>\n",
       "      <td>0.000000</td>\n",
       "      <td>0.000000</td>\n",
       "      <td>0.000000</td>\n",
       "      <td>0.000000</td>\n",
       "      <td>0.000000</td>\n",
       "      <td>0.000000</td>\n",
       "    </tr>\n",
       "    <tr>\n",
       "      <th>25%</th>\n",
       "      <td>0.150000</td>\n",
       "      <td>0.140000</td>\n",
       "      <td>0.173100</td>\n",
       "      <td>0.150000</td>\n",
       "      <td>0.050000</td>\n",
       "      <td>0.080000</td>\n",
       "    </tr>\n",
       "    <tr>\n",
       "      <th>50%</th>\n",
       "      <td>0.200000</td>\n",
       "      <td>0.180000</td>\n",
       "      <td>0.200000</td>\n",
       "      <td>0.180000</td>\n",
       "      <td>0.100000</td>\n",
       "      <td>0.100000</td>\n",
       "    </tr>\n",
       "    <tr>\n",
       "      <th>75%</th>\n",
       "      <td>0.250000</td>\n",
       "      <td>0.200000</td>\n",
       "      <td>0.227323</td>\n",
       "      <td>0.200000</td>\n",
       "      <td>0.150000</td>\n",
       "      <td>0.150000</td>\n",
       "    </tr>\n",
       "    <tr>\n",
       "      <th>max</th>\n",
       "      <td>1.000000</td>\n",
       "      <td>0.600000</td>\n",
       "      <td>0.500000</td>\n",
       "      <td>0.500000</td>\n",
       "      <td>0.358108</td>\n",
       "      <td>0.300000</td>\n",
       "    </tr>\n",
       "  </tbody>\n",
       "</table>\n",
       "</div>"
      ],
      "text/plain": [
       "           attr1_1      sinc1_1     intel1_1       fun1_1       amb1_1  \\\n",
       "count  4629.000000  4629.000000  4629.000000  4629.000000  4629.000000   \n",
       "mean      0.224966     0.170440     0.201641     0.172309     0.106942   \n",
       "std       0.127057     0.072438     0.070870     0.062112     0.060834   \n",
       "min       0.000000     0.000000     0.000000     0.000000     0.000000   \n",
       "25%       0.150000     0.140000     0.173100     0.150000     0.050000   \n",
       "50%       0.200000     0.180000     0.200000     0.180000     0.100000   \n",
       "75%       0.250000     0.200000     0.227323     0.200000     0.150000   \n",
       "max       1.000000     0.600000     0.500000     0.500000     0.358108   \n",
       "\n",
       "           shar1_1  \n",
       "count  4629.000000  \n",
       "mean      0.113765  \n",
       "std       0.062099  \n",
       "min       0.000000  \n",
       "25%       0.080000  \n",
       "50%       0.100000  \n",
       "75%       0.150000  \n",
       "max       0.300000  "
      ]
     },
     "execution_count": 45,
     "metadata": {},
     "output_type": "execute_result"
    }
   ],
   "source": [
    "dec_data_signup = dating_data_clean.loc[dec_check_no,'attr1_1':'shar1_1']\n",
    "dec_data_signup.describe()"
   ]
  },
  {
   "cell_type": "code",
   "execution_count": 46,
   "metadata": {},
   "outputs": [
    {
     "data": {
      "text/plain": [
       "-0.00051471268108420061"
      ]
     },
     "execution_count": 46,
     "metadata": {},
     "output_type": "execute_result"
    }
   ],
   "source": [
    "r, p_value = pearsonr(dec_data_signup[\"attr1_1\"], dec_data_event[\"attr\"])\n",
    "r"
   ]
  },
  {
   "cell_type": "code",
   "execution_count": 47,
   "metadata": {},
   "outputs": [
    {
     "data": {
      "text/plain": [
       "-0.039554598538752421"
      ]
     },
     "execution_count": 47,
     "metadata": {},
     "output_type": "execute_result"
    }
   ],
   "source": [
    "r, p_value = pearsonr(dec_data_signup[\"sinc1_1\"], dec_data_event[\"sinc\"])\n",
    "r"
   ]
  },
  {
   "cell_type": "code",
   "execution_count": 48,
   "metadata": {},
   "outputs": [
    {
     "data": {
      "text/plain": [
       "0.0055873166593916343"
      ]
     },
     "execution_count": 48,
     "metadata": {},
     "output_type": "execute_result"
    }
   ],
   "source": [
    "r, p_value = pearsonr(dec_data_signup[\"intel1_1\"], dec_data_event[\"intel\"])\n",
    "r"
   ]
  },
  {
   "cell_type": "code",
   "execution_count": 49,
   "metadata": {},
   "outputs": [
    {
     "data": {
      "text/plain": [
       "-0.0057500830536163497"
      ]
     },
     "execution_count": 49,
     "metadata": {},
     "output_type": "execute_result"
    }
   ],
   "source": [
    "r, p_value = pearsonr(dec_data_signup[\"fun1_1\"], dec_data_event[\"fun\"])\n",
    "r"
   ]
  },
  {
   "cell_type": "code",
   "execution_count": 50,
   "metadata": {},
   "outputs": [
    {
     "data": {
      "text/plain": [
       "0.07300848738938924"
      ]
     },
     "execution_count": 50,
     "metadata": {},
     "output_type": "execute_result"
    }
   ],
   "source": [
    "r, p_value = pearsonr(dec_data_signup[\"amb1_1\"], dec_data_event[\"amb\"])\n",
    "r"
   ]
  },
  {
   "cell_type": "code",
   "execution_count": 51,
   "metadata": {},
   "outputs": [
    {
     "data": {
      "text/plain": [
       "-0.0004194855264972844"
      ]
     },
     "execution_count": 51,
     "metadata": {},
     "output_type": "execute_result"
    }
   ],
   "source": [
    "r, p_value = pearsonr(dec_data_signup[\"shar1_1\"], dec_data_event[\"shar\"])\n",
    "r"
   ]
  },
  {
   "cell_type": "markdown",
   "metadata": {},
   "source": [
    "All but intelligence attribute have negative correlation, which is expected for the group with decision = no\n",
    "\n",
    "Weak correlation between attributes that were ranked based on importance at sign up and attributes ranking the night of even for participants that said no to a second date, which may indicate that they said no because the partner didn't met their expectations in the important attributes."
   ]
  },
  {
   "cell_type": "markdown",
   "metadata": {},
   "source": [
    "**Analysis between self assessment and ratings received by partner when decision to be seen by partner again = yes**\n",
    "\n",
    "Question: does the self assessment (self-confidence regarding own attributes) define how the participant is perceived by partners?"
   ]
  },
  {
   "cell_type": "code",
   "execution_count": 52,
   "metadata": {},
   "outputs": [
    {
     "data": {
      "text/html": [
       "<div>\n",
       "<style>\n",
       "    .dataframe thead tr:only-child th {\n",
       "        text-align: right;\n",
       "    }\n",
       "\n",
       "    .dataframe thead th {\n",
       "        text-align: left;\n",
       "    }\n",
       "\n",
       "    .dataframe tbody tr th {\n",
       "        vertical-align: top;\n",
       "    }\n",
       "</style>\n",
       "<table border=\"1\" class=\"dataframe\">\n",
       "  <thead>\n",
       "    <tr style=\"text-align: right;\">\n",
       "      <th></th>\n",
       "      <th>attr3_s</th>\n",
       "      <th>sinc3_s</th>\n",
       "      <th>intel3_s</th>\n",
       "      <th>fun3_s</th>\n",
       "      <th>amb3_s</th>\n",
       "    </tr>\n",
       "  </thead>\n",
       "  <tbody>\n",
       "    <tr>\n",
       "      <th>count</th>\n",
       "      <td>3501.000000</td>\n",
       "      <td>3501.000000</td>\n",
       "      <td>3501.000000</td>\n",
       "      <td>3501.000000</td>\n",
       "      <td>3501.000000</td>\n",
       "    </tr>\n",
       "    <tr>\n",
       "      <th>mean</th>\n",
       "      <td>0.091134</td>\n",
       "      <td>0.104579</td>\n",
       "      <td>0.106661</td>\n",
       "      <td>0.096840</td>\n",
       "      <td>0.097215</td>\n",
       "    </tr>\n",
       "    <tr>\n",
       "      <th>std</th>\n",
       "      <td>0.093932</td>\n",
       "      <td>0.107866</td>\n",
       "      <td>0.108918</td>\n",
       "      <td>0.100015</td>\n",
       "      <td>0.101383</td>\n",
       "    </tr>\n",
       "    <tr>\n",
       "      <th>min</th>\n",
       "      <td>0.000000</td>\n",
       "      <td>0.000000</td>\n",
       "      <td>0.000000</td>\n",
       "      <td>0.000000</td>\n",
       "      <td>0.000000</td>\n",
       "    </tr>\n",
       "    <tr>\n",
       "      <th>25%</th>\n",
       "      <td>0.000000</td>\n",
       "      <td>0.000000</td>\n",
       "      <td>0.000000</td>\n",
       "      <td>0.000000</td>\n",
       "      <td>0.000000</td>\n",
       "    </tr>\n",
       "    <tr>\n",
       "      <th>50%</th>\n",
       "      <td>0.000000</td>\n",
       "      <td>0.000000</td>\n",
       "      <td>0.000000</td>\n",
       "      <td>0.000000</td>\n",
       "      <td>0.000000</td>\n",
       "    </tr>\n",
       "    <tr>\n",
       "      <th>75%</th>\n",
       "      <td>0.186047</td>\n",
       "      <td>0.210526</td>\n",
       "      <td>0.210526</td>\n",
       "      <td>0.200000</td>\n",
       "      <td>0.200000</td>\n",
       "    </tr>\n",
       "    <tr>\n",
       "      <th>max</th>\n",
       "      <td>0.281250</td>\n",
       "      <td>0.307692</td>\n",
       "      <td>0.333333</td>\n",
       "      <td>0.290323</td>\n",
       "      <td>0.333333</td>\n",
       "    </tr>\n",
       "  </tbody>\n",
       "</table>\n",
       "</div>"
      ],
      "text/plain": [
       "           attr3_s      sinc3_s     intel3_s       fun3_s       amb3_s\n",
       "count  3501.000000  3501.000000  3501.000000  3501.000000  3501.000000\n",
       "mean      0.091134     0.104579     0.106661     0.096840     0.097215\n",
       "std       0.093932     0.107866     0.108918     0.100015     0.101383\n",
       "min       0.000000     0.000000     0.000000     0.000000     0.000000\n",
       "25%       0.000000     0.000000     0.000000     0.000000     0.000000\n",
       "50%       0.000000     0.000000     0.000000     0.000000     0.000000\n",
       "75%       0.186047     0.210526     0.210526     0.200000     0.200000\n",
       "max       0.281250     0.307692     0.333333     0.290323     0.333333"
      ]
     },
     "execution_count": 52,
     "metadata": {},
     "output_type": "execute_result"
    }
   ],
   "source": [
    "dec_data_self = dating_data_clean.loc[dec_check,'attr3_s':'amb3_s']\n",
    "dec_data_self.describe()"
   ]
  },
  {
   "cell_type": "code",
   "execution_count": 53,
   "metadata": {},
   "outputs": [
    {
     "data": {
      "text/html": [
       "<div>\n",
       "<style>\n",
       "    .dataframe thead tr:only-child th {\n",
       "        text-align: right;\n",
       "    }\n",
       "\n",
       "    .dataframe thead th {\n",
       "        text-align: left;\n",
       "    }\n",
       "\n",
       "    .dataframe tbody tr th {\n",
       "        vertical-align: top;\n",
       "    }\n",
       "</style>\n",
       "<table border=\"1\" class=\"dataframe\">\n",
       "  <thead>\n",
       "    <tr style=\"text-align: right;\">\n",
       "      <th></th>\n",
       "      <th>pf_o_att</th>\n",
       "      <th>pf_o_sin</th>\n",
       "      <th>pf_o_int</th>\n",
       "      <th>pf_o_fun</th>\n",
       "      <th>pf_o_amb</th>\n",
       "      <th>pf_o_sha</th>\n",
       "    </tr>\n",
       "  </thead>\n",
       "  <tbody>\n",
       "    <tr>\n",
       "      <th>count</th>\n",
       "      <td>3501.000000</td>\n",
       "      <td>3501.000000</td>\n",
       "      <td>3501.000000</td>\n",
       "      <td>3501.000000</td>\n",
       "      <td>3501.000000</td>\n",
       "      <td>3501.000000</td>\n",
       "    </tr>\n",
       "    <tr>\n",
       "      <th>mean</th>\n",
       "      <td>0.227281</td>\n",
       "      <td>0.166043</td>\n",
       "      <td>0.200332</td>\n",
       "      <td>0.174684</td>\n",
       "      <td>0.107601</td>\n",
       "      <td>0.110634</td>\n",
       "    </tr>\n",
       "    <tr>\n",
       "      <th>std</th>\n",
       "      <td>0.138812</td>\n",
       "      <td>0.071668</td>\n",
       "      <td>0.072088</td>\n",
       "      <td>0.064646</td>\n",
       "      <td>0.062691</td>\n",
       "      <td>0.062403</td>\n",
       "    </tr>\n",
       "    <tr>\n",
       "      <th>min</th>\n",
       "      <td>0.000000</td>\n",
       "      <td>0.000000</td>\n",
       "      <td>0.000000</td>\n",
       "      <td>0.000000</td>\n",
       "      <td>0.000000</td>\n",
       "      <td>0.000000</td>\n",
       "    </tr>\n",
       "    <tr>\n",
       "      <th>25%</th>\n",
       "      <td>0.150000</td>\n",
       "      <td>0.125000</td>\n",
       "      <td>0.173100</td>\n",
       "      <td>0.150000</td>\n",
       "      <td>0.050000</td>\n",
       "      <td>0.055556</td>\n",
       "    </tr>\n",
       "    <tr>\n",
       "      <th>50%</th>\n",
       "      <td>0.200000</td>\n",
       "      <td>0.179500</td>\n",
       "      <td>0.200000</td>\n",
       "      <td>0.181818</td>\n",
       "      <td>0.100000</td>\n",
       "      <td>0.100000</td>\n",
       "    </tr>\n",
       "    <tr>\n",
       "      <th>75%</th>\n",
       "      <td>0.250000</td>\n",
       "      <td>0.200000</td>\n",
       "      <td>0.222222</td>\n",
       "      <td>0.200000</td>\n",
       "      <td>0.150000</td>\n",
       "      <td>0.150000</td>\n",
       "    </tr>\n",
       "    <tr>\n",
       "      <th>max</th>\n",
       "      <td>1.000000</td>\n",
       "      <td>0.600000</td>\n",
       "      <td>0.500000</td>\n",
       "      <td>0.500000</td>\n",
       "      <td>0.358108</td>\n",
       "      <td>0.300000</td>\n",
       "    </tr>\n",
       "  </tbody>\n",
       "</table>\n",
       "</div>"
      ],
      "text/plain": [
       "          pf_o_att     pf_o_sin     pf_o_int     pf_o_fun     pf_o_amb  \\\n",
       "count  3501.000000  3501.000000  3501.000000  3501.000000  3501.000000   \n",
       "mean      0.227281     0.166043     0.200332     0.174684     0.107601   \n",
       "std       0.138812     0.071668     0.072088     0.064646     0.062691   \n",
       "min       0.000000     0.000000     0.000000     0.000000     0.000000   \n",
       "25%       0.150000     0.125000     0.173100     0.150000     0.050000   \n",
       "50%       0.200000     0.179500     0.200000     0.181818     0.100000   \n",
       "75%       0.250000     0.200000     0.222222     0.200000     0.150000   \n",
       "max       1.000000     0.600000     0.500000     0.500000     0.358108   \n",
       "\n",
       "          pf_o_sha  \n",
       "count  3501.000000  \n",
       "mean      0.110634  \n",
       "std       0.062403  \n",
       "min       0.000000  \n",
       "25%       0.055556  \n",
       "50%       0.100000  \n",
       "75%       0.150000  \n",
       "max       0.300000  "
      ]
     },
     "execution_count": 53,
     "metadata": {},
     "output_type": "execute_result"
    }
   ],
   "source": [
    "dec_data_partner = dating_data_clean.loc[dec_check,'pf_o_att':'pf_o_sha']\n",
    "dec_data_partner.describe()"
   ]
  },
  {
   "cell_type": "code",
   "execution_count": 54,
   "metadata": {},
   "outputs": [
    {
     "data": {
      "text/plain": [
       "-0.12604173146887773"
      ]
     },
     "execution_count": 54,
     "metadata": {},
     "output_type": "execute_result"
    }
   ],
   "source": [
    "r, p_value = pearsonr(dec_data_self[\"attr3_s\"], dec_data_partner[\"pf_o_att\"])\n",
    "r"
   ]
  },
  {
   "cell_type": "code",
   "execution_count": 55,
   "metadata": {},
   "outputs": [
    {
     "data": {
      "text/plain": [
       "0.080365890001921195"
      ]
     },
     "execution_count": 55,
     "metadata": {},
     "output_type": "execute_result"
    }
   ],
   "source": [
    "r, p_value = pearsonr(dec_data_self[\"sinc3_s\"], dec_data_partner[\"pf_o_sin\"])\n",
    "r"
   ]
  },
  {
   "cell_type": "code",
   "execution_count": 57,
   "metadata": {},
   "outputs": [
    {
     "data": {
      "text/plain": [
       "0.065180151849090998"
      ]
     },
     "execution_count": 57,
     "metadata": {},
     "output_type": "execute_result"
    }
   ],
   "source": [
    "r, p_value = pearsonr(dec_data_self[\"intel3_s\"], dec_data_partner[\"pf_o_fun\"])\n",
    "r"
   ]
  },
  {
   "cell_type": "code",
   "execution_count": 58,
   "metadata": {},
   "outputs": [
    {
     "data": {
      "text/plain": [
       "0.078256088704757698"
      ]
     },
     "execution_count": 58,
     "metadata": {},
     "output_type": "execute_result"
    }
   ],
   "source": [
    "r, p_value = pearsonr(dec_data_self[\"fun3_s\"], dec_data_partner[\"pf_o_fun\"])\n",
    "r"
   ]
  },
  {
   "cell_type": "code",
   "execution_count": 186,
   "metadata": {},
   "outputs": [
    {
     "data": {
      "text/plain": [
       "0.19041255546388783"
      ]
     },
     "execution_count": 186,
     "metadata": {},
     "output_type": "execute_result"
    }
   ],
   "source": [
    "r, p_value = pearsonr(dec_data_self[\"amb3_s\"], dec_data_partner[\"pf_o_amb\"])\n",
    "r"
   ]
  },
  {
   "cell_type": "markdown",
   "metadata": {},
   "source": [
    "Weak correlation between self-assessment and ratings received by partners."
   ]
  },
  {
   "cell_type": "markdown",
   "metadata": {},
   "source": [
    "**Analysis between self assessment and ratings received by partner when decision to be seen by partner again = no**"
   ]
  },
  {
   "cell_type": "code",
   "execution_count": 59,
   "metadata": {},
   "outputs": [
    {
     "data": {
      "text/html": [
       "<div>\n",
       "<style>\n",
       "    .dataframe thead tr:only-child th {\n",
       "        text-align: right;\n",
       "    }\n",
       "\n",
       "    .dataframe thead th {\n",
       "        text-align: left;\n",
       "    }\n",
       "\n",
       "    .dataframe tbody tr th {\n",
       "        vertical-align: top;\n",
       "    }\n",
       "</style>\n",
       "<table border=\"1\" class=\"dataframe\">\n",
       "  <thead>\n",
       "    <tr style=\"text-align: right;\">\n",
       "      <th></th>\n",
       "      <th>attr3_s</th>\n",
       "      <th>sinc3_s</th>\n",
       "      <th>intel3_s</th>\n",
       "      <th>fun3_s</th>\n",
       "      <th>amb3_s</th>\n",
       "    </tr>\n",
       "  </thead>\n",
       "  <tbody>\n",
       "    <tr>\n",
       "      <th>count</th>\n",
       "      <td>4629.000000</td>\n",
       "      <td>4629.000000</td>\n",
       "      <td>4629.000000</td>\n",
       "      <td>4629.000000</td>\n",
       "      <td>4629.000000</td>\n",
       "    </tr>\n",
       "    <tr>\n",
       "      <th>mean</th>\n",
       "      <td>0.088412</td>\n",
       "      <td>0.097906</td>\n",
       "      <td>0.100823</td>\n",
       "      <td>0.093916</td>\n",
       "      <td>0.091831</td>\n",
       "    </tr>\n",
       "    <tr>\n",
       "      <th>std</th>\n",
       "      <td>0.095391</td>\n",
       "      <td>0.105859</td>\n",
       "      <td>0.108146</td>\n",
       "      <td>0.101353</td>\n",
       "      <td>0.100769</td>\n",
       "    </tr>\n",
       "    <tr>\n",
       "      <th>min</th>\n",
       "      <td>0.000000</td>\n",
       "      <td>0.000000</td>\n",
       "      <td>0.000000</td>\n",
       "      <td>0.000000</td>\n",
       "      <td>0.000000</td>\n",
       "    </tr>\n",
       "    <tr>\n",
       "      <th>25%</th>\n",
       "      <td>0.000000</td>\n",
       "      <td>0.000000</td>\n",
       "      <td>0.000000</td>\n",
       "      <td>0.000000</td>\n",
       "      <td>0.000000</td>\n",
       "    </tr>\n",
       "    <tr>\n",
       "      <th>50%</th>\n",
       "      <td>0.000000</td>\n",
       "      <td>0.000000</td>\n",
       "      <td>0.000000</td>\n",
       "      <td>0.000000</td>\n",
       "      <td>0.000000</td>\n",
       "    </tr>\n",
       "    <tr>\n",
       "      <th>75%</th>\n",
       "      <td>0.187500</td>\n",
       "      <td>0.208333</td>\n",
       "      <td>0.205882</td>\n",
       "      <td>0.200000</td>\n",
       "      <td>0.200000</td>\n",
       "    </tr>\n",
       "    <tr>\n",
       "      <th>max</th>\n",
       "      <td>0.281250</td>\n",
       "      <td>0.307692</td>\n",
       "      <td>0.333333</td>\n",
       "      <td>0.290323</td>\n",
       "      <td>0.333333</td>\n",
       "    </tr>\n",
       "  </tbody>\n",
       "</table>\n",
       "</div>"
      ],
      "text/plain": [
       "           attr3_s      sinc3_s     intel3_s       fun3_s       amb3_s\n",
       "count  4629.000000  4629.000000  4629.000000  4629.000000  4629.000000\n",
       "mean      0.088412     0.097906     0.100823     0.093916     0.091831\n",
       "std       0.095391     0.105859     0.108146     0.101353     0.100769\n",
       "min       0.000000     0.000000     0.000000     0.000000     0.000000\n",
       "25%       0.000000     0.000000     0.000000     0.000000     0.000000\n",
       "50%       0.000000     0.000000     0.000000     0.000000     0.000000\n",
       "75%       0.187500     0.208333     0.205882     0.200000     0.200000\n",
       "max       0.281250     0.307692     0.333333     0.290323     0.333333"
      ]
     },
     "execution_count": 59,
     "metadata": {},
     "output_type": "execute_result"
    }
   ],
   "source": [
    "dec_data_self_no = dating_data_clean.loc[dec_check_no,'attr3_s':'amb3_s']\n",
    "dec_data_self_no.describe()"
   ]
  },
  {
   "cell_type": "code",
   "execution_count": 61,
   "metadata": {},
   "outputs": [
    {
     "data": {
      "text/html": [
       "<div>\n",
       "<style>\n",
       "    .dataframe thead tr:only-child th {\n",
       "        text-align: right;\n",
       "    }\n",
       "\n",
       "    .dataframe thead th {\n",
       "        text-align: left;\n",
       "    }\n",
       "\n",
       "    .dataframe tbody tr th {\n",
       "        vertical-align: top;\n",
       "    }\n",
       "</style>\n",
       "<table border=\"1\" class=\"dataframe\">\n",
       "  <thead>\n",
       "    <tr style=\"text-align: right;\">\n",
       "      <th></th>\n",
       "      <th>pf_o_att</th>\n",
       "      <th>pf_o_sin</th>\n",
       "      <th>pf_o_int</th>\n",
       "      <th>pf_o_fun</th>\n",
       "      <th>pf_o_amb</th>\n",
       "      <th>pf_o_sha</th>\n",
       "    </tr>\n",
       "  </thead>\n",
       "  <tbody>\n",
       "    <tr>\n",
       "      <th>count</th>\n",
       "      <td>4629.000000</td>\n",
       "      <td>4629.000000</td>\n",
       "      <td>4629.000000</td>\n",
       "      <td>4629.000000</td>\n",
       "      <td>4629.000000</td>\n",
       "      <td>4629.000000</td>\n",
       "    </tr>\n",
       "    <tr>\n",
       "      <th>mean</th>\n",
       "      <td>0.218194</td>\n",
       "      <td>0.177146</td>\n",
       "      <td>0.201322</td>\n",
       "      <td>0.170772</td>\n",
       "      <td>0.104174</td>\n",
       "      <td>0.121046</td>\n",
       "    </tr>\n",
       "    <tr>\n",
       "      <th>std</th>\n",
       "      <td>0.116682</td>\n",
       "      <td>0.072222</td>\n",
       "      <td>0.069449</td>\n",
       "      <td>0.062077</td>\n",
       "      <td>0.059327</td>\n",
       "      <td>0.066038</td>\n",
       "    </tr>\n",
       "    <tr>\n",
       "      <th>min</th>\n",
       "      <td>0.000000</td>\n",
       "      <td>0.000000</td>\n",
       "      <td>0.000000</td>\n",
       "      <td>0.000000</td>\n",
       "      <td>0.000000</td>\n",
       "      <td>0.000000</td>\n",
       "    </tr>\n",
       "    <tr>\n",
       "      <th>25%</th>\n",
       "      <td>0.150000</td>\n",
       "      <td>0.150000</td>\n",
       "      <td>0.173100</td>\n",
       "      <td>0.150000</td>\n",
       "      <td>0.050000</td>\n",
       "      <td>0.100000</td>\n",
       "    </tr>\n",
       "    <tr>\n",
       "      <th>50%</th>\n",
       "      <td>0.200000</td>\n",
       "      <td>0.190000</td>\n",
       "      <td>0.200000</td>\n",
       "      <td>0.173900</td>\n",
       "      <td>0.100000</td>\n",
       "      <td>0.116312</td>\n",
       "    </tr>\n",
       "    <tr>\n",
       "      <th>75%</th>\n",
       "      <td>0.250000</td>\n",
       "      <td>0.200000</td>\n",
       "      <td>0.238100</td>\n",
       "      <td>0.200000</td>\n",
       "      <td>0.150000</td>\n",
       "      <td>0.162816</td>\n",
       "    </tr>\n",
       "    <tr>\n",
       "      <th>max</th>\n",
       "      <td>1.000000</td>\n",
       "      <td>0.600000</td>\n",
       "      <td>0.500000</td>\n",
       "      <td>0.500000</td>\n",
       "      <td>0.358108</td>\n",
       "      <td>0.300000</td>\n",
       "    </tr>\n",
       "  </tbody>\n",
       "</table>\n",
       "</div>"
      ],
      "text/plain": [
       "          pf_o_att     pf_o_sin     pf_o_int     pf_o_fun     pf_o_amb  \\\n",
       "count  4629.000000  4629.000000  4629.000000  4629.000000  4629.000000   \n",
       "mean      0.218194     0.177146     0.201322     0.170772     0.104174   \n",
       "std       0.116682     0.072222     0.069449     0.062077     0.059327   \n",
       "min       0.000000     0.000000     0.000000     0.000000     0.000000   \n",
       "25%       0.150000     0.150000     0.173100     0.150000     0.050000   \n",
       "50%       0.200000     0.190000     0.200000     0.173900     0.100000   \n",
       "75%       0.250000     0.200000     0.238100     0.200000     0.150000   \n",
       "max       1.000000     0.600000     0.500000     0.500000     0.358108   \n",
       "\n",
       "          pf_o_sha  \n",
       "count  4629.000000  \n",
       "mean      0.121046  \n",
       "std       0.066038  \n",
       "min       0.000000  \n",
       "25%       0.100000  \n",
       "50%       0.116312  \n",
       "75%       0.162816  \n",
       "max       0.300000  "
      ]
     },
     "execution_count": 61,
     "metadata": {},
     "output_type": "execute_result"
    }
   ],
   "source": [
    "dec_data_partner_no = dating_data_clean.loc[dec_check_no,'pf_o_att':'pf_o_sha']\n",
    "dec_data_partner_no.describe()"
   ]
  },
  {
   "cell_type": "code",
   "execution_count": null,
   "metadata": {
    "collapsed": true
   },
   "outputs": [],
   "source": []
  },
  {
   "cell_type": "markdown",
   "metadata": {},
   "source": [
    "### Distances:\n",
    "\n",
    "Question: does the distance between what is important for the couple at sign up has any impact on the decion for a second date?"
   ]
  },
  {
   "cell_type": "markdown",
   "metadata": {},
   "source": [
    "**Distance when decision for a second date is yes for both participants**"
   ]
  },
  {
   "cell_type": "code",
   "execution_count": 244,
   "metadata": {
    "collapsed": true
   },
   "outputs": [],
   "source": [
    "dating_data_dec_yes = dating_data_clean[dating_data_clean['match'] == 1]\n",
    "\n",
    "dis_att_pref_yes = dating_data_dec_yes['pf_o_att'] - dating_data_dec_yes['attr1_1']\n",
    "dis_sinc_pref_yes = dating_data_dec_yes['pf_o_sin'] - dating_data_dec_yes['sinc1_1']\n",
    "dis_intel_pref_yes = dating_data_dec_yes['pf_o_int'] - dating_data_dec_yes['intel1_1']\n",
    "dis_fun_pref_yes = dating_data_dec_yes['pf_o_fun'] - dating_data_dec_yes['fun1_1']\n",
    "dis_amb_pref_yes = dating_data_dec_yes['pf_o_amb'] - dating_data_dec_yes['amb1_1']"
   ]
  },
  {
   "cell_type": "code",
   "execution_count": 245,
   "metadata": {},
   "outputs": [
    {
     "data": {
      "text/plain": [
       "<function matplotlib.pyplot.show>"
      ]
     },
     "execution_count": 245,
     "metadata": {},
     "output_type": "execute_result"
    },
    {
     "data": {
      "image/png": "[encoded data removed]",
      "text/plain": [
       "<matplotlib.figure.Figure at 0x1a1c57ff98>"
      ]
     },
     "metadata": {},
     "output_type": "display_data"
    }
   ],
   "source": [
    "plt.hist(dis_att_pref_yes)\n",
    "plt.show"
   ]
  },
  {
   "cell_type": "code",
   "execution_count": 264,
   "metadata": {},
   "outputs": [
    {
     "data": {
      "text/plain": [
       "-0.0002086859994138933"
      ]
     },
     "execution_count": 264,
     "metadata": {},
     "output_type": "execute_result"
    }
   ],
   "source": [
    "dis_att_pref_yes.mean()"
   ]
  },
  {
   "cell_type": "code",
   "execution_count": 247,
   "metadata": {},
   "outputs": [
    {
     "data": {
      "text/plain": [
       "5.946176012950125e-05"
      ]
     },
     "execution_count": 247,
     "metadata": {},
     "output_type": "execute_result"
    }
   ],
   "source": [
    "dis_sinc_pref_yes.mean()"
   ]
  },
  {
   "cell_type": "code",
   "execution_count": 248,
   "metadata": {},
   "outputs": [
    {
     "data": {
      "text/plain": [
       "0.00014342963366103986"
      ]
     },
     "execution_count": 248,
     "metadata": {},
     "output_type": "execute_result"
    }
   ],
   "source": [
    "dis_intel_pref_yes.mean()"
   ]
  },
  {
   "cell_type": "code",
   "execution_count": 249,
   "metadata": {},
   "outputs": [
    {
     "data": {
      "text/plain": [
       "-0.00010765879640289726"
      ]
     },
     "execution_count": 249,
     "metadata": {},
     "output_type": "execute_result"
    }
   ],
   "source": [
    "dis_fun_pref_yes.mean()"
   ]
  },
  {
   "cell_type": "code",
   "execution_count": 250,
   "metadata": {},
   "outputs": [
    {
     "data": {
      "text/plain": [
       "4.639330212091883e-06"
      ]
     },
     "execution_count": 250,
     "metadata": {},
     "output_type": "execute_result"
    }
   ],
   "source": [
    "dis_amb_pref_yes.mean()"
   ]
  },
  {
   "cell_type": "markdown",
   "metadata": {},
   "source": [
    "**Distance when decision for a second date is no for both participants**"
   ]
  },
  {
   "cell_type": "code",
   "execution_count": 237,
   "metadata": {
    "collapsed": true
   },
   "outputs": [],
   "source": [
    "dating_data_dec_no = dating_data_clean[dating_data_clean['match'] == 0]\n",
    "\n",
    "dis_att_pref_no = dating_data_dec_no['pf_o_att'] - dating_data_dec_no['attr1_1']\n",
    "dis_sinc_pref_no = dating_data_dec_no['pf_o_sin'] - dating_data_dec_no['sinc1_1']\n",
    "dis_intel_pref_no = dating_data_dec_no['pf_o_int'] - dating_data_dec_no['intel1_1']\n",
    "dis_fun_pref_no = dating_data_dec_no['pf_o_fun'] - dating_data_dec_no['fun1_1']\n",
    "dis_amb_pref_no = dating_data_dec_no['pf_o_amb'] - dating_data_dec_no['amb1_1']"
   ]
  },
  {
   "cell_type": "code",
   "execution_count": 238,
   "metadata": {},
   "outputs": [
    {
     "data": {
      "text/plain": [
       "<function matplotlib.pyplot.show>"
      ]
     },
     "execution_count": 238,
     "metadata": {},
     "output_type": "execute_result"
    },
    {
     "data": {
      "image/png": "[encoded data removed]",
      "text/plain": [
       "<matplotlib.figure.Figure at 0x1a1689ae48>"
      ]
     },
     "metadata": {},
     "output_type": "display_data"
    }
   ],
   "source": [
    "plt.hist(dis_att_pref_no)\n",
    "plt.show"
   ]
  },
  {
   "cell_type": "code",
   "execution_count": 262,
   "metadata": {},
   "outputs": [
    {
     "data": {
      "text/plain": [
       "-0.001191432646415069"
      ]
     },
     "execution_count": 262,
     "metadata": {},
     "output_type": "execute_result"
    }
   ],
   "source": [
    "dis_att_pref_no.mean()"
   ]
  },
  {
   "cell_type": "code",
   "execution_count": 240,
   "metadata": {},
   "outputs": [
    {
     "data": {
      "text/plain": [
       "-9.015316846107116e-05"
      ]
     },
     "execution_count": 240,
     "metadata": {},
     "output_type": "execute_result"
    }
   ],
   "source": [
    "dis_sinc_pref_no.mean()"
   ]
  },
  {
   "cell_type": "code",
   "execution_count": 241,
   "metadata": {},
   "outputs": [
    {
     "data": {
      "text/plain": [
       "-0.0004077175102896651"
      ]
     },
     "execution_count": 241,
     "metadata": {},
     "output_type": "execute_result"
    }
   ],
   "source": [
    "dis_intel_pref_no.mean()"
   ]
  },
  {
   "cell_type": "code",
   "execution_count": 242,
   "metadata": {},
   "outputs": [
    {
     "data": {
      "text/plain": [
       "-5.5173271308189316e-05"
      ]
     },
     "execution_count": 242,
     "metadata": {},
     "output_type": "execute_result"
    }
   ],
   "source": [
    "dis_fun_pref_no.mean()"
   ]
  },
  {
   "cell_type": "code",
   "execution_count": 243,
   "metadata": {},
   "outputs": [
    {
     "data": {
      "text/plain": [
       "-4.4306781203773666e-05"
      ]
     },
     "execution_count": 243,
     "metadata": {},
     "output_type": "execute_result"
    }
   ],
   "source": [
    "dis_amb_pref_no.mean()"
   ]
  },
  {
   "cell_type": "markdown",
   "metadata": {},
   "source": [
    "Insight:\n",
    "- For all attributes, the distance between attributes that are important at time of sign up is lower when there is a match (both partners said yes to a 2nd date) than when there is no match. It may indicate that participants who values the same in the other person are more likely to go on a second date."
   ]
  },
  {
   "cell_type": "markdown",
   "metadata": {},
   "source": [
    "**Cosine similarity**"
   ]
  },
  {
   "cell_type": "code",
   "execution_count": 251,
   "metadata": {
    "collapsed": true
   },
   "outputs": [],
   "source": [
    "from scipy import spatial\n",
    "\n",
    "distance = spatial.distance.cosine(dating_data_dec_yes['pf_o_att'], dating_data_dec_yes['attr1_1'])\n",
    "similarity = 1 - distance\n"
   ]
  },
  {
   "cell_type": "code",
   "execution_count": 252,
   "metadata": {},
   "outputs": [
    {
     "data": {
      "text/plain": [
       "0.3010708083858098"
      ]
     },
     "execution_count": 252,
     "metadata": {},
     "output_type": "execute_result"
    }
   ],
   "source": [
    "distance"
   ]
  },
  {
   "cell_type": "code",
   "execution_count": 253,
   "metadata": {},
   "outputs": [
    {
     "data": {
      "text/plain": [
       "0.6989291916141902"
      ]
     },
     "execution_count": 253,
     "metadata": {},
     "output_type": "execute_result"
    }
   ],
   "source": [
    "similarity"
   ]
  },
  {
   "cell_type": "code",
   "execution_count": 254,
   "metadata": {
    "collapsed": true
   },
   "outputs": [],
   "source": [
    "distance = spatial.distance.cosine(dating_data_dec_no['pf_o_att'], dating_data_dec_no['attr1_1'])\n",
    "similarity = 1 - distance"
   ]
  },
  {
   "cell_type": "code",
   "execution_count": 255,
   "metadata": {},
   "outputs": [
    {
     "data": {
      "text/plain": [
       "0.25387498859880908"
      ]
     },
     "execution_count": 255,
     "metadata": {},
     "output_type": "execute_result"
    }
   ],
   "source": [
    "distance"
   ]
  },
  {
   "cell_type": "code",
   "execution_count": 256,
   "metadata": {},
   "outputs": [
    {
     "data": {
      "text/plain": [
       "0.74612501140119092"
      ]
     },
     "execution_count": 256,
     "metadata": {},
     "output_type": "execute_result"
    }
   ],
   "source": [
    "similarity"
   ]
  },
  {
   "cell_type": "markdown",
   "metadata": {},
   "source": [
    "Discuss with Andrei distance and similarity values"
   ]
  },
  {
   "cell_type": "code",
   "execution_count": 258,
   "metadata": {
    "collapsed": true
   },
   "outputs": [],
   "source": [
    "from sklearn.metrics.pairwise import cosine_similarity\n",
    "similarities = cosine_similarity([dating_data_dec_no['pf_o_att'], dating_data_dec_no['attr1_1']])"
   ]
  },
  {
   "cell_type": "code",
   "execution_count": 259,
   "metadata": {},
   "outputs": [
    {
     "data": {
      "text/plain": [
       "array([[ 1.        ,  0.74612501],\n",
       "       [ 0.74612501,  1.        ]])"
      ]
     },
     "execution_count": 259,
     "metadata": {},
     "output_type": "execute_result"
    }
   ],
   "source": [
    "similarities"
   ]
  },
  {
   "cell_type": "code",
   "execution_count": null,
   "metadata": {
    "collapsed": true
   },
   "outputs": [],
   "source": []
  }
 ],
 "metadata": {
  "kernelspec": {
   "display_name": "Python 3",
   "language": "python",
   "name": "python3"
  },
  "language_info": {
   "codemirror_mode": {
    "name": "ipython",
    "version": 3
   },
   "file_extension": ".py",
   "mimetype": "text/x-python",
   "name": "python",
   "nbconvert_exporter": "python",
   "pygments_lexer": "ipython3",
   "version": "3.6.3"
  }
 },
 "nbformat": 4,
 "nbformat_minor": 2
}
