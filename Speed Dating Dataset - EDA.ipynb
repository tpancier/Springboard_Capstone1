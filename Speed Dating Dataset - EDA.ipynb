{
 "cells": [
  {
   "cell_type": "code",
   "execution_count": 17,
   "metadata": {},
   "outputs": [
    {
     "data": {
      "text/html": [
       "<div>\n",
       "<style scoped>\n",
       "    .dataframe tbody tr th:only-of-type {\n",
       "        vertical-align: middle;\n",
       "    }\n",
       "\n",
       "    .dataframe tbody tr th {\n",
       "        vertical-align: top;\n",
       "    }\n",
       "\n",
       "    .dataframe thead th {\n",
       "        text-align: right;\n",
       "    }\n",
       "</style>\n",
       "<table border=\"1\" class=\"dataframe\">\n",
       "  <thead>\n",
       "    <tr style=\"text-align: right;\">\n",
       "      <th></th>\n",
       "      <th>iid</th>\n",
       "      <th>id</th>\n",
       "      <th>gender</th>\n",
       "      <th>idg</th>\n",
       "      <th>condtn</th>\n",
       "      <th>wave</th>\n",
       "      <th>round</th>\n",
       "      <th>position</th>\n",
       "      <th>positin1</th>\n",
       "      <th>order</th>\n",
       "      <th>...</th>\n",
       "      <th>attr3_3</th>\n",
       "      <th>sinc3_3</th>\n",
       "      <th>intel3_3</th>\n",
       "      <th>fun3_3</th>\n",
       "      <th>amb3_3</th>\n",
       "      <th>attr5_3</th>\n",
       "      <th>sinc5_3</th>\n",
       "      <th>intel5_3</th>\n",
       "      <th>fun5_3</th>\n",
       "      <th>amb5_3</th>\n",
       "    </tr>\n",
       "  </thead>\n",
       "  <tbody>\n",
       "    <tr>\n",
       "      <th>0</th>\n",
       "      <td>1</td>\n",
       "      <td>1.0</td>\n",
       "      <td>0</td>\n",
       "      <td>1</td>\n",
       "      <td>1</td>\n",
       "      <td>1</td>\n",
       "      <td>10</td>\n",
       "      <td>7</td>\n",
       "      <td>NaN</td>\n",
       "      <td>4</td>\n",
       "      <td>...</td>\n",
       "      <td>5.0</td>\n",
       "      <td>7.0</td>\n",
       "      <td>7.0</td>\n",
       "      <td>7.0</td>\n",
       "      <td>7.0</td>\n",
       "      <td>NaN</td>\n",
       "      <td>NaN</td>\n",
       "      <td>NaN</td>\n",
       "      <td>NaN</td>\n",
       "      <td>NaN</td>\n",
       "    </tr>\n",
       "    <tr>\n",
       "      <th>1</th>\n",
       "      <td>1</td>\n",
       "      <td>1.0</td>\n",
       "      <td>0</td>\n",
       "      <td>1</td>\n",
       "      <td>1</td>\n",
       "      <td>1</td>\n",
       "      <td>10</td>\n",
       "      <td>7</td>\n",
       "      <td>NaN</td>\n",
       "      <td>3</td>\n",
       "      <td>...</td>\n",
       "      <td>5.0</td>\n",
       "      <td>7.0</td>\n",
       "      <td>7.0</td>\n",
       "      <td>7.0</td>\n",
       "      <td>7.0</td>\n",
       "      <td>NaN</td>\n",
       "      <td>NaN</td>\n",
       "      <td>NaN</td>\n",
       "      <td>NaN</td>\n",
       "      <td>NaN</td>\n",
       "    </tr>\n",
       "    <tr>\n",
       "      <th>2</th>\n",
       "      <td>1</td>\n",
       "      <td>1.0</td>\n",
       "      <td>0</td>\n",
       "      <td>1</td>\n",
       "      <td>1</td>\n",
       "      <td>1</td>\n",
       "      <td>10</td>\n",
       "      <td>7</td>\n",
       "      <td>NaN</td>\n",
       "      <td>10</td>\n",
       "      <td>...</td>\n",
       "      <td>5.0</td>\n",
       "      <td>7.0</td>\n",
       "      <td>7.0</td>\n",
       "      <td>7.0</td>\n",
       "      <td>7.0</td>\n",
       "      <td>NaN</td>\n",
       "      <td>NaN</td>\n",
       "      <td>NaN</td>\n",
       "      <td>NaN</td>\n",
       "      <td>NaN</td>\n",
       "    </tr>\n",
       "    <tr>\n",
       "      <th>3</th>\n",
       "      <td>1</td>\n",
       "      <td>1.0</td>\n",
       "      <td>0</td>\n",
       "      <td>1</td>\n",
       "      <td>1</td>\n",
       "      <td>1</td>\n",
       "      <td>10</td>\n",
       "      <td>7</td>\n",
       "      <td>NaN</td>\n",
       "      <td>5</td>\n",
       "      <td>...</td>\n",
       "      <td>5.0</td>\n",
       "      <td>7.0</td>\n",
       "      <td>7.0</td>\n",
       "      <td>7.0</td>\n",
       "      <td>7.0</td>\n",
       "      <td>NaN</td>\n",
       "      <td>NaN</td>\n",
       "      <td>NaN</td>\n",
       "      <td>NaN</td>\n",
       "      <td>NaN</td>\n",
       "    </tr>\n",
       "    <tr>\n",
       "      <th>4</th>\n",
       "      <td>1</td>\n",
       "      <td>1.0</td>\n",
       "      <td>0</td>\n",
       "      <td>1</td>\n",
       "      <td>1</td>\n",
       "      <td>1</td>\n",
       "      <td>10</td>\n",
       "      <td>7</td>\n",
       "      <td>NaN</td>\n",
       "      <td>7</td>\n",
       "      <td>...</td>\n",
       "      <td>5.0</td>\n",
       "      <td>7.0</td>\n",
       "      <td>7.0</td>\n",
       "      <td>7.0</td>\n",
       "      <td>7.0</td>\n",
       "      <td>NaN</td>\n",
       "      <td>NaN</td>\n",
       "      <td>NaN</td>\n",
       "      <td>NaN</td>\n",
       "      <td>NaN</td>\n",
       "    </tr>\n",
       "  </tbody>\n",
       "</table>\n",
       "<p>5 rows × 195 columns</p>\n",
       "</div>"
      ],
      "text/plain": [
       "   iid   id  gender  idg  condtn  wave  round  position  positin1  order  \\\n",
       "0    1  1.0       0    1       1     1     10         7       NaN      4   \n",
       "1    1  1.0       0    1       1     1     10         7       NaN      3   \n",
       "2    1  1.0       0    1       1     1     10         7       NaN     10   \n",
       "3    1  1.0       0    1       1     1     10         7       NaN      5   \n",
       "4    1  1.0       0    1       1     1     10         7       NaN      7   \n",
       "\n",
       "    ...    attr3_3  sinc3_3  intel3_3  fun3_3  amb3_3  attr5_3  sinc5_3  \\\n",
       "0   ...        5.0      7.0       7.0     7.0     7.0      NaN      NaN   \n",
       "1   ...        5.0      7.0       7.0     7.0     7.0      NaN      NaN   \n",
       "2   ...        5.0      7.0       7.0     7.0     7.0      NaN      NaN   \n",
       "3   ...        5.0      7.0       7.0     7.0     7.0      NaN      NaN   \n",
       "4   ...        5.0      7.0       7.0     7.0     7.0      NaN      NaN   \n",
       "\n",
       "   intel5_3  fun5_3  amb5_3  \n",
       "0       NaN     NaN     NaN  \n",
       "1       NaN     NaN     NaN  \n",
       "2       NaN     NaN     NaN  \n",
       "3       NaN     NaN     NaN  \n",
       "4       NaN     NaN     NaN  \n",
       "\n",
       "[5 rows x 195 columns]"
      ]
     },
     "execution_count": 17,
     "metadata": {},
     "output_type": "execute_result"
    }
   ],
   "source": [
    "import pandas as pd\n",
    "import matplotlib.pyplot as plt\n",
    "\n",
    "dating_data = pd.read_csv(\"Speed_Dating_Data.csv\", encoding = \"ISO-8859-1\")\n",
    "dating_data.head()\n"
   ]
  },
  {
   "cell_type": "code",
   "execution_count": 28,
   "metadata": {},
   "outputs": [
    {
     "name": "stdout",
     "output_type": "stream",
     "text": [
      "<class 'pandas.core.frame.DataFrame'>\n",
      "RangeIndex: 8378 entries, 0 to 8377\n",
      "Columns: 195 entries, iid to amb5_3\n",
      "dtypes: float64(174), int64(13), object(8)\n",
      "memory usage: 12.5+ MB\n"
     ]
    }
   ],
   "source": [
    "dating_data.info()"
   ]
  },
  {
   "cell_type": "code",
   "execution_count": 5,
   "metadata": {},
   "outputs": [
    {
     "data": {
      "text/plain": [
       "Index(['iid', 'id', 'gender', 'idg', 'condtn', 'wave', 'round', 'position',\n",
       "       'positin1', 'order',\n",
       "       ...\n",
       "       'attr3_3', 'sinc3_3', 'intel3_3', 'fun3_3', 'amb3_3', 'attr5_3',\n",
       "       'sinc5_3', 'intel5_3', 'fun5_3', 'amb5_3'],\n",
       "      dtype='object', length=195)"
      ]
     },
     "execution_count": 5,
     "metadata": {},
     "output_type": "execute_result"
    }
   ],
   "source": [
    "dating_data.columns"
   ]
  },
  {
   "cell_type": "code",
   "execution_count": 6,
   "metadata": {},
   "outputs": [
    {
     "data": {
      "text/plain": [
       "array([[1, 1.0, 0, ..., nan, nan, nan],\n",
       "       [1, 1.0, 0, ..., nan, nan, nan],\n",
       "       [1, 1.0, 0, ..., nan, nan, nan],\n",
       "       ..., \n",
       "       [552, 22.0, 1, ..., 9.0, 5.0, 6.0],\n",
       "       [552, 22.0, 1, ..., 9.0, 5.0, 6.0],\n",
       "       [552, nan, 1, ..., 9.0, 5.0, 6.0]], dtype=object)"
      ]
     },
     "execution_count": 6,
     "metadata": {},
     "output_type": "execute_result"
    }
   ],
   "source": [
    "dating_data.values"
   ]
  },
  {
   "cell_type": "markdown",
   "metadata": {},
   "source": [
    "# Analysis to build the data dictionary"
   ]
  },
  {
   "cell_type": "markdown",
   "metadata": {},
   "source": [
    "**1) iid**"
   ]
  },
  {
   "cell_type": "code",
   "execution_count": 37,
   "metadata": {},
   "outputs": [
    {
     "data": {
      "text/plain": [
       "0         1\n",
       "1         1\n",
       "2         1\n",
       "3         1\n",
       "4         1\n",
       "5         1\n",
       "6         1\n",
       "7         1\n",
       "8         1\n",
       "9         1\n",
       "10        2\n",
       "11        2\n",
       "12        2\n",
       "13        2\n",
       "14        2\n",
       "15        2\n",
       "16        2\n",
       "17        2\n",
       "18        2\n",
       "19        2\n",
       "20        3\n",
       "21        3\n",
       "22        3\n",
       "23        3\n",
       "24        3\n",
       "25        3\n",
       "26        3\n",
       "27        3\n",
       "28        3\n",
       "29        3\n",
       "       ... \n",
       "8348    551\n",
       "8349    551\n",
       "8350    551\n",
       "8351    551\n",
       "8352    551\n",
       "8353    551\n",
       "8354    551\n",
       "8355    551\n",
       "8356    552\n",
       "8357    552\n",
       "8358    552\n",
       "8359    552\n",
       "8360    552\n",
       "8361    552\n",
       "8362    552\n",
       "8363    552\n",
       "8364    552\n",
       "8365    552\n",
       "8366    552\n",
       "8367    552\n",
       "8368    552\n",
       "8369    552\n",
       "8370    552\n",
       "8371    552\n",
       "8372    552\n",
       "8373    552\n",
       "8374    552\n",
       "8375    552\n",
       "8376    552\n",
       "8377    552\n",
       "Name: iid, Length: 8378, dtype: int64"
      ]
     },
     "execution_count": 37,
     "metadata": {},
     "output_type": "execute_result"
    }
   ],
   "source": [
    "dating_data['iid']"
   ]
  },
  {
   "cell_type": "code",
   "execution_count": 18,
   "metadata": {},
   "outputs": [
    {
     "data": {
      "image/png": "[encoded data removed]",
      "text/plain": [
       "<matplotlib.figure.Figure at 0x115a008d0>"
      ]
     },
     "metadata": {},
     "output_type": "display_data"
    }
   ],
   "source": [
    "dating_data['iid'].plot(kind='box')\n",
    "plt.show()"
   ]
  },
  {
   "cell_type": "code",
   "execution_count": 25,
   "metadata": {},
   "outputs": [],
   "source": [
    "# Test if all are integer in iid (not needed based on results above)\n",
    "\n",
    "for item in dating_data['iid']:\n",
    "    if type(item) != int:\n",
    "        print(item)\n",
    "    "
   ]
  },
  {
   "cell_type": "code",
   "execution_count": 26,
   "metadata": {},
   "outputs": [
    {
     "data": {
      "text/plain": [
       "RangeIndex(start=0, stop=8378, step=1)"
      ]
     },
     "execution_count": 26,
     "metadata": {},
     "output_type": "execute_result"
    }
   ],
   "source": [
    "dating_data.index"
   ]
  },
  {
   "cell_type": "code",
   "execution_count": 29,
   "metadata": {},
   "outputs": [
    {
     "data": {
      "text/plain": [
       "(8378, 195)"
      ]
     },
     "execution_count": 29,
     "metadata": {},
     "output_type": "execute_result"
    }
   ],
   "source": [
    "dating_data.shape"
   ]
  },
  {
   "cell_type": "code",
   "execution_count": 38,
   "metadata": {},
   "outputs": [
    {
     "data": {
      "text/plain": [
       "552"
      ]
     },
     "execution_count": 38,
     "metadata": {},
     "output_type": "execute_result"
    }
   ],
   "source": [
    "dating_data['iid'].max()"
   ]
  },
  {
   "cell_type": "code",
   "execution_count": 39,
   "metadata": {},
   "outputs": [
    {
     "data": {
      "text/plain": [
       "1"
      ]
     },
     "execution_count": 39,
     "metadata": {},
     "output_type": "execute_result"
    }
   ],
   "source": [
    "dating_data['iid'].min()"
   ]
  },
  {
   "cell_type": "markdown",
   "metadata": {},
   "source": [
    "**2) id**\n"
   ]
  },
  {
   "cell_type": "code",
   "execution_count": 36,
   "metadata": {},
   "outputs": [
    {
     "data": {
      "text/plain": [
       "0        1.0\n",
       "1        1.0\n",
       "2        1.0\n",
       "3        1.0\n",
       "4        1.0\n",
       "5        1.0\n",
       "6        1.0\n",
       "7        1.0\n",
       "8        1.0\n",
       "9        1.0\n",
       "10       2.0\n",
       "11       2.0\n",
       "12       2.0\n",
       "13       2.0\n",
       "14       2.0\n",
       "15       2.0\n",
       "16       2.0\n",
       "17       2.0\n",
       "18       2.0\n",
       "19       2.0\n",
       "20       3.0\n",
       "21       3.0\n",
       "22       3.0\n",
       "23       3.0\n",
       "24       3.0\n",
       "25       3.0\n",
       "26       3.0\n",
       "27       3.0\n",
       "28       3.0\n",
       "29       3.0\n",
       "        ... \n",
       "8348    21.0\n",
       "8349    21.0\n",
       "8350    21.0\n",
       "8351    21.0\n",
       "8352    21.0\n",
       "8353    21.0\n",
       "8354    21.0\n",
       "8355    21.0\n",
       "8356    22.0\n",
       "8357    22.0\n",
       "8358    22.0\n",
       "8359    22.0\n",
       "8360    22.0\n",
       "8361    22.0\n",
       "8362    22.0\n",
       "8363    22.0\n",
       "8364    22.0\n",
       "8365    22.0\n",
       "8366    22.0\n",
       "8367    22.0\n",
       "8368    22.0\n",
       "8369    22.0\n",
       "8370    22.0\n",
       "8371    22.0\n",
       "8372    22.0\n",
       "8373    22.0\n",
       "8374    22.0\n",
       "8375    22.0\n",
       "8376    22.0\n",
       "8377     NaN\n",
       "Name: id, Length: 8378, dtype: float64"
      ]
     },
     "execution_count": 36,
     "metadata": {},
     "output_type": "execute_result"
    }
   ],
   "source": [
    "dating_data['id']"
   ]
  },
  {
   "cell_type": "code",
   "execution_count": 33,
   "metadata": {},
   "outputs": [
    {
     "data": {
      "text/plain": [
       "1.0"
      ]
     },
     "execution_count": 33,
     "metadata": {},
     "output_type": "execute_result"
    }
   ],
   "source": [
    "dating_data['id'].min()"
   ]
  },
  {
   "cell_type": "code",
   "execution_count": 34,
   "metadata": {},
   "outputs": [
    {
     "data": {
      "text/plain": [
       "22.0"
      ]
     },
     "execution_count": 34,
     "metadata": {},
     "output_type": "execute_result"
    }
   ],
   "source": [
    "dating_data['id'].max()"
   ]
  },
  {
   "cell_type": "markdown",
   "metadata": {},
   "source": [
    "**3) gender**"
   ]
  },
  {
   "cell_type": "code",
   "execution_count": 35,
   "metadata": {},
   "outputs": [
    {
     "data": {
      "text/plain": [
       "0       0\n",
       "1       0\n",
       "2       0\n",
       "3       0\n",
       "4       0\n",
       "5       0\n",
       "6       0\n",
       "7       0\n",
       "8       0\n",
       "9       0\n",
       "10      0\n",
       "11      0\n",
       "12      0\n",
       "13      0\n",
       "14      0\n",
       "15      0\n",
       "16      0\n",
       "17      0\n",
       "18      0\n",
       "19      0\n",
       "20      0\n",
       "21      0\n",
       "22      0\n",
       "23      0\n",
       "24      0\n",
       "25      0\n",
       "26      0\n",
       "27      0\n",
       "28      0\n",
       "29      0\n",
       "       ..\n",
       "8348    1\n",
       "8349    1\n",
       "8350    1\n",
       "8351    1\n",
       "8352    1\n",
       "8353    1\n",
       "8354    1\n",
       "8355    1\n",
       "8356    1\n",
       "8357    1\n",
       "8358    1\n",
       "8359    1\n",
       "8360    1\n",
       "8361    1\n",
       "8362    1\n",
       "8363    1\n",
       "8364    1\n",
       "8365    1\n",
       "8366    1\n",
       "8367    1\n",
       "8368    1\n",
       "8369    1\n",
       "8370    1\n",
       "8371    1\n",
       "8372    1\n",
       "8373    1\n",
       "8374    1\n",
       "8375    1\n",
       "8376    1\n",
       "8377    1\n",
       "Name: gender, Length: 8378, dtype: int64"
      ]
     },
     "execution_count": 35,
     "metadata": {},
     "output_type": "execute_result"
    }
   ],
   "source": [
    "dating_data['gender']"
   ]
  },
  {
   "cell_type": "markdown",
   "metadata": {},
   "source": [
    "**4) idg**"
   ]
  },
  {
   "cell_type": "code",
   "execution_count": 40,
   "metadata": {},
   "outputs": [
    {
     "data": {
      "text/plain": [
       "0        1\n",
       "1        1\n",
       "2        1\n",
       "3        1\n",
       "4        1\n",
       "5        1\n",
       "6        1\n",
       "7        1\n",
       "8        1\n",
       "9        1\n",
       "10       3\n",
       "11       3\n",
       "12       3\n",
       "13       3\n",
       "14       3\n",
       "15       3\n",
       "16       3\n",
       "17       3\n",
       "18       3\n",
       "19       3\n",
       "20       5\n",
       "21       5\n",
       "22       5\n",
       "23       5\n",
       "24       5\n",
       "25       5\n",
       "26       5\n",
       "27       5\n",
       "28       5\n",
       "29       5\n",
       "        ..\n",
       "8348    42\n",
       "8349    42\n",
       "8350    42\n",
       "8351    42\n",
       "8352    42\n",
       "8353    42\n",
       "8354    42\n",
       "8355    42\n",
       "8356    44\n",
       "8357    44\n",
       "8358    44\n",
       "8359    44\n",
       "8360    44\n",
       "8361    44\n",
       "8362    44\n",
       "8363    44\n",
       "8364    44\n",
       "8365    44\n",
       "8366    44\n",
       "8367    44\n",
       "8368    44\n",
       "8369    44\n",
       "8370    44\n",
       "8371    44\n",
       "8372    44\n",
       "8373    44\n",
       "8374    44\n",
       "8375    44\n",
       "8376    44\n",
       "8377    44\n",
       "Name: idg, Length: 8378, dtype: int64"
      ]
     },
     "execution_count": 40,
     "metadata": {},
     "output_type": "execute_result"
    }
   ],
   "source": [
    "dating_data['idg']"
   ]
  },
  {
   "cell_type": "code",
   "execution_count": 41,
   "metadata": {},
   "outputs": [
    {
     "data": {
      "text/plain": [
       "1"
      ]
     },
     "execution_count": 41,
     "metadata": {},
     "output_type": "execute_result"
    }
   ],
   "source": [
    "dating_data['idg'].min()"
   ]
  },
  {
   "cell_type": "code",
   "execution_count": 42,
   "metadata": {},
   "outputs": [
    {
     "data": {
      "text/plain": [
       "44"
      ]
     },
     "execution_count": 42,
     "metadata": {},
     "output_type": "execute_result"
    }
   ],
   "source": [
    "dating_data['idg'].max()"
   ]
  },
  {
   "cell_type": "markdown",
   "metadata": {},
   "source": [
    "**condtn**"
   ]
  },
  {
   "cell_type": "code",
   "execution_count": 43,
   "metadata": {},
   "outputs": [
    {
     "data": {
      "text/plain": [
       "0       1\n",
       "1       1\n",
       "2       1\n",
       "3       1\n",
       "4       1\n",
       "5       1\n",
       "6       1\n",
       "7       1\n",
       "8       1\n",
       "9       1\n",
       "10      1\n",
       "11      1\n",
       "12      1\n",
       "13      1\n",
       "14      1\n",
       "15      1\n",
       "16      1\n",
       "17      1\n",
       "18      1\n",
       "19      1\n",
       "20      1\n",
       "21      1\n",
       "22      1\n",
       "23      1\n",
       "24      1\n",
       "25      1\n",
       "26      1\n",
       "27      1\n",
       "28      1\n",
       "29      1\n",
       "       ..\n",
       "8348    2\n",
       "8349    2\n",
       "8350    2\n",
       "8351    2\n",
       "8352    2\n",
       "8353    2\n",
       "8354    2\n",
       "8355    2\n",
       "8356    2\n",
       "8357    2\n",
       "8358    2\n",
       "8359    2\n",
       "8360    2\n",
       "8361    2\n",
       "8362    2\n",
       "8363    2\n",
       "8364    2\n",
       "8365    2\n",
       "8366    2\n",
       "8367    2\n",
       "8368    2\n",
       "8369    2\n",
       "8370    2\n",
       "8371    2\n",
       "8372    2\n",
       "8373    2\n",
       "8374    2\n",
       "8375    2\n",
       "8376    2\n",
       "8377    2\n",
       "Name: condtn, Length: 8378, dtype: int64"
      ]
     },
     "execution_count": 43,
     "metadata": {},
     "output_type": "execute_result"
    }
   ],
   "source": [
    "dating_data['condtn']"
   ]
  },
  {
   "cell_type": "markdown",
   "metadata": {},
   "source": [
    "**wave**"
   ]
  },
  {
   "cell_type": "code",
   "execution_count": 45,
   "metadata": {},
   "outputs": [
    {
     "data": {
      "text/plain": [
       "0        1\n",
       "1        1\n",
       "2        1\n",
       "3        1\n",
       "4        1\n",
       "5        1\n",
       "6        1\n",
       "7        1\n",
       "8        1\n",
       "9        1\n",
       "10       1\n",
       "11       1\n",
       "12       1\n",
       "13       1\n",
       "14       1\n",
       "15       1\n",
       "16       1\n",
       "17       1\n",
       "18       1\n",
       "19       1\n",
       "20       1\n",
       "21       1\n",
       "22       1\n",
       "23       1\n",
       "24       1\n",
       "25       1\n",
       "26       1\n",
       "27       1\n",
       "28       1\n",
       "29       1\n",
       "        ..\n",
       "8348    21\n",
       "8349    21\n",
       "8350    21\n",
       "8351    21\n",
       "8352    21\n",
       "8353    21\n",
       "8354    21\n",
       "8355    21\n",
       "8356    21\n",
       "8357    21\n",
       "8358    21\n",
       "8359    21\n",
       "8360    21\n",
       "8361    21\n",
       "8362    21\n",
       "8363    21\n",
       "8364    21\n",
       "8365    21\n",
       "8366    21\n",
       "8367    21\n",
       "8368    21\n",
       "8369    21\n",
       "8370    21\n",
       "8371    21\n",
       "8372    21\n",
       "8373    21\n",
       "8374    21\n",
       "8375    21\n",
       "8376    21\n",
       "8377    21\n",
       "Name: wave, Length: 8378, dtype: int64"
      ]
     },
     "execution_count": 45,
     "metadata": {},
     "output_type": "execute_result"
    }
   ],
   "source": [
    "dating_data['wave']"
   ]
  },
  {
   "cell_type": "markdown",
   "metadata": {},
   "source": [
    "**round**"
   ]
  },
  {
   "cell_type": "code",
   "execution_count": 46,
   "metadata": {},
   "outputs": [
    {
     "data": {
      "text/plain": [
       "0       10\n",
       "1       10\n",
       "2       10\n",
       "3       10\n",
       "4       10\n",
       "5       10\n",
       "6       10\n",
       "7       10\n",
       "8       10\n",
       "9       10\n",
       "10      10\n",
       "11      10\n",
       "12      10\n",
       "13      10\n",
       "14      10\n",
       "15      10\n",
       "16      10\n",
       "17      10\n",
       "18      10\n",
       "19      10\n",
       "20      10\n",
       "21      10\n",
       "22      10\n",
       "23      10\n",
       "24      10\n",
       "25      10\n",
       "26      10\n",
       "27      10\n",
       "28      10\n",
       "29      10\n",
       "        ..\n",
       "8348    22\n",
       "8349    22\n",
       "8350    22\n",
       "8351    22\n",
       "8352    22\n",
       "8353    22\n",
       "8354    22\n",
       "8355    22\n",
       "8356    22\n",
       "8357    22\n",
       "8358    22\n",
       "8359    22\n",
       "8360    22\n",
       "8361    22\n",
       "8362    22\n",
       "8363    22\n",
       "8364    22\n",
       "8365    22\n",
       "8366    22\n",
       "8367    22\n",
       "8368    22\n",
       "8369    22\n",
       "8370    22\n",
       "8371    22\n",
       "8372    22\n",
       "8373    22\n",
       "8374    22\n",
       "8375    22\n",
       "8376    22\n",
       "8377    22\n",
       "Name: round, Length: 8378, dtype: int64"
      ]
     },
     "execution_count": 46,
     "metadata": {},
     "output_type": "execute_result"
    }
   ],
   "source": [
    "dating_data['round']"
   ]
  },
  {
   "cell_type": "code",
   "execution_count": 47,
   "metadata": {},
   "outputs": [
    {
     "data": {
      "text/plain": [
       "5"
      ]
     },
     "execution_count": 47,
     "metadata": {},
     "output_type": "execute_result"
    }
   ],
   "source": [
    "dating_data['round'].min()"
   ]
  },
  {
   "cell_type": "code",
   "execution_count": 48,
   "metadata": {},
   "outputs": [
    {
     "data": {
      "text/plain": [
       "22"
      ]
     },
     "execution_count": 48,
     "metadata": {},
     "output_type": "execute_result"
    }
   ],
   "source": [
    "dating_data['round'].max()"
   ]
  },
  {
   "cell_type": "markdown",
   "metadata": {},
   "source": [
    "**position**"
   ]
  },
  {
   "cell_type": "code",
   "execution_count": 49,
   "metadata": {},
   "outputs": [
    {
     "data": {
      "text/plain": [
       "0        7\n",
       "1        7\n",
       "2        7\n",
       "3        7\n",
       "4        7\n",
       "5        7\n",
       "6        7\n",
       "7        7\n",
       "8        7\n",
       "9        7\n",
       "10       3\n",
       "11       3\n",
       "12       3\n",
       "13       3\n",
       "14       3\n",
       "15       3\n",
       "16       3\n",
       "17       3\n",
       "18       3\n",
       "19       3\n",
       "20       9\n",
       "21       9\n",
       "22       9\n",
       "23       9\n",
       "24       9\n",
       "25       9\n",
       "26       9\n",
       "27       9\n",
       "28       9\n",
       "29       9\n",
       "        ..\n",
       "8348     5\n",
       "8349    11\n",
       "8350    17\n",
       "8351    14\n",
       "8352    13\n",
       "8353    19\n",
       "8354     3\n",
       "8355     2\n",
       "8356    21\n",
       "8357    12\n",
       "8358    15\n",
       "8359     7\n",
       "8360    22\n",
       "8361    16\n",
       "8362    10\n",
       "8363    18\n",
       "8364     1\n",
       "8365     6\n",
       "8366    20\n",
       "8367     9\n",
       "8368     8\n",
       "8369     4\n",
       "8370     5\n",
       "8371    11\n",
       "8372    17\n",
       "8373    14\n",
       "8374    13\n",
       "8375    19\n",
       "8376     3\n",
       "8377     2\n",
       "Name: position, Length: 8378, dtype: int64"
      ]
     },
     "execution_count": 49,
     "metadata": {},
     "output_type": "execute_result"
    }
   ],
   "source": [
    "dating_data['position']"
   ]
  },
  {
   "cell_type": "code",
   "execution_count": 50,
   "metadata": {},
   "outputs": [
    {
     "name": "stdout",
     "output_type": "stream",
     "text": [
      "1 22\n"
     ]
    }
   ],
   "source": [
    "print(dating_data['position'].min(),dating_data['position'].max())"
   ]
  },
  {
   "cell_type": "markdown",
   "metadata": {},
   "source": [
    "**positin1**"
   ]
  },
  {
   "cell_type": "code",
   "execution_count": 51,
   "metadata": {},
   "outputs": [
    {
     "data": {
      "text/plain": [
       "0        NaN\n",
       "1        NaN\n",
       "2        NaN\n",
       "3        NaN\n",
       "4        NaN\n",
       "5        NaN\n",
       "6        NaN\n",
       "7        NaN\n",
       "8        NaN\n",
       "9        NaN\n",
       "10       NaN\n",
       "11       NaN\n",
       "12       NaN\n",
       "13       NaN\n",
       "14       NaN\n",
       "15       NaN\n",
       "16       NaN\n",
       "17       NaN\n",
       "18       NaN\n",
       "19       NaN\n",
       "20       NaN\n",
       "21       NaN\n",
       "22       NaN\n",
       "23       NaN\n",
       "24       NaN\n",
       "25       NaN\n",
       "26       NaN\n",
       "27       NaN\n",
       "28       NaN\n",
       "29       NaN\n",
       "        ... \n",
       "8348    21.0\n",
       "8349    21.0\n",
       "8350    21.0\n",
       "8351    21.0\n",
       "8352    21.0\n",
       "8353    21.0\n",
       "8354    21.0\n",
       "8355    21.0\n",
       "8356    10.0\n",
       "8357    10.0\n",
       "8358    10.0\n",
       "8359    10.0\n",
       "8360    10.0\n",
       "8361    10.0\n",
       "8362    10.0\n",
       "8363    10.0\n",
       "8364    10.0\n",
       "8365    10.0\n",
       "8366    10.0\n",
       "8367    10.0\n",
       "8368    10.0\n",
       "8369    10.0\n",
       "8370    10.0\n",
       "8371    10.0\n",
       "8372    10.0\n",
       "8373    10.0\n",
       "8374    10.0\n",
       "8375    10.0\n",
       "8376    10.0\n",
       "8377    10.0\n",
       "Name: positin1, Length: 8378, dtype: float64"
      ]
     },
     "execution_count": 51,
     "metadata": {},
     "output_type": "execute_result"
    }
   ],
   "source": [
    "dating_data['positin1']"
   ]
  },
  {
   "cell_type": "code",
   "execution_count": 52,
   "metadata": {},
   "outputs": [
    {
     "name": "stdout",
     "output_type": "stream",
     "text": [
      "1.0 22.0\n"
     ]
    }
   ],
   "source": [
    "print(dating_data['positin1'].min(),dating_data['positin1'].max())"
   ]
  },
  {
   "cell_type": "markdown",
   "metadata": {},
   "source": [
    "**order**"
   ]
  },
  {
   "cell_type": "code",
   "execution_count": 53,
   "metadata": {},
   "outputs": [
    {
     "data": {
      "text/plain": [
       "0        4\n",
       "1        3\n",
       "2       10\n",
       "3        5\n",
       "4        7\n",
       "5        6\n",
       "6        1\n",
       "7        2\n",
       "8        8\n",
       "9        9\n",
       "10      10\n",
       "11       9\n",
       "12       6\n",
       "13       1\n",
       "14       3\n",
       "15       2\n",
       "16       7\n",
       "17       8\n",
       "18       4\n",
       "19       5\n",
       "20       6\n",
       "21       5\n",
       "22       2\n",
       "23       7\n",
       "24       9\n",
       "25       8\n",
       "26       3\n",
       "27       4\n",
       "28      10\n",
       "29       1\n",
       "        ..\n",
       "8348     7\n",
       "8349    13\n",
       "8350    19\n",
       "8351    16\n",
       "8352    15\n",
       "8353    21\n",
       "8354     5\n",
       "8355     4\n",
       "8356    12\n",
       "8357     3\n",
       "8358     6\n",
       "8359    20\n",
       "8360    13\n",
       "8361     7\n",
       "8362     1\n",
       "8363     9\n",
       "8364    14\n",
       "8365    19\n",
       "8366    11\n",
       "8367    22\n",
       "8368    21\n",
       "8369    17\n",
       "8370    18\n",
       "8371     2\n",
       "8372     8\n",
       "8373     5\n",
       "8374     4\n",
       "8375    10\n",
       "8376    16\n",
       "8377    15\n",
       "Name: order, Length: 8378, dtype: int64"
      ]
     },
     "execution_count": 53,
     "metadata": {},
     "output_type": "execute_result"
    }
   ],
   "source": [
    "dating_data['order']"
   ]
  },
  {
   "cell_type": "code",
   "execution_count": 54,
   "metadata": {},
   "outputs": [
    {
     "name": "stdout",
     "output_type": "stream",
     "text": [
      "1 22\n"
     ]
    }
   ],
   "source": [
    "print(dating_data['order'].min(),dating_data['order'].max())"
   ]
  },
  {
   "cell_type": "markdown",
   "metadata": {},
   "source": [
    "**partner**"
   ]
  },
  {
   "cell_type": "code",
   "execution_count": 55,
   "metadata": {},
   "outputs": [
    {
     "data": {
      "text/plain": [
       "0        1\n",
       "1        2\n",
       "2        3\n",
       "3        4\n",
       "4        5\n",
       "5        6\n",
       "6        7\n",
       "7        8\n",
       "8        9\n",
       "9       10\n",
       "10       1\n",
       "11       2\n",
       "12       3\n",
       "13       4\n",
       "14       5\n",
       "15       6\n",
       "16       7\n",
       "17       8\n",
       "18       9\n",
       "19      10\n",
       "20       1\n",
       "21       2\n",
       "22       3\n",
       "23       4\n",
       "24       5\n",
       "25       6\n",
       "26       7\n",
       "27       8\n",
       "28       9\n",
       "29      10\n",
       "        ..\n",
       "8348    15\n",
       "8349    16\n",
       "8350    17\n",
       "8351    18\n",
       "8352    19\n",
       "8353    20\n",
       "8354    21\n",
       "8355    22\n",
       "8356     1\n",
       "8357     2\n",
       "8358     3\n",
       "8359     4\n",
       "8360     5\n",
       "8361     6\n",
       "8362     7\n",
       "8363     8\n",
       "8364     9\n",
       "8365    10\n",
       "8366    11\n",
       "8367    12\n",
       "8368    13\n",
       "8369    14\n",
       "8370    15\n",
       "8371    16\n",
       "8372    17\n",
       "8373    18\n",
       "8374    19\n",
       "8375    20\n",
       "8376    21\n",
       "8377    22\n",
       "Name: partner, Length: 8378, dtype: int64"
      ]
     },
     "execution_count": 55,
     "metadata": {},
     "output_type": "execute_result"
    }
   ],
   "source": [
    "dating_data['partner']"
   ]
  },
  {
   "cell_type": "code",
   "execution_count": 56,
   "metadata": {},
   "outputs": [
    {
     "name": "stdout",
     "output_type": "stream",
     "text": [
      "1 22\n"
     ]
    }
   ],
   "source": [
    "print(dating_data['partner'].min(),dating_data['partner'].max())"
   ]
  },
  {
   "cell_type": "markdown",
   "metadata": {},
   "source": [
    "**pid**"
   ]
  },
  {
   "cell_type": "code",
   "execution_count": 57,
   "metadata": {},
   "outputs": [
    {
     "data": {
      "text/plain": [
       "0        11.0\n",
       "1        12.0\n",
       "2        13.0\n",
       "3        14.0\n",
       "4        15.0\n",
       "5        16.0\n",
       "6        17.0\n",
       "7        18.0\n",
       "8        19.0\n",
       "9        20.0\n",
       "10       11.0\n",
       "11       12.0\n",
       "12       13.0\n",
       "13       14.0\n",
       "14       15.0\n",
       "15       16.0\n",
       "16       17.0\n",
       "17       18.0\n",
       "18       19.0\n",
       "19       20.0\n",
       "20       11.0\n",
       "21       12.0\n",
       "22       13.0\n",
       "23       14.0\n",
       "24       15.0\n",
       "25       16.0\n",
       "26       17.0\n",
       "27       18.0\n",
       "28       19.0\n",
       "29       20.0\n",
       "        ...  \n",
       "8348    523.0\n",
       "8349    524.0\n",
       "8350    525.0\n",
       "8351    526.0\n",
       "8352    527.0\n",
       "8353    528.0\n",
       "8354    529.0\n",
       "8355    530.0\n",
       "8356    509.0\n",
       "8357    510.0\n",
       "8358    511.0\n",
       "8359    512.0\n",
       "8360    513.0\n",
       "8361    514.0\n",
       "8362    515.0\n",
       "8363    516.0\n",
       "8364    517.0\n",
       "8365    518.0\n",
       "8366    519.0\n",
       "8367    520.0\n",
       "8368    521.0\n",
       "8369    522.0\n",
       "8370    523.0\n",
       "8371    524.0\n",
       "8372    525.0\n",
       "8373    526.0\n",
       "8374    527.0\n",
       "8375    528.0\n",
       "8376    529.0\n",
       "8377    530.0\n",
       "Name: pid, Length: 8378, dtype: float64"
      ]
     },
     "execution_count": 57,
     "metadata": {},
     "output_type": "execute_result"
    }
   ],
   "source": [
    "dating_data['pid']"
   ]
  },
  {
   "cell_type": "code",
   "execution_count": 58,
   "metadata": {},
   "outputs": [
    {
     "name": "stdout",
     "output_type": "stream",
     "text": [
      "1.0 552.0\n"
     ]
    }
   ],
   "source": [
    "print(dating_data['pid'].min(),dating_data['pid'].max())"
   ]
  },
  {
   "cell_type": "markdown",
   "metadata": {},
   "source": [
    "**match**"
   ]
  },
  {
   "cell_type": "code",
   "execution_count": 59,
   "metadata": {},
   "outputs": [
    {
     "data": {
      "text/plain": [
       "0       0\n",
       "1       0\n",
       "2       1\n",
       "3       1\n",
       "4       1\n",
       "5       0\n",
       "6       0\n",
       "7       0\n",
       "8       1\n",
       "9       0\n",
       "10      0\n",
       "11      0\n",
       "12      0\n",
       "13      1\n",
       "14      0\n",
       "15      0\n",
       "16      0\n",
       "17      0\n",
       "18      1\n",
       "19      0\n",
       "20      0\n",
       "21      0\n",
       "22      0\n",
       "23      0\n",
       "24      0\n",
       "25      0\n",
       "26      0\n",
       "27      0\n",
       "28      0\n",
       "29      0\n",
       "       ..\n",
       "8348    0\n",
       "8349    0\n",
       "8350    0\n",
       "8351    0\n",
       "8352    0\n",
       "8353    0\n",
       "8354    0\n",
       "8355    0\n",
       "8356    1\n",
       "8357    1\n",
       "8358    0\n",
       "8359    0\n",
       "8360    1\n",
       "8361    0\n",
       "8362    1\n",
       "8363    1\n",
       "8364    0\n",
       "8365    0\n",
       "8366    0\n",
       "8367    0\n",
       "8368    0\n",
       "8369    0\n",
       "8370    0\n",
       "8371    1\n",
       "8372    0\n",
       "8373    0\n",
       "8374    0\n",
       "8375    0\n",
       "8376    0\n",
       "8377    0\n",
       "Name: match, Length: 8378, dtype: int64"
      ]
     },
     "execution_count": 59,
     "metadata": {},
     "output_type": "execute_result"
    }
   ],
   "source": [
    "dating_data['match']"
   ]
  },
  {
   "cell_type": "code",
   "execution_count": 60,
   "metadata": {},
   "outputs": [
    {
     "name": "stdout",
     "output_type": "stream",
     "text": [
      "0 1\n"
     ]
    }
   ],
   "source": [
    "print(dating_data['match'].min(),dating_data['match'].max())"
   ]
  },
  {
   "cell_type": "markdown",
   "metadata": {},
   "source": [
    "**int_corr**"
   ]
  },
  {
   "cell_type": "code",
   "execution_count": 62,
   "metadata": {},
   "outputs": [
    {
     "data": {
      "text/plain": [
       "0       0.14\n",
       "1       0.54\n",
       "2       0.16\n",
       "3       0.61\n",
       "4       0.21\n",
       "5       0.25\n",
       "6       0.34\n",
       "7       0.50\n",
       "8       0.28\n",
       "9      -0.36\n",
       "10      0.29\n",
       "11      0.18\n",
       "12      0.10\n",
       "13     -0.21\n",
       "14      0.32\n",
       "15      0.73\n",
       "16      0.60\n",
       "17      0.07\n",
       "18      0.11\n",
       "19      0.39\n",
       "20     -0.24\n",
       "21     -0.14\n",
       "22      0.09\n",
       "23     -0.04\n",
       "24     -0.14\n",
       "25     -0.30\n",
       "26     -0.26\n",
       "27      0.29\n",
       "28     -0.15\n",
       "29     -0.47\n",
       "        ... \n",
       "8348    0.55\n",
       "8349    0.46\n",
       "8350    0.48\n",
       "8351    0.41\n",
       "8352    0.29\n",
       "8353   -0.55\n",
       "8354    0.09\n",
       "8355   -0.32\n",
       "8356    0.68\n",
       "8357    0.63\n",
       "8358    0.83\n",
       "8359    0.73\n",
       "8360    0.55\n",
       "8361    0.54\n",
       "8362    0.39\n",
       "8363    0.59\n",
       "8364    0.43\n",
       "8365    0.47\n",
       "8366    0.45\n",
       "8367    0.37\n",
       "8368    0.27\n",
       "8369    0.45\n",
       "8370    0.35\n",
       "8371    0.59\n",
       "8372    0.28\n",
       "8373    0.64\n",
       "8374    0.71\n",
       "8375   -0.46\n",
       "8376    0.62\n",
       "8377    0.01\n",
       "Name: int_corr, Length: 8378, dtype: float64"
      ]
     },
     "execution_count": 62,
     "metadata": {},
     "output_type": "execute_result"
    }
   ],
   "source": [
    "dating_data['int_corr']"
   ]
  },
  {
   "cell_type": "code",
   "execution_count": 63,
   "metadata": {},
   "outputs": [
    {
     "name": "stdout",
     "output_type": "stream",
     "text": [
      "-0.83 0.91\n"
     ]
    }
   ],
   "source": [
    "print(dating_data['int_corr'].min(),dating_data['int_corr'].max())"
   ]
  },
  {
   "cell_type": "markdown",
   "metadata": {},
   "source": [
    "**age**"
   ]
  },
  {
   "cell_type": "code",
   "execution_count": 64,
   "metadata": {},
   "outputs": [
    {
     "data": {
      "text/plain": [
       "0       21.0\n",
       "1       21.0\n",
       "2       21.0\n",
       "3       21.0\n",
       "4       21.0\n",
       "5       21.0\n",
       "6       21.0\n",
       "7       21.0\n",
       "8       21.0\n",
       "9       21.0\n",
       "10      24.0\n",
       "11      24.0\n",
       "12      24.0\n",
       "13      24.0\n",
       "14      24.0\n",
       "15      24.0\n",
       "16      24.0\n",
       "17      24.0\n",
       "18      24.0\n",
       "19      24.0\n",
       "20      25.0\n",
       "21      25.0\n",
       "22      25.0\n",
       "23      25.0\n",
       "24      25.0\n",
       "25      25.0\n",
       "26      25.0\n",
       "27      25.0\n",
       "28      25.0\n",
       "29      25.0\n",
       "        ... \n",
       "8348    27.0\n",
       "8349    27.0\n",
       "8350    27.0\n",
       "8351    27.0\n",
       "8352    27.0\n",
       "8353    27.0\n",
       "8354    27.0\n",
       "8355    27.0\n",
       "8356    25.0\n",
       "8357    25.0\n",
       "8358    25.0\n",
       "8359    25.0\n",
       "8360    25.0\n",
       "8361    25.0\n",
       "8362    25.0\n",
       "8363    25.0\n",
       "8364    25.0\n",
       "8365    25.0\n",
       "8366    25.0\n",
       "8367    25.0\n",
       "8368    25.0\n",
       "8369    25.0\n",
       "8370    25.0\n",
       "8371    25.0\n",
       "8372    25.0\n",
       "8373    25.0\n",
       "8374    25.0\n",
       "8375    25.0\n",
       "8376    25.0\n",
       "8377    25.0\n",
       "Name: age, Length: 8378, dtype: float64"
      ]
     },
     "execution_count": 64,
     "metadata": {},
     "output_type": "execute_result"
    }
   ],
   "source": [
    "dating_data['age']"
   ]
  },
  {
   "cell_type": "code",
   "execution_count": 65,
   "metadata": {},
   "outputs": [
    {
     "name": "stdout",
     "output_type": "stream",
     "text": [
      "18.0 55.0\n"
     ]
    }
   ],
   "source": [
    "print(dating_data['age'].min(),dating_data['age'].max())"
   ]
  },
  {
   "cell_type": "markdown",
   "metadata": {},
   "source": [
    "**pf_o_att**"
   ]
  },
  {
   "cell_type": "code",
   "execution_count": 66,
   "metadata": {},
   "outputs": [
    {
     "data": {
      "text/plain": [
       "0        35.00\n",
       "1        60.00\n",
       "2        19.00\n",
       "3        30.00\n",
       "4        30.00\n",
       "5        50.00\n",
       "6        35.00\n",
       "7        33.33\n",
       "8        50.00\n",
       "9       100.00\n",
       "10       35.00\n",
       "11       60.00\n",
       "12       19.00\n",
       "13       30.00\n",
       "14       30.00\n",
       "15       50.00\n",
       "16       35.00\n",
       "17       33.33\n",
       "18       50.00\n",
       "19      100.00\n",
       "20       35.00\n",
       "21       60.00\n",
       "22       19.00\n",
       "23       30.00\n",
       "24       30.00\n",
       "25       50.00\n",
       "26       35.00\n",
       "27       33.33\n",
       "28       50.00\n",
       "29      100.00\n",
       "         ...  \n",
       "8348     10.00\n",
       "8349     15.00\n",
       "8350     10.00\n",
       "8351     10.00\n",
       "8352     50.00\n",
       "8353     40.00\n",
       "8354     10.00\n",
       "8355     20.00\n",
       "8356     10.00\n",
       "8357     25.00\n",
       "8358     20.00\n",
       "8359     20.00\n",
       "8360     20.00\n",
       "8361     20.00\n",
       "8362     20.00\n",
       "8363     58.00\n",
       "8364     15.00\n",
       "8365     20.00\n",
       "8366     40.00\n",
       "8367     25.00\n",
       "8368     10.00\n",
       "8369     10.00\n",
       "8370     10.00\n",
       "8371     15.00\n",
       "8372     10.00\n",
       "8373     10.00\n",
       "8374     50.00\n",
       "8375     40.00\n",
       "8376     10.00\n",
       "8377     20.00\n",
       "Name: pf_o_att, Length: 8378, dtype: float64"
      ]
     },
     "execution_count": 66,
     "metadata": {},
     "output_type": "execute_result"
    }
   ],
   "source": [
    "dating_data['pf_o_att']"
   ]
  },
  {
   "cell_type": "code",
   "execution_count": 67,
   "metadata": {},
   "outputs": [
    {
     "name": "stdout",
     "output_type": "stream",
     "text": [
      "0.0 100.0\n"
     ]
    }
   ],
   "source": [
    "print(dating_data['pf_o_att'].min(),dating_data['pf_o_att'].max())"
   ]
  },
  {
   "cell_type": "markdown",
   "metadata": {},
   "source": [
    "**dec_o**"
   ]
  },
  {
   "cell_type": "code",
   "execution_count": 68,
   "metadata": {},
   "outputs": [
    {
     "data": {
      "text/plain": [
       "0       0\n",
       "1       0\n",
       "2       1\n",
       "3       1\n",
       "4       1\n",
       "5       1\n",
       "6       0\n",
       "7       0\n",
       "8       1\n",
       "9       0\n",
       "10      0\n",
       "11      0\n",
       "12      1\n",
       "13      1\n",
       "14      1\n",
       "15      1\n",
       "16      0\n",
       "17      1\n",
       "18      1\n",
       "19      0\n",
       "20      0\n",
       "21      0\n",
       "22      1\n",
       "23      1\n",
       "24      1\n",
       "25      1\n",
       "26      0\n",
       "27      0\n",
       "28      1\n",
       "29      0\n",
       "       ..\n",
       "8348    1\n",
       "8349    1\n",
       "8350    1\n",
       "8351    1\n",
       "8352    0\n",
       "8353    1\n",
       "8354    1\n",
       "8355    0\n",
       "8356    1\n",
       "8357    1\n",
       "8358    1\n",
       "8359    0\n",
       "8360    1\n",
       "8361    1\n",
       "8362    1\n",
       "8363    1\n",
       "8364    0\n",
       "8365    1\n",
       "8366    0\n",
       "8367    0\n",
       "8368    1\n",
       "8369    1\n",
       "8370    1\n",
       "8371    1\n",
       "8372    0\n",
       "8373    1\n",
       "8374    0\n",
       "8375    0\n",
       "8376    1\n",
       "8377    1\n",
       "Name: dec_o, Length: 8378, dtype: int64"
      ]
     },
     "execution_count": 68,
     "metadata": {},
     "output_type": "execute_result"
    }
   ],
   "source": [
    "dating_data['dec_o']"
   ]
  },
  {
   "cell_type": "markdown",
   "metadata": {},
   "source": [
    "**attr_o**"
   ]
  },
  {
   "cell_type": "code",
   "execution_count": 69,
   "metadata": {},
   "outputs": [
    {
     "data": {
      "text/plain": [
       "0        6.0\n",
       "1        7.0\n",
       "2       10.0\n",
       "3        7.0\n",
       "4        8.0\n",
       "5        7.0\n",
       "6        3.0\n",
       "7        6.0\n",
       "8        7.0\n",
       "9        6.0\n",
       "10       8.0\n",
       "11       7.0\n",
       "12      10.0\n",
       "13       9.0\n",
       "14      10.0\n",
       "15       7.0\n",
       "16       5.0\n",
       "17       7.0\n",
       "18       8.0\n",
       "19       6.0\n",
       "20       7.0\n",
       "21       6.0\n",
       "22      10.0\n",
       "23       7.0\n",
       "24       6.0\n",
       "25       7.0\n",
       "26       6.0\n",
       "27       4.0\n",
       "28       7.0\n",
       "29       5.0\n",
       "        ... \n",
       "8348     8.0\n",
       "8349     6.0\n",
       "8350     8.0\n",
       "8351    10.0\n",
       "8352     7.0\n",
       "8353     6.0\n",
       "8354     5.0\n",
       "8355     6.0\n",
       "8356     8.0\n",
       "8357    10.0\n",
       "8358     6.0\n",
       "8359     NaN\n",
       "8360     7.0\n",
       "8361    10.0\n",
       "8362     7.0\n",
       "8363     7.0\n",
       "8364     6.0\n",
       "8365     8.0\n",
       "8366     NaN\n",
       "8367     6.0\n",
       "8368     9.0\n",
       "8369     8.0\n",
       "8370     7.0\n",
       "8371     8.0\n",
       "8372     8.0\n",
       "8373    10.0\n",
       "8374     6.0\n",
       "8375     2.0\n",
       "8376     5.0\n",
       "8377     8.0\n",
       "Name: attr_o, Length: 8378, dtype: float64"
      ]
     },
     "execution_count": 69,
     "metadata": {},
     "output_type": "execute_result"
    }
   ],
   "source": [
    "dating_data['attr_o']"
   ]
  },
  {
   "cell_type": "code",
   "execution_count": 70,
   "metadata": {},
   "outputs": [
    {
     "name": "stdout",
     "output_type": "stream",
     "text": [
      "0.0 10.5\n"
     ]
    }
   ],
   "source": [
    "print(dating_data['attr_o'].min(),dating_data['attr_o'].max())"
   ]
  },
  {
   "cell_type": "code",
   "execution_count": 74,
   "metadata": {},
   "outputs": [
    {
     "data": {
      "text/plain": [
       "0        8.0\n",
       "1        8.0\n",
       "2       10.0\n",
       "3        8.0\n",
       "4        7.0\n",
       "5        7.0\n",
       "6        6.0\n",
       "7        7.0\n",
       "8        7.0\n",
       "9        6.0\n",
       "10       7.0\n",
       "11       6.0\n",
       "12      10.0\n",
       "13       9.0\n",
       "14      10.0\n",
       "15       8.0\n",
       "16       3.0\n",
       "17       7.0\n",
       "18       6.0\n",
       "19       5.0\n",
       "20       8.0\n",
       "21       7.0\n",
       "22      10.0\n",
       "23       9.0\n",
       "24      10.0\n",
       "25       6.0\n",
       "26       3.0\n",
       "27       5.0\n",
       "28       7.0\n",
       "29       6.0\n",
       "        ... \n",
       "8348     5.0\n",
       "8349     9.0\n",
       "8350     8.0\n",
       "8351     5.0\n",
       "8352     7.0\n",
       "8353     7.0\n",
       "8354     7.0\n",
       "8355     8.0\n",
       "8356     4.0\n",
       "8357     9.0\n",
       "8358     3.0\n",
       "8359     NaN\n",
       "8360     6.0\n",
       "8361     7.0\n",
       "8362     7.0\n",
       "8363     7.0\n",
       "8364     5.0\n",
       "8365     7.0\n",
       "8366     NaN\n",
       "8367     6.0\n",
       "8368     7.0\n",
       "8369     9.0\n",
       "8370     2.0\n",
       "8371     6.0\n",
       "8372     8.0\n",
       "8373     5.0\n",
       "8374     3.0\n",
       "8375     1.0\n",
       "8376     7.0\n",
       "8377     8.0\n",
       "Name: sinc_o, Length: 8378, dtype: float64"
      ]
     },
     "execution_count": 74,
     "metadata": {},
     "output_type": "execute_result"
    }
   ],
   "source": [
    "dating_data['sinc_o']"
   ]
  },
  {
   "cell_type": "code",
   "execution_count": 77,
   "metadata": {},
   "outputs": [
    {
     "name": "stdout",
     "output_type": "stream",
     "text": [
      "0.0 10.0\n"
     ]
    }
   ],
   "source": [
    "print(dating_data['sinc_o'].min(),dating_data['sinc_o'].max())"
   ]
  },
  {
   "cell_type": "code",
   "execution_count": 76,
   "metadata": {},
   "outputs": [
    {
     "data": {
      "text/plain": [
       "0        8.0\n",
       "1       10.0\n",
       "2       10.0\n",
       "3        9.0\n",
       "4        9.0\n",
       "5        8.0\n",
       "6        7.0\n",
       "7        5.0\n",
       "8        8.0\n",
       "9        6.0\n",
       "10       6.0\n",
       "11      10.0\n",
       "12      10.0\n",
       "13       9.0\n",
       "14      10.0\n",
       "15       7.0\n",
       "16       4.0\n",
       "17       7.0\n",
       "18       9.0\n",
       "19       7.0\n",
       "20       6.0\n",
       "21      10.0\n",
       "22      10.0\n",
       "23       8.0\n",
       "24       8.0\n",
       "25       6.0\n",
       "26       5.0\n",
       "27       6.0\n",
       "28       6.0\n",
       "29       8.0\n",
       "        ... \n",
       "8348     7.0\n",
       "8349     8.0\n",
       "8350     9.0\n",
       "8351     8.0\n",
       "8352     8.0\n",
       "8353     7.0\n",
       "8354     5.0\n",
       "8355     7.0\n",
       "8356     NaN\n",
       "8357     9.0\n",
       "8358     5.0\n",
       "8359     NaN\n",
       "8360     7.0\n",
       "8361     5.0\n",
       "8362     8.0\n",
       "8363     7.0\n",
       "8364     4.0\n",
       "8365     6.0\n",
       "8366     NaN\n",
       "8367     6.0\n",
       "8368     7.0\n",
       "8369     9.0\n",
       "8370     6.0\n",
       "8371     7.0\n",
       "8372     7.0\n",
       "8373     3.0\n",
       "8374     7.0\n",
       "8375     2.0\n",
       "8376     5.0\n",
       "8377     7.0\n",
       "Name: intel_o, Length: 8378, dtype: float64"
      ]
     },
     "execution_count": 76,
     "metadata": {},
     "output_type": "execute_result"
    }
   ],
   "source": [
    "dating_data['intel_o']"
   ]
  },
  {
   "cell_type": "code",
   "execution_count": 78,
   "metadata": {},
   "outputs": [
    {
     "name": "stdout",
     "output_type": "stream",
     "text": [
      "0.0 10.0\n"
     ]
    }
   ],
   "source": [
    "print(dating_data['intel_o'].min(),dating_data['intel_o'].max())"
   ]
  },
  {
   "cell_type": "code",
   "execution_count": 79,
   "metadata": {},
   "outputs": [
    {
     "data": {
      "text/plain": [
       "0        8.0\n",
       "1        7.0\n",
       "2       10.0\n",
       "3        8.0\n",
       "4        6.0\n",
       "5        8.0\n",
       "6        5.0\n",
       "7        6.0\n",
       "8        8.0\n",
       "9        6.0\n",
       "10       9.0\n",
       "11       6.0\n",
       "12      10.0\n",
       "13       9.0\n",
       "14      10.0\n",
       "15       5.0\n",
       "16       3.0\n",
       "17       7.0\n",
       "18       9.0\n",
       "19       7.0\n",
       "20       5.0\n",
       "21       6.0\n",
       "22      10.0\n",
       "23       8.0\n",
       "24       6.0\n",
       "25       6.0\n",
       "26       4.0\n",
       "27       4.0\n",
       "28       8.0\n",
       "29       5.0\n",
       "        ... \n",
       "8348    10.0\n",
       "8349     6.0\n",
       "8350     7.0\n",
       "8351     6.0\n",
       "8352     8.0\n",
       "8353     6.0\n",
       "8354     4.0\n",
       "8355     6.0\n",
       "8356     8.0\n",
       "8357     8.0\n",
       "8358     3.0\n",
       "8359     NaN\n",
       "8360     7.0\n",
       "8361     5.0\n",
       "8362     7.0\n",
       "8363     8.0\n",
       "8364     3.0\n",
       "8365     7.0\n",
       "8366     NaN\n",
       "8367     6.0\n",
       "8368     8.0\n",
       "8369     7.0\n",
       "8370     5.0\n",
       "8371     7.0\n",
       "8372     7.0\n",
       "8373     2.0\n",
       "8374     3.0\n",
       "8375     2.0\n",
       "8376     5.0\n",
       "8377     7.0\n",
       "Name: fun_o, Length: 8378, dtype: float64"
      ]
     },
     "execution_count": 79,
     "metadata": {},
     "output_type": "execute_result"
    }
   ],
   "source": [
    "dating_data['fun_o']"
   ]
  },
  {
   "cell_type": "code",
   "execution_count": 81,
   "metadata": {},
   "outputs": [
    {
     "name": "stdout",
     "output_type": "stream",
     "text": [
      "0.0 11.0\n"
     ]
    }
   ],
   "source": [
    "print(dating_data['fun_o'].min(),dating_data['fun_o'].max())"
   ]
  },
  {
   "cell_type": "code",
   "execution_count": 86,
   "metadata": {},
   "outputs": [
    {
     "data": {
      "text/plain": [
       "6608    11.0\n",
       "Name: fun_o, dtype: float64"
      ]
     },
     "execution_count": 86,
     "metadata": {},
     "output_type": "execute_result"
    }
   ],
   "source": [
    "dating_data['fun_o'] == 11.0\n",
    "dating_data['fun_o'][dating_data['fun_o'] == 11.0] # one record higher than max rate"
   ]
  },
  {
   "cell_type": "code",
   "execution_count": 87,
   "metadata": {},
   "outputs": [
    {
     "data": {
      "text/plain": [
       "0        8.0\n",
       "1        7.0\n",
       "2       10.0\n",
       "3        9.0\n",
       "4        9.0\n",
       "5        7.0\n",
       "6        8.0\n",
       "7        8.0\n",
       "8        8.0\n",
       "9        6.0\n",
       "10       7.0\n",
       "11       6.0\n",
       "12      10.0\n",
       "13       9.0\n",
       "14       7.0\n",
       "15       7.0\n",
       "16       5.0\n",
       "17       7.0\n",
       "18       8.0\n",
       "19       9.0\n",
       "20       8.0\n",
       "21       6.0\n",
       "22      10.0\n",
       "23       8.0\n",
       "24       NaN\n",
       "25       6.0\n",
       "26       5.0\n",
       "27       6.0\n",
       "28       7.0\n",
       "29       8.0\n",
       "        ... \n",
       "8348     7.0\n",
       "8349     7.0\n",
       "8350     8.0\n",
       "8351     9.0\n",
       "8352     8.0\n",
       "8353     6.0\n",
       "8354     4.0\n",
       "8355     6.0\n",
       "8356     8.0\n",
       "8357     7.0\n",
       "8358     3.0\n",
       "8359     NaN\n",
       "8360     6.0\n",
       "8361     5.0\n",
       "8362     7.0\n",
       "8363     7.0\n",
       "8364     6.0\n",
       "8365     7.0\n",
       "8366     NaN\n",
       "8367     6.0\n",
       "8368     8.0\n",
       "8369     6.0\n",
       "8370     8.0\n",
       "8371     6.0\n",
       "8372     8.0\n",
       "8373     6.0\n",
       "8374     7.0\n",
       "8375     2.0\n",
       "8376     3.0\n",
       "8377     7.0\n",
       "Name: amb_o, Length: 8378, dtype: float64"
      ]
     },
     "execution_count": 87,
     "metadata": {},
     "output_type": "execute_result"
    }
   ],
   "source": [
    "dating_data['amb_o']"
   ]
  },
  {
   "cell_type": "code",
   "execution_count": 88,
   "metadata": {},
   "outputs": [
    {
     "name": "stdout",
     "output_type": "stream",
     "text": [
      "0.0 10.0\n"
     ]
    }
   ],
   "source": [
    "print(dating_data['amb_o'].min(),dating_data['amb_o'].max())"
   ]
  },
  {
   "cell_type": "code",
   "execution_count": 89,
   "metadata": {},
   "outputs": [
    {
     "data": {
      "text/plain": [
       "0        6.0\n",
       "1        5.0\n",
       "2       10.0\n",
       "3        8.0\n",
       "4        7.0\n",
       "5        7.0\n",
       "6        7.0\n",
       "7        6.0\n",
       "8        9.0\n",
       "9        6.0\n",
       "10       4.0\n",
       "11       5.0\n",
       "12      10.0\n",
       "13       9.0\n",
       "14       8.0\n",
       "15       7.0\n",
       "16       3.0\n",
       "17       5.0\n",
       "18       7.0\n",
       "19       7.0\n",
       "20       4.0\n",
       "21       5.0\n",
       "22      10.0\n",
       "23       8.0\n",
       "24       NaN\n",
       "25       6.0\n",
       "26       4.0\n",
       "27       4.0\n",
       "28       7.0\n",
       "29       6.0\n",
       "        ... \n",
       "8348     8.0\n",
       "8349     7.0\n",
       "8350     7.0\n",
       "8351     8.0\n",
       "8352     4.0\n",
       "8353     5.0\n",
       "8354     4.0\n",
       "8355     6.0\n",
       "8356     2.0\n",
       "8357     NaN\n",
       "8358     3.0\n",
       "8359     NaN\n",
       "8360     6.0\n",
       "8361     9.0\n",
       "8362     7.0\n",
       "8363     8.0\n",
       "8364     5.0\n",
       "8365     2.0\n",
       "8366     NaN\n",
       "8367     6.0\n",
       "8368     6.0\n",
       "8369     7.0\n",
       "8370     3.0\n",
       "8371     4.0\n",
       "8372     6.0\n",
       "8373     5.0\n",
       "8374     2.0\n",
       "8375     1.0\n",
       "8376     6.0\n",
       "8377     7.0\n",
       "Name: shar_o, Length: 8378, dtype: float64"
      ]
     },
     "execution_count": 89,
     "metadata": {},
     "output_type": "execute_result"
    }
   ],
   "source": [
    "dating_data['shar_o']"
   ]
  },
  {
   "cell_type": "code",
   "execution_count": 90,
   "metadata": {},
   "outputs": [
    {
     "name": "stdout",
     "output_type": "stream",
     "text": [
      "0.0 10.0\n"
     ]
    }
   ],
   "source": [
    "print(dating_data['shar_o'].min(),dating_data['shar_o'].max())"
   ]
  },
  {
   "cell_type": "code",
   "execution_count": 91,
   "metadata": {},
   "outputs": [
    {
     "data": {
      "text/plain": [
       "0        7.0\n",
       "1        8.0\n",
       "2       10.0\n",
       "3        7.0\n",
       "4        8.0\n",
       "5        7.0\n",
       "6        2.0\n",
       "7        7.0\n",
       "8        6.5\n",
       "9        6.0\n",
       "10       7.0\n",
       "11       8.0\n",
       "12      10.0\n",
       "13       9.0\n",
       "14      10.0\n",
       "15       7.0\n",
       "16       4.0\n",
       "17       7.0\n",
       "18       8.0\n",
       "19       6.0\n",
       "20       5.0\n",
       "21       7.0\n",
       "22      10.0\n",
       "23       7.0\n",
       "24       6.0\n",
       "25       6.0\n",
       "26       2.0\n",
       "27       5.0\n",
       "28       7.0\n",
       "29       5.0\n",
       "        ... \n",
       "8348     8.0\n",
       "8349     6.0\n",
       "8350     7.0\n",
       "8351     8.0\n",
       "8352     8.0\n",
       "8353     6.0\n",
       "8354     5.0\n",
       "8355     5.0\n",
       "8356     6.0\n",
       "8357     9.0\n",
       "8358     4.0\n",
       "8359     NaN\n",
       "8360     7.0\n",
       "8361     7.0\n",
       "8362     7.0\n",
       "8363     7.0\n",
       "8364     3.0\n",
       "8365     6.0\n",
       "8366     NaN\n",
       "8367     5.0\n",
       "8368     7.0\n",
       "8369     7.0\n",
       "8370     7.0\n",
       "8371     5.0\n",
       "8372     7.0\n",
       "8373     6.0\n",
       "8374     2.0\n",
       "8375     2.0\n",
       "8376     6.0\n",
       "8377     8.0\n",
       "Name: like_o, Length: 8378, dtype: float64"
      ]
     },
     "execution_count": 91,
     "metadata": {},
     "output_type": "execute_result"
    }
   ],
   "source": [
    "dating_data['like_o']"
   ]
  },
  {
   "cell_type": "code",
   "execution_count": 92,
   "metadata": {},
   "outputs": [
    {
     "name": "stdout",
     "output_type": "stream",
     "text": [
      "0.0 10.0\n"
     ]
    }
   ],
   "source": [
    "print(dating_data['like_o'].min(),dating_data['like_o'].max())"
   ]
  },
  {
   "cell_type": "code",
   "execution_count": 93,
   "metadata": {},
   "outputs": [
    {
     "data": {
      "text/plain": [
       "0        4.0\n",
       "1        4.0\n",
       "2       10.0\n",
       "3        7.0\n",
       "4        6.0\n",
       "5        6.0\n",
       "6        1.0\n",
       "7        5.0\n",
       "8        8.0\n",
       "9        6.0\n",
       "10       2.0\n",
       "11       4.0\n",
       "12      10.0\n",
       "13       7.0\n",
       "14       1.0\n",
       "15       5.0\n",
       "16       3.0\n",
       "17       6.0\n",
       "18       8.0\n",
       "19       9.0\n",
       "20       2.0\n",
       "21       3.0\n",
       "22      10.0\n",
       "23       7.0\n",
       "24       1.0\n",
       "25       7.0\n",
       "26       2.0\n",
       "27       1.0\n",
       "28       7.0\n",
       "29       5.0\n",
       "        ... \n",
       "8348     4.0\n",
       "8349     4.0\n",
       "8350     6.0\n",
       "8351     1.0\n",
       "8352     3.0\n",
       "8353     6.0\n",
       "8354     5.0\n",
       "8355     4.0\n",
       "8356     1.0\n",
       "8357     8.0\n",
       "8358     4.0\n",
       "8359     NaN\n",
       "8360     5.0\n",
       "8361     4.0\n",
       "8362     5.0\n",
       "8363     6.0\n",
       "8364     6.0\n",
       "8365     4.0\n",
       "8366     NaN\n",
       "8367     2.0\n",
       "8368     5.0\n",
       "8369     4.5\n",
       "8370     2.0\n",
       "8371     2.0\n",
       "8372     4.0\n",
       "8373     1.0\n",
       "8374     2.0\n",
       "8375     1.0\n",
       "8376     4.0\n",
       "8377     5.0\n",
       "Name: prob_o, Length: 8378, dtype: float64"
      ]
     },
     "execution_count": 93,
     "metadata": {},
     "output_type": "execute_result"
    }
   ],
   "source": [
    "dating_data['prob_o']"
   ]
  },
  {
   "cell_type": "code",
   "execution_count": 94,
   "metadata": {},
   "outputs": [
    {
     "name": "stdout",
     "output_type": "stream",
     "text": [
      "0.0 10.0\n"
     ]
    }
   ],
   "source": [
    "print(dating_data['prob_o'].min(),dating_data['prob_o'].max())"
   ]
  },
  {
   "cell_type": "code",
   "execution_count": 95,
   "metadata": {},
   "outputs": [
    {
     "data": {
      "text/plain": [
       "0       2.0\n",
       "1       2.0\n",
       "2       1.0\n",
       "3       2.0\n",
       "4       2.0\n",
       "5       2.0\n",
       "6       2.0\n",
       "7       2.0\n",
       "8       2.0\n",
       "9       2.0\n",
       "10      2.0\n",
       "11      2.0\n",
       "12      2.0\n",
       "13      2.0\n",
       "14      1.0\n",
       "15      2.0\n",
       "16      2.0\n",
       "17      2.0\n",
       "18      2.0\n",
       "19      2.0\n",
       "20      1.0\n",
       "21      2.0\n",
       "22      2.0\n",
       "23      2.0\n",
       "24      2.0\n",
       "25      2.0\n",
       "26      2.0\n",
       "27      2.0\n",
       "28      2.0\n",
       "29      2.0\n",
       "       ... \n",
       "8348    2.0\n",
       "8349    2.0\n",
       "8350    2.0\n",
       "8351    1.0\n",
       "8352    1.0\n",
       "8353    1.0\n",
       "8354    2.0\n",
       "8355    2.0\n",
       "8356    2.0\n",
       "8357    2.0\n",
       "8358    2.0\n",
       "8359    NaN\n",
       "8360    2.0\n",
       "8361    2.0\n",
       "8362    2.0\n",
       "8363    2.0\n",
       "8364    2.0\n",
       "8365    2.0\n",
       "8366    NaN\n",
       "8367    2.0\n",
       "8368    2.0\n",
       "8369    2.0\n",
       "8370    2.0\n",
       "8371    2.0\n",
       "8372    2.0\n",
       "8373    NaN\n",
       "8374    2.0\n",
       "8375    2.0\n",
       "8376    2.0\n",
       "8377    2.0\n",
       "Name: met_o, Length: 8378, dtype: float64"
      ]
     },
     "execution_count": 95,
     "metadata": {},
     "output_type": "execute_result"
    }
   ],
   "source": [
    "dating_data['met_o']"
   ]
  },
  {
   "cell_type": "code",
   "execution_count": 97,
   "metadata": {},
   "outputs": [
    {
     "name": "stdout",
     "output_type": "stream",
     "text": [
      "1.0 8.0\n"
     ]
    }
   ],
   "source": [
    "print(dating_data['met_o'].min(),dating_data['met_o'].max())"
   ]
  },
  {
   "cell_type": "code",
   "execution_count": 99,
   "metadata": {},
   "outputs": [
    {
     "data": {
      "text/plain": [
       "989     3.0\n",
       "1515    5.0\n",
       "2546    6.0\n",
       "2569    7.0\n",
       "2579    8.0\n",
       "3380    7.0\n",
       "6566    7.0\n",
       "8053    5.0\n",
       "Name: met_o, dtype: float64"
      ]
     },
     "execution_count": 99,
     "metadata": {},
     "output_type": "execute_result"
    }
   ],
   "source": [
    "dating_data['met_o'][dating_data['met_o'] > 2.0] # one record higher than max rate"
   ]
  },
  {
   "cell_type": "code",
   "execution_count": 100,
   "metadata": {},
   "outputs": [
    {
     "data": {
      "text/plain": [
       "0                    Law\n",
       "1                    Law\n",
       "2                    Law\n",
       "3                    Law\n",
       "4                    Law\n",
       "5                    Law\n",
       "6                    Law\n",
       "7                    Law\n",
       "8                    Law\n",
       "9                    Law\n",
       "10                   law\n",
       "11                   law\n",
       "12                   law\n",
       "13                   law\n",
       "14                   law\n",
       "15                   law\n",
       "16                   law\n",
       "17                   law\n",
       "18                   law\n",
       "19                   law\n",
       "20             Economics\n",
       "21             Economics\n",
       "22             Economics\n",
       "23             Economics\n",
       "24             Economics\n",
       "25             Economics\n",
       "26             Economics\n",
       "27             Economics\n",
       "28             Economics\n",
       "29             Economics\n",
       "              ...       \n",
       "8348            Business\n",
       "8349            Business\n",
       "8350            Business\n",
       "8351            Business\n",
       "8352            Business\n",
       "8353            Business\n",
       "8354            Business\n",
       "8355            Business\n",
       "8356    Climate Dynamics\n",
       "8357    Climate Dynamics\n",
       "8358    Climate Dynamics\n",
       "8359    Climate Dynamics\n",
       "8360    Climate Dynamics\n",
       "8361    Climate Dynamics\n",
       "8362    Climate Dynamics\n",
       "8363    Climate Dynamics\n",
       "8364    Climate Dynamics\n",
       "8365    Climate Dynamics\n",
       "8366    Climate Dynamics\n",
       "8367    Climate Dynamics\n",
       "8368    Climate Dynamics\n",
       "8369    Climate Dynamics\n",
       "8370    Climate Dynamics\n",
       "8371    Climate Dynamics\n",
       "8372    Climate Dynamics\n",
       "8373    Climate Dynamics\n",
       "8374    Climate Dynamics\n",
       "8375    Climate Dynamics\n",
       "8376    Climate Dynamics\n",
       "8377    Climate Dynamics\n",
       "Name: field, Length: 8378, dtype: object"
      ]
     },
     "execution_count": 100,
     "metadata": {},
     "output_type": "execute_result"
    }
   ],
   "source": [
    "dating_data['field']"
   ]
  },
  {
   "cell_type": "code",
   "execution_count": 101,
   "metadata": {},
   "outputs": [
    {
     "data": {
      "text/plain": [
       "0        3.0\n",
       "1        3.0\n",
       "2        3.0\n",
       "3        3.0\n",
       "4        3.0\n",
       "5        3.0\n",
       "6        3.0\n",
       "7        3.0\n",
       "8        3.0\n",
       "9        3.0\n",
       "10       4.0\n",
       "11       4.0\n",
       "12       4.0\n",
       "13       4.0\n",
       "14       4.0\n",
       "15       4.0\n",
       "16       4.0\n",
       "17       4.0\n",
       "18       4.0\n",
       "19       4.0\n",
       "20       4.0\n",
       "21       4.0\n",
       "22       4.0\n",
       "23       4.0\n",
       "24       4.0\n",
       "25       4.0\n",
       "26       4.0\n",
       "27       4.0\n",
       "28       4.0\n",
       "29       4.0\n",
       "        ... \n",
       "8348     3.0\n",
       "8349     3.0\n",
       "8350     3.0\n",
       "8351     3.0\n",
       "8352     3.0\n",
       "8353     3.0\n",
       "8354     3.0\n",
       "8355     3.0\n",
       "8356    10.0\n",
       "8357    10.0\n",
       "8358    10.0\n",
       "8359    10.0\n",
       "8360    10.0\n",
       "8361    10.0\n",
       "8362    10.0\n",
       "8363    10.0\n",
       "8364    10.0\n",
       "8365    10.0\n",
       "8366    10.0\n",
       "8367    10.0\n",
       "8368    10.0\n",
       "8369    10.0\n",
       "8370    10.0\n",
       "8371    10.0\n",
       "8372    10.0\n",
       "8373    10.0\n",
       "8374    10.0\n",
       "8375    10.0\n",
       "8376    10.0\n",
       "8377    10.0\n",
       "Name: exphappy, Length: 8378, dtype: float64"
      ]
     },
     "execution_count": 101,
     "metadata": {},
     "output_type": "execute_result"
    }
   ],
   "source": [
    "dating_data['exphappy']"
   ]
  },
  {
   "cell_type": "code",
   "execution_count": 102,
   "metadata": {},
   "outputs": [
    {
     "name": "stdout",
     "output_type": "stream",
     "text": [
      "1.0 10.0\n"
     ]
    }
   ],
   "source": [
    "print(dating_data['exphappy'].min(),dating_data['exphappy'].max())"
   ]
  },
  {
   "cell_type": "code",
   "execution_count": 103,
   "metadata": {},
   "outputs": [
    {
     "data": {
      "text/plain": [
       "0        35.00\n",
       "1        60.00\n",
       "2        19.00\n",
       "3        30.00\n",
       "4        30.00\n",
       "5        50.00\n",
       "6        35.00\n",
       "7        33.33\n",
       "8        50.00\n",
       "9       100.00\n",
       "10       35.00\n",
       "11       60.00\n",
       "12       19.00\n",
       "13       30.00\n",
       "14       30.00\n",
       "15       50.00\n",
       "16       35.00\n",
       "17       33.33\n",
       "18       50.00\n",
       "19      100.00\n",
       "20       35.00\n",
       "21       60.00\n",
       "22       19.00\n",
       "23       30.00\n",
       "24       30.00\n",
       "25       50.00\n",
       "26       35.00\n",
       "27       33.33\n",
       "28       50.00\n",
       "29      100.00\n",
       "         ...  \n",
       "8348     10.00\n",
       "8349     15.00\n",
       "8350     10.00\n",
       "8351     10.00\n",
       "8352     50.00\n",
       "8353     40.00\n",
       "8354     10.00\n",
       "8355     20.00\n",
       "8356     10.00\n",
       "8357     25.00\n",
       "8358     20.00\n",
       "8359     20.00\n",
       "8360     20.00\n",
       "8361     20.00\n",
       "8362     20.00\n",
       "8363     58.00\n",
       "8364     15.00\n",
       "8365     20.00\n",
       "8366     40.00\n",
       "8367     25.00\n",
       "8368     10.00\n",
       "8369     10.00\n",
       "8370     10.00\n",
       "8371     15.00\n",
       "8372     10.00\n",
       "8373     10.00\n",
       "8374     50.00\n",
       "8375     40.00\n",
       "8376     10.00\n",
       "8377     20.00\n",
       "Name: pf_o_att, Length: 8378, dtype: float64"
      ]
     },
     "execution_count": 103,
     "metadata": {},
     "output_type": "execute_result"
    }
   ],
   "source": [
    "dating_data['pf_o_att']"
   ]
  },
  {
   "cell_type": "code",
   "execution_count": 105,
   "metadata": {},
   "outputs": [
    {
     "name": "stdout",
     "output_type": "stream",
     "text": [
      "0.0 100.0\n"
     ]
    }
   ],
   "source": [
    "print(dating_data['pf_o_att'].min(),dating_data['pf_o_att'].max())"
   ]
  },
  {
   "cell_type": "code",
   "execution_count": 106,
   "metadata": {},
   "outputs": [
    {
     "data": {
      "text/plain": [
       "0       20.00\n",
       "1        0.00\n",
       "2       18.00\n",
       "3        5.00\n",
       "4       10.00\n",
       "5        0.00\n",
       "6       15.00\n",
       "7       11.11\n",
       "8        0.00\n",
       "9        0.00\n",
       "10      20.00\n",
       "11       0.00\n",
       "12      18.00\n",
       "13       5.00\n",
       "14      10.00\n",
       "15       0.00\n",
       "16      15.00\n",
       "17      11.11\n",
       "18       0.00\n",
       "19       0.00\n",
       "20      20.00\n",
       "21       0.00\n",
       "22      18.00\n",
       "23       5.00\n",
       "24      10.00\n",
       "25       0.00\n",
       "26      15.00\n",
       "27      11.11\n",
       "28       0.00\n",
       "29       0.00\n",
       "        ...  \n",
       "8348    25.00\n",
       "8349    20.00\n",
       "8350    15.00\n",
       "8351    10.00\n",
       "8352    20.00\n",
       "8353    10.00\n",
       "8354    25.00\n",
       "8355    20.00\n",
       "8356    20.00\n",
       "8357    25.00\n",
       "8358    10.00\n",
       "8359    20.00\n",
       "8360    20.00\n",
       "8361    20.00\n",
       "8362    20.00\n",
       "8363     5.00\n",
       "8364    20.00\n",
       "8365    25.00\n",
       "8366     5.00\n",
       "8367    15.00\n",
       "8368    30.00\n",
       "8369    20.00\n",
       "8370    25.00\n",
       "8371    20.00\n",
       "8372    15.00\n",
       "8373    10.00\n",
       "8374    20.00\n",
       "8375    10.00\n",
       "8376    25.00\n",
       "8377    20.00\n",
       "Name: pf_o_sin, Length: 8378, dtype: float64"
      ]
     },
     "execution_count": 106,
     "metadata": {},
     "output_type": "execute_result"
    }
   ],
   "source": [
    "dating_data['pf_o_sin']"
   ]
  },
  {
   "cell_type": "code",
   "execution_count": 107,
   "metadata": {},
   "outputs": [
    {
     "name": "stdout",
     "output_type": "stream",
     "text": [
      "0.0 60.0\n"
     ]
    }
   ],
   "source": [
    "print(dating_data['pf_o_sin'].min(),dating_data['pf_o_sin'].max())"
   ]
  },
  {
   "cell_type": "code",
   "execution_count": 108,
   "metadata": {},
   "outputs": [
    {
     "data": {
      "text/plain": [
       "0       20.00\n",
       "1        0.00\n",
       "2       19.00\n",
       "3       15.00\n",
       "4       20.00\n",
       "5       30.00\n",
       "6       25.00\n",
       "7       11.11\n",
       "8       25.00\n",
       "9        0.00\n",
       "10      20.00\n",
       "11       0.00\n",
       "12      19.00\n",
       "13      15.00\n",
       "14      20.00\n",
       "15      30.00\n",
       "16      25.00\n",
       "17      11.11\n",
       "18      25.00\n",
       "19       0.00\n",
       "20      20.00\n",
       "21       0.00\n",
       "22      19.00\n",
       "23      15.00\n",
       "24      20.00\n",
       "25      30.00\n",
       "26      25.00\n",
       "27      11.11\n",
       "28      25.00\n",
       "29       0.00\n",
       "        ...  \n",
       "8348    20.00\n",
       "8349    25.00\n",
       "8350    30.00\n",
       "8351    30.00\n",
       "8352    10.00\n",
       "8353    30.00\n",
       "8354    25.00\n",
       "8355    10.00\n",
       "8356    30.00\n",
       "8357    25.00\n",
       "8358    10.00\n",
       "8359    20.00\n",
       "8360    20.00\n",
       "8361    20.00\n",
       "8362    20.00\n",
       "8363     8.00\n",
       "8364    20.00\n",
       "8365    25.00\n",
       "8366    30.00\n",
       "8367    25.00\n",
       "8368    20.00\n",
       "8369    15.00\n",
       "8370    20.00\n",
       "8371    25.00\n",
       "8372    30.00\n",
       "8373    30.00\n",
       "8374    10.00\n",
       "8375    30.00\n",
       "8376    25.00\n",
       "8377    10.00\n",
       "Name: pf_o_int, Length: 8378, dtype: float64"
      ]
     },
     "execution_count": 108,
     "metadata": {},
     "output_type": "execute_result"
    }
   ],
   "source": [
    "dating_data['pf_o_int']"
   ]
  },
  {
   "cell_type": "code",
   "execution_count": 109,
   "metadata": {},
   "outputs": [
    {
     "name": "stdout",
     "output_type": "stream",
     "text": [
      "0.0 50.0\n"
     ]
    }
   ],
   "source": [
    "print(dating_data['pf_o_int'].min(),dating_data['pf_o_int'].max())"
   ]
  },
  {
   "cell_type": "code",
   "execution_count": 111,
   "metadata": {},
   "outputs": [
    {
     "name": "stdout",
     "output_type": "stream",
     "text": [
      "0       20.00\n",
      "1        0.00\n",
      "2       19.00\n",
      "3       15.00\n",
      "4       20.00\n",
      "5       30.00\n",
      "6       25.00\n",
      "7       11.11\n",
      "8       25.00\n",
      "9        0.00\n",
      "10      20.00\n",
      "11       0.00\n",
      "12      19.00\n",
      "13      15.00\n",
      "14      20.00\n",
      "15      30.00\n",
      "16      25.00\n",
      "17      11.11\n",
      "18      25.00\n",
      "19       0.00\n",
      "20      20.00\n",
      "21       0.00\n",
      "22      19.00\n",
      "23      15.00\n",
      "24      20.00\n",
      "25      30.00\n",
      "26      25.00\n",
      "27      11.11\n",
      "28      25.00\n",
      "29       0.00\n",
      "        ...  \n",
      "8348    20.00\n",
      "8349    25.00\n",
      "8350    30.00\n",
      "8351    30.00\n",
      "8352    10.00\n",
      "8353    30.00\n",
      "8354    25.00\n",
      "8355    10.00\n",
      "8356    30.00\n",
      "8357    25.00\n",
      "8358    10.00\n",
      "8359    20.00\n",
      "8360    20.00\n",
      "8361    20.00\n",
      "8362    20.00\n",
      "8363     8.00\n",
      "8364    20.00\n",
      "8365    25.00\n",
      "8366    30.00\n",
      "8367    25.00\n",
      "8368    20.00\n",
      "8369    15.00\n",
      "8370    20.00\n",
      "8371    25.00\n",
      "8372    30.00\n",
      "8373    30.00\n",
      "8374    10.00\n",
      "8375    30.00\n",
      "8376    25.00\n",
      "8377    10.00\n",
      "Name: pf_o_int, Length: 8378, dtype: float64\n",
      "0.0 50.0\n"
     ]
    }
   ],
   "source": [
    "print(dating_data['pf_o_int'])\n",
    "print(dating_data['pf_o_int'].min(),dating_data['pf_o_int'].max())"
   ]
  },
  {
   "cell_type": "code",
   "execution_count": 112,
   "metadata": {},
   "outputs": [
    {
     "name": "stdout",
     "output_type": "stream",
     "text": [
      "0       20.00\n",
      "1       40.00\n",
      "2       18.00\n",
      "3       40.00\n",
      "4       10.00\n",
      "5       10.00\n",
      "6       10.00\n",
      "7       11.11\n",
      "8       10.00\n",
      "9        0.00\n",
      "10      20.00\n",
      "11      40.00\n",
      "12      18.00\n",
      "13      40.00\n",
      "14      10.00\n",
      "15      10.00\n",
      "16      10.00\n",
      "17      11.11\n",
      "18      10.00\n",
      "19       0.00\n",
      "20      20.00\n",
      "21      40.00\n",
      "22      18.00\n",
      "23      40.00\n",
      "24      10.00\n",
      "25      10.00\n",
      "26      10.00\n",
      "27      11.11\n",
      "28      10.00\n",
      "29       0.00\n",
      "        ...  \n",
      "8348    20.00\n",
      "8349    20.00\n",
      "8350    20.00\n",
      "8351    20.00\n",
      "8352     5.00\n",
      "8353    10.00\n",
      "8354    10.00\n",
      "8355    15.00\n",
      "8356    10.00\n",
      "8357    12.00\n",
      "8358    30.00\n",
      "8359    20.00\n",
      "8360    20.00\n",
      "8361    15.00\n",
      "8362    15.00\n",
      "8363    10.00\n",
      "8364    20.00\n",
      "8365    30.00\n",
      "8366    15.00\n",
      "8367    15.00\n",
      "8368    15.00\n",
      "8369    20.00\n",
      "8370    20.00\n",
      "8371    20.00\n",
      "8372    20.00\n",
      "8373    20.00\n",
      "8374     5.00\n",
      "8375    10.00\n",
      "8376    10.00\n",
      "8377    15.00\n",
      "Name: pf_o_fun, Length: 8378, dtype: float64\n",
      "0.0 50.0\n"
     ]
    }
   ],
   "source": [
    "print(dating_data['pf_o_fun'])\n",
    "print(dating_data['pf_o_fun'].min(),dating_data['pf_o_fun'].max())"
   ]
  },
  {
   "cell_type": "code",
   "execution_count": 113,
   "metadata": {},
   "outputs": [
    {
     "name": "stdout",
     "output_type": "stream",
     "text": [
      "0        0.00\n",
      "1        0.00\n",
      "2       14.00\n",
      "3        5.00\n",
      "4       10.00\n",
      "5        0.00\n",
      "6        5.00\n",
      "7       11.11\n",
      "8        0.00\n",
      "9        0.00\n",
      "10       0.00\n",
      "11       0.00\n",
      "12      14.00\n",
      "13       5.00\n",
      "14      10.00\n",
      "15       0.00\n",
      "16       5.00\n",
      "17      11.11\n",
      "18       0.00\n",
      "19       0.00\n",
      "20       0.00\n",
      "21       0.00\n",
      "22      14.00\n",
      "23       5.00\n",
      "24      10.00\n",
      "25       0.00\n",
      "26       5.00\n",
      "27      11.11\n",
      "28       0.00\n",
      "29       0.00\n",
      "        ...  \n",
      "8348     5.00\n",
      "8349    10.00\n",
      "8350    15.00\n",
      "8351    10.00\n",
      "8352    10.00\n",
      "8353    10.00\n",
      "8354    10.00\n",
      "8355     5.00\n",
      "8356    10.00\n",
      "8357     3.00\n",
      "8358    15.00\n",
      "8359     5.00\n",
      "8360     5.00\n",
      "8361     5.00\n",
      "8362    10.00\n",
      "8363     7.00\n",
      "8364     5.00\n",
      "8365     5.00\n",
      "8366     5.00\n",
      "8367    10.00\n",
      "8368    15.00\n",
      "8369    15.00\n",
      "8370     5.00\n",
      "8371    10.00\n",
      "8372    15.00\n",
      "8373    10.00\n",
      "8374    10.00\n",
      "8375    10.00\n",
      "8376    10.00\n",
      "8377     5.00\n",
      "Name: pf_o_amb, Length: 8378, dtype: float64\n",
      "0.0 53.0\n"
     ]
    }
   ],
   "source": [
    "print(dating_data['pf_o_amb'])\n",
    "print(dating_data['pf_o_amb'].min(),dating_data['pf_o_amb'].max())"
   ]
  },
  {
   "cell_type": "code",
   "execution_count": 114,
   "metadata": {},
   "outputs": [
    {
     "name": "stdout",
     "output_type": "stream",
     "text": [
      "0        5.00\n",
      "1        0.00\n",
      "2       12.00\n",
      "3        5.00\n",
      "4       20.00\n",
      "5       10.00\n",
      "6       10.00\n",
      "7       22.22\n",
      "8       15.00\n",
      "9        0.00\n",
      "10       5.00\n",
      "11       0.00\n",
      "12      12.00\n",
      "13       5.00\n",
      "14      20.00\n",
      "15      10.00\n",
      "16      10.00\n",
      "17      22.22\n",
      "18      15.00\n",
      "19       0.00\n",
      "20       5.00\n",
      "21       0.00\n",
      "22      12.00\n",
      "23       5.00\n",
      "24      20.00\n",
      "25      10.00\n",
      "26      10.00\n",
      "27      22.22\n",
      "28      15.00\n",
      "29       0.00\n",
      "        ...  \n",
      "8348    20.00\n",
      "8349    10.00\n",
      "8350    10.00\n",
      "8351    15.00\n",
      "8352     5.00\n",
      "8353      NaN\n",
      "8354    20.00\n",
      "8355    30.00\n",
      "8356    20.00\n",
      "8357    10.00\n",
      "8358    15.00\n",
      "8359    15.00\n",
      "8360    15.00\n",
      "8361    20.00\n",
      "8362    15.00\n",
      "8363    12.00\n",
      "8364    10.00\n",
      "8365     5.00\n",
      "8366     5.00\n",
      "8367    10.00\n",
      "8368    10.00\n",
      "8369    20.00\n",
      "8370    20.00\n",
      "8371    10.00\n",
      "8372    10.00\n",
      "8373    15.00\n",
      "8374     5.00\n",
      "8375      NaN\n",
      "8376    20.00\n",
      "8377    30.00\n",
      "Name: pf_o_sha, Length: 8378, dtype: float64\n",
      "0.0 30.0\n"
     ]
    }
   ],
   "source": [
    "print(dating_data['pf_o_sha'])\n",
    "print(dating_data['pf_o_sha'].min(),dating_data['pf_o_sha'].max())"
   ]
  },
  {
   "cell_type": "code",
   "execution_count": 116,
   "metadata": {},
   "outputs": [
    {
     "name": "stdout",
     "output_type": "stream",
     "text": [
      "0       21.0\n",
      "1       21.0\n",
      "2       21.0\n",
      "3       21.0\n",
      "4       21.0\n",
      "5       21.0\n",
      "6       21.0\n",
      "7       21.0\n",
      "8       21.0\n",
      "9       21.0\n",
      "10      24.0\n",
      "11      24.0\n",
      "12      24.0\n",
      "13      24.0\n",
      "14      24.0\n",
      "15      24.0\n",
      "16      24.0\n",
      "17      24.0\n",
      "18      24.0\n",
      "19      24.0\n",
      "20      25.0\n",
      "21      25.0\n",
      "22      25.0\n",
      "23      25.0\n",
      "24      25.0\n",
      "25      25.0\n",
      "26      25.0\n",
      "27      25.0\n",
      "28      25.0\n",
      "29      25.0\n",
      "        ... \n",
      "8348    27.0\n",
      "8349    27.0\n",
      "8350    27.0\n",
      "8351    27.0\n",
      "8352    27.0\n",
      "8353    27.0\n",
      "8354    27.0\n",
      "8355    27.0\n",
      "8356    25.0\n",
      "8357    25.0\n",
      "8358    25.0\n",
      "8359    25.0\n",
      "8360    25.0\n",
      "8361    25.0\n",
      "8362    25.0\n",
      "8363    25.0\n",
      "8364    25.0\n",
      "8365    25.0\n",
      "8366    25.0\n",
      "8367    25.0\n",
      "8368    25.0\n",
      "8369    25.0\n",
      "8370    25.0\n",
      "8371    25.0\n",
      "8372    25.0\n",
      "8373    25.0\n",
      "8374    25.0\n",
      "8375    25.0\n",
      "8376    25.0\n",
      "8377    25.0\n",
      "Name: age, Length: 8378, dtype: float64\n",
      "18.0 55.0\n"
     ]
    }
   ],
   "source": [
    "print(dating_data['age'])\n",
    "print(dating_data['age'].min(),dating_data['age'].max())"
   ]
  },
  {
   "cell_type": "code",
   "execution_count": 119,
   "metadata": {},
   "outputs": [
    {
     "name": "stdout",
     "output_type": "stream",
     "text": [
      "0                    Law\n",
      "1                    Law\n",
      "2                    Law\n",
      "3                    Law\n",
      "4                    Law\n",
      "5                    Law\n",
      "6                    Law\n",
      "7                    Law\n",
      "8                    Law\n",
      "9                    Law\n",
      "10                   law\n",
      "11                   law\n",
      "12                   law\n",
      "13                   law\n",
      "14                   law\n",
      "15                   law\n",
      "16                   law\n",
      "17                   law\n",
      "18                   law\n",
      "19                   law\n",
      "20             Economics\n",
      "21             Economics\n",
      "22             Economics\n",
      "23             Economics\n",
      "24             Economics\n",
      "25             Economics\n",
      "26             Economics\n",
      "27             Economics\n",
      "28             Economics\n",
      "29             Economics\n",
      "              ...       \n",
      "8348            Business\n",
      "8349            Business\n",
      "8350            Business\n",
      "8351            Business\n",
      "8352            Business\n",
      "8353            Business\n",
      "8354            Business\n",
      "8355            Business\n",
      "8356    Climate Dynamics\n",
      "8357    Climate Dynamics\n",
      "8358    Climate Dynamics\n",
      "8359    Climate Dynamics\n",
      "8360    Climate Dynamics\n",
      "8361    Climate Dynamics\n",
      "8362    Climate Dynamics\n",
      "8363    Climate Dynamics\n",
      "8364    Climate Dynamics\n",
      "8365    Climate Dynamics\n",
      "8366    Climate Dynamics\n",
      "8367    Climate Dynamics\n",
      "8368    Climate Dynamics\n",
      "8369    Climate Dynamics\n",
      "8370    Climate Dynamics\n",
      "8371    Climate Dynamics\n",
      "8372    Climate Dynamics\n",
      "8373    Climate Dynamics\n",
      "8374    Climate Dynamics\n",
      "8375    Climate Dynamics\n",
      "8376    Climate Dynamics\n",
      "8377    Climate Dynamics\n",
      "Name: field, Length: 8378, dtype: object\n"
     ]
    }
   ],
   "source": [
    "print(dating_data['field'])"
   ]
  },
  {
   "cell_type": "code",
   "execution_count": 120,
   "metadata": {},
   "outputs": [
    {
     "name": "stdout",
     "output_type": "stream",
     "text": [
      "0        1.0\n",
      "1        1.0\n",
      "2        1.0\n",
      "3        1.0\n",
      "4        1.0\n",
      "5        1.0\n",
      "6        1.0\n",
      "7        1.0\n",
      "8        1.0\n",
      "9        1.0\n",
      "10       1.0\n",
      "11       1.0\n",
      "12       1.0\n",
      "13       1.0\n",
      "14       1.0\n",
      "15       1.0\n",
      "16       1.0\n",
      "17       1.0\n",
      "18       1.0\n",
      "19       1.0\n",
      "20       2.0\n",
      "21       2.0\n",
      "22       2.0\n",
      "23       2.0\n",
      "24       2.0\n",
      "25       2.0\n",
      "26       2.0\n",
      "27       2.0\n",
      "28       2.0\n",
      "29       2.0\n",
      "        ... \n",
      "8348     8.0\n",
      "8349     8.0\n",
      "8350     8.0\n",
      "8351     8.0\n",
      "8352     8.0\n",
      "8353     8.0\n",
      "8354     8.0\n",
      "8355     8.0\n",
      "8356    18.0\n",
      "8357    18.0\n",
      "8358    18.0\n",
      "8359    18.0\n",
      "8360    18.0\n",
      "8361    18.0\n",
      "8362    18.0\n",
      "8363    18.0\n",
      "8364    18.0\n",
      "8365    18.0\n",
      "8366    18.0\n",
      "8367    18.0\n",
      "8368    18.0\n",
      "8369    18.0\n",
      "8370    18.0\n",
      "8371    18.0\n",
      "8372    18.0\n",
      "8373    18.0\n",
      "8374    18.0\n",
      "8375    18.0\n",
      "8376    18.0\n",
      "8377    18.0\n",
      "Name: field_cd, Length: 8378, dtype: float64\n",
      "1.0 18.0\n"
     ]
    }
   ],
   "source": [
    "print(dating_data['field_cd'])\n",
    "print(dating_data['field_cd'].min(),dating_data['field_cd'].max())"
   ]
  },
  {
   "cell_type": "code",
   "execution_count": 123,
   "metadata": {},
   "outputs": [
    {
     "data": {
      "text/plain": [
       "count    8296.000000\n",
       "mean        7.662488\n",
       "std         3.758935\n",
       "min         1.000000\n",
       "25%         5.000000\n",
       "50%         8.000000\n",
       "75%        10.000000\n",
       "max        18.000000\n",
       "Name: field_cd, dtype: float64"
      ]
     },
     "execution_count": 123,
     "metadata": {},
     "output_type": "execute_result"
    }
   ],
   "source": [
    "dating_data['field_cd'].describe()"
   ]
  },
  {
   "cell_type": "code",
   "execution_count": 125,
   "metadata": {},
   "outputs": [
    {
     "name": "stdout",
     "output_type": "stream",
     "text": [
      "<class 'pandas.core.frame.DataFrame'>\n",
      "RangeIndex: 8378 entries, 0 to 8377\n",
      "Columns: 195 entries, iid to amb5_3\n",
      "dtypes: float64(174), int64(13), object(8)\n",
      "memory usage: 12.5+ MB\n"
     ]
    }
   ],
   "source": [
    "dating_data.info()"
   ]
  },
  {
   "cell_type": "code",
   "execution_count": 129,
   "metadata": {},
   "outputs": [],
   "source": [
    "dating_data['field_cd'] = dating_data['field_cd'].astype('category')"
   ]
  },
  {
   "cell_type": "code",
   "execution_count": 130,
   "metadata": {},
   "outputs": [
    {
     "data": {
      "text/plain": [
       "count     8296.0\n",
       "unique      18.0\n",
       "top          8.0\n",
       "freq      1925.0\n",
       "Name: field_cd, dtype: float64"
      ]
     },
     "execution_count": 130,
     "metadata": {},
     "output_type": "execute_result"
    }
   ],
   "source": [
    "dating_data['field_cd'].describe()"
   ]
  },
  {
   "cell_type": "code",
   "execution_count": 138,
   "metadata": {},
   "outputs": [
    {
     "data": {
      "text/plain": [
       "504    NaN\n",
       "505    NaN\n",
       "506    NaN\n",
       "507    NaN\n",
       "508    NaN\n",
       "509    NaN\n",
       "510    NaN\n",
       "511    NaN\n",
       "512    NaN\n",
       "513    NaN\n",
       "514    NaN\n",
       "515    NaN\n",
       "516    NaN\n",
       "517    NaN\n",
       "518    NaN\n",
       "519    NaN\n",
       "520    NaN\n",
       "521    NaN\n",
       "522    NaN\n",
       "828    NaN\n",
       "829    NaN\n",
       "830    NaN\n",
       "831    NaN\n",
       "832    NaN\n",
       "833    NaN\n",
       "834    NaN\n",
       "835    NaN\n",
       "836    NaN\n",
       "837    NaN\n",
       "838    NaN\n",
       "        ..\n",
       "5012   NaN\n",
       "5013   NaN\n",
       "5014   NaN\n",
       "5015   NaN\n",
       "5016   NaN\n",
       "5017   NaN\n",
       "5018   NaN\n",
       "5019   NaN\n",
       "5020   NaN\n",
       "5021   NaN\n",
       "5022   NaN\n",
       "5023   NaN\n",
       "5114   NaN\n",
       "5115   NaN\n",
       "5116   NaN\n",
       "5117   NaN\n",
       "5118   NaN\n",
       "5119   NaN\n",
       "5120   NaN\n",
       "5121   NaN\n",
       "5122   NaN\n",
       "5123   NaN\n",
       "5124   NaN\n",
       "5125   NaN\n",
       "5126   NaN\n",
       "5127   NaN\n",
       "5128   NaN\n",
       "5129   NaN\n",
       "5130   NaN\n",
       "5131   NaN\n",
       "Name: field_cd, Length: 82, dtype: category\n",
       "Categories (18, float64): [1.0, 2.0, 3.0, 4.0, ..., 15.0, 16.0, 17.0, 18.0]"
      ]
     },
     "execution_count": 138,
     "metadata": {},
     "output_type": "execute_result"
    }
   ],
   "source": [
    "dating_data['field_cd'][pd.isnull(dating_data['field_cd'])]\n"
   ]
  },
  {
   "cell_type": "code",
   "execution_count": 131,
   "metadata": {},
   "outputs": [],
   "source": [
    "dating_data['position'] = dating_data['position'].astype('category')"
   ]
  },
  {
   "cell_type": "code",
   "execution_count": 132,
   "metadata": {},
   "outputs": [
    {
     "data": {
      "text/plain": [
       "count     8378\n",
       "unique      22\n",
       "top          2\n",
       "freq       554\n",
       "Name: position, dtype: int64"
      ]
     },
     "execution_count": 132,
     "metadata": {},
     "output_type": "execute_result"
    }
   ],
   "source": [
    "dating_data['position'].describe()"
   ]
  },
  {
   "cell_type": "code",
   "execution_count": null,
   "metadata": {},
   "outputs": [],
   "source": [
    "dating_data['position'][pd.isnull(dating_data['position'])]"
   ]
  },
  {
   "cell_type": "code",
   "execution_count": null,
   "metadata": {},
   "outputs": [],
   "source": []
  }
 ],
 "metadata": {
  "kernelspec": {
   "display_name": "Python 3",
   "language": "python",
   "name": "python3"
  },
  "language_info": {
   "codemirror_mode": {
    "name": "ipython",
    "version": 3
   },
   "file_extension": ".py",
   "mimetype": "text/x-python",
   "name": "python",
   "nbconvert_exporter": "python",
   "pygments_lexer": "ipython3",
   "version": "3.6.3"
  }
 },
 "nbformat": 4,
 "nbformat_minor": 2
}
